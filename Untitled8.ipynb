{
  "nbformat": 4,
  "nbformat_minor": 0,
  "metadata": {
    "colab": {
      "provenance": [],
      "authorship_tag": "ABX9TyP/n18gq/+Xw5Zmqixb8qP2",
      "include_colab_link": true
    },
    "kernelspec": {
      "name": "python3",
      "display_name": "Python 3"
    },
    "language_info": {
      "name": "python"
    }
  },
  "cells": [
    {
      "cell_type": "markdown",
      "metadata": {
        "id": "view-in-github",
        "colab_type": "text"
      },
      "source": [
        "<a href=\"https://colab.research.google.com/github/sefahw/AI-first-asignment/blob/master/Untitled8.ipynb\" target=\"_parent\"><img src=\"https://colab.research.google.com/assets/colab-badge.svg\" alt=\"Open In Colab\"/></a>"
      ]
    },
    {
      "cell_type": "code",
      "execution_count": 1,
      "metadata": {
        "id": "mA1JpYF9B5ht"
      },
      "outputs": [],
      "source": [
        "import numpy as np\n",
        "import pandas as pd\n",
        "import seaborn as sns\n",
        "import matplotlib.pyplot as plt\n"
      ]
    },
    {
      "cell_type": "code",
      "source": [
        "class ScratchLogisticRegression():\n",
        "    \"\"\"\n",
        "    Scratch implementation of logistic regression\n",
        "    Parameters\n",
        "    ----------\n",
        "    num_iter : int\n",
        "      Number of iterations\n",
        "    lr : float\n",
        "      learning rate\n",
        "    no_bias : bool\n",
        "      True if no bias term is included.\n",
        "    verbose : bool\n",
        "      True if you want to output the learning process.\n",
        "\n",
        "    Attributes\n",
        "    ----------\n",
        "    self.coef_ : The following form of ndarray, shape (n_features,)\n",
        "      Parameters\n",
        "    self.loss : The following form of ndarray, shape (self.iter,)\n",
        "      Record loss to training data\n",
        "    self.val_loss : The following form of ndarray, shape (self.iter,)\n",
        "      Record loss against verification data\n",
        "    \"\"\"\n",
        "    \n",
        "    def __init__(self, num_iter=100, lr=0.01, C=1,\n",
        "                 random_state=None,bias=False, verbose=False):\n",
        "        # Record hyperparameters as attributes\n",
        "        self.iter = num_iter\n",
        "        self.lr = lr\n",
        "        self.bias = bias\n",
        "        self.verbose = verbose\n",
        "        self.C = C\n",
        "        self.lamda = 1/self.C\n",
        "        self.random_state = random_state\n",
        "        \n",
        "        # Prepare an array to record the loss\n",
        "        self.loss = np.zeros(self.iter)\n",
        "        self.val_loss = np.zeros(self.iter)\n",
        "    \n",
        "    def _linear_combination(self,X):\n",
        "        \"\"\"\n",
        "        Join linearly\n",
        "\n",
        "        Parameters\n",
        "        ----------\n",
        "        X : The following form of ndarray, shape (n_samples, n_features)\n",
        "          Training data\n",
        "\n",
        "        Returns\n",
        "        -------\n",
        "          The following form of ndarray, shape (n_samples, n_features+1)\n",
        "          linear combination\n",
        "        \"\"\"\n",
        "        x1 = X\n",
        "        \n",
        "        # Create x0 (bias term)\n",
        "        if self.bias == True:\n",
        "            x0 = np.ones(x1.shape[0])\n",
        "        else:\n",
        "            x0 = np.zeros(x1.shape[0])\n",
        "        \n",
        "        return np.concatenate([x0.reshape(-1,1),x1],axis=1)\n",
        "        \n",
        "        \n",
        "    def _hypothetical_function(self,X):\n",
        "        \"\"\"\n",
        "        Compute the assumed function of a linear\n",
        "\n",
        "        Parameters\n",
        "        ----------\n",
        "        X : The following form of ndarray, shape (n_samples, n_features)\n",
        "          Training data\n",
        "\n",
        "        Returns\n",
        "        -------\n",
        "          The following form of ndarray, shape (n_samples, 1)\n",
        "          Estimation results with linear assumed functions\n",
        "\n",
        "        \"\"\"\n",
        "        x = X\n",
        "        z = np.dot(x,self.theta)\n",
        "        \n",
        "        return 1/(1+np.exp(-z))\n",
        "    \n",
        "    def _gradient_descent(self, X, error):\n",
        "        \"\"\"\n",
        "        Using the steepest descent method, the value of θ is updated and learned.\n",
        "        Parameters\n",
        "        ----------\n",
        "        X : The following form of ndarray, shape (n_samples, n_features)\n",
        "            Features of training data\n",
        "        error : Error between true value and estimated value\n",
        "        \"\"\"\n",
        "        # tmp to add regularization (lamda) to i=1,2,...\n",
        "        self.tmp = np.append(0,np.ones(X.shape[1]-1))\n",
        "        self.theta -= self.lr*(np.dot(error,X) + self.tmp*self.lamda*self.theta)/len(X)\n",
        "        \n",
        "        #self.theta -= self.lr*np.dot(error,X)/len(X)\n",
        "        #self.theta[1:] -= self.lr*self.lamda*self.theta[1:]/len(X)\n",
        "        \n",
        "    def _loss_function(self, y, yhat):\n",
        "        \"\"\"\n",
        "        Calculate the loss function for logistic regression.\n",
        "        Parameters\n",
        "        ----------\n",
        "        y : The following form of ndarray, shape (n_samples, )\n",
        "            Correct answer value of training data\n",
        "        yhat : The following form of ndarray, shape (n_samples, )\n",
        "            Correct value of validation data\n",
        "        \"\"\"\n",
        "        \n",
        "        return np.mean(-y*np.log(yhat) -(1-y)*np.log(1-yhat))+0.5*self.lamda*np.mean(self.theta[1:]**2)\n",
        "        \n",
        "    def fit(self, X, y, X_val=False, y_val=False):\n",
        "        \"\"\"\n",
        "        Learn logistic regression.\n",
        "        When valid data is input, the loss and accuracy for it are also calculated for each iteration.\n",
        "        When valid data is input, the loss and accuracy for it are also calculated for each iteration.\n",
        "\n",
        "        Parameters\n",
        "        ----------\n",
        "        X : The following form of ndarray, shape (n_samples, n_features)\n",
        "            Features of training data\n",
        "        y : The following form of ndarray, shape (n_samples, )\n",
        "            Correct answer value of training data\n",
        "        X_val : The following form of ndarray, shape (n_samples, n_features)\n",
        "            Features of validation data\n",
        "        y_val : The following form of ndarray, shape (n_samples, )\n",
        "            Correct value of validation data\n",
        "        \"\"\"\n",
        "        # Get the label value of y\n",
        "        self.ylabel = np.unique(y)\n",
        "        \n",
        "        # Replace the label value of y with 0,1\n",
        "        y = np.where(y==self.ylabel[0],0,1)\n",
        "        \n",
        "        if (type(y_val) != bool):\n",
        "            y_val = np.where(y_val==self.ylabel[0],0,1)\n",
        "        \n",
        "        # linear combination\n",
        "        X = self._linear_combination(X)\n",
        "        \n",
        "        # Give the initial value of parameter θ as a random number.\n",
        "        np.random.seed(self.random_state)\n",
        "        self.theta = np.random.rand(X.shape[1])\n",
        "        \n",
        "        for i in range(self.iter):\n",
        "            # Predicted probability\n",
        "            yhat = self._hypothetical_function(X)\n",
        "            \n",
        "            # measurement error\n",
        "            error = yhat - y            \n",
        "            self.loss[i] = self._loss_function(y,yhat)\n",
        "            \n",
        "            if (type(X_val) != bool):\n",
        "                val_X = self._linear_combination(X_val)\n",
        "                val_yhat = self._hypothetical_function(val_X)\n",
        "                \n",
        "                self.val_loss[i] = self._loss_function(y_val,val_yhat)\n",
        "            \n",
        "            self._gradient_descent(X, error)\n",
        "            \n",
        "            # Outputs the learning process when verbose is set to true.\n",
        "            if self.verbose:\n",
        "                print('n_iter:', i,\n",
        "                      'loss:',self.loss[i],\n",
        "                      'theta:',self.theta)\n",
        "            \n",
        "        # Save θ\n",
        "        np.save('theta', self.theta)\n",
        "        \n",
        "            \n",
        "\n",
        "    def predict(self, X):\n",
        "        \"\"\"\n",
        "        Use logistic regression to estimate the labels.\n",
        "        Parameters\n",
        "        ----------\n",
        "        X : The following form of ndarray, shape (n_samples, n_features)\n",
        "            Sample\n",
        "\n",
        "        Returns\n",
        "        -------\n",
        "            The following form of ndarray, shape (n_samples, 1)\n",
        "            Estimation results by logistic regression\n",
        "        \"\"\"\n",
        "        X = self._linear_combination(X)\n",
        "        yhat = self._hypothetical_function(X)\n",
        "        \n",
        "        return np.where(yhat<0.5,self.ylabel[0],self.ylabel[1])\n",
        "    \n",
        "    def predict_proba(self, X):\n",
        "        \"\"\"\n",
        "        Use logistic regression to estimate probabilities.\n",
        "        Parameters\n",
        "        ----------\n",
        "        X : The following form of ndarray, shape (n_samples, n_features)\n",
        "            Sample\n",
        "\n",
        "        Returns\n",
        "        -------\n",
        "            The following form of ndarray, shape (n_samples, 1)\n",
        "            Estimation results by logistic regression\n",
        "        \"\"\"\n",
        "        X = self._linear_combination(X)\n",
        "        \n",
        "        return self._hypothetical_function(X)"
      ],
      "metadata": {
        "id": "1u5hCzXPCRWq"
      },
      "execution_count": 2,
      "outputs": []
    },
    {
      "cell_type": "code",
      "source": [
        "x1=np.array([0,1,2,3,4,5,6,7,8])\n",
        "y=np.array([2,4,2,1,6,7,8,5,2])\n",
        "x0= np.ones(x1.shape[0])\n",
        "X=np.concatenate([x0.reshape(-1,1),x1.reshape(-1,1)],axis=1)\n",
        "print('x:\\n',X)"
      ],
      "metadata": {
        "colab": {
          "base_uri": "https://localhost:8080/"
        },
        "id": "PnUz0JdqlnKq",
        "outputId": "fa93c1ee-7825-4bd1-f700-5fb0adca20b9"
      },
      "execution_count": 3,
      "outputs": [
        {
          "output_type": "stream",
          "name": "stdout",
          "text": [
            "x:\n",
            " [[1. 0.]\n",
            " [1. 1.]\n",
            " [1. 2.]\n",
            " [1. 3.]\n",
            " [1. 4.]\n",
            " [1. 5.]\n",
            " [1. 6.]\n",
            " [1. 7.]\n",
            " [1. 8.]]\n"
          ]
        }
      ]
    },
    {
      "cell_type": "code",
      "source": [
        "\n",
        "theta=np.random.randn(X.shape[1])\n",
        "print('theta:\\n',theta)"
      ],
      "metadata": {
        "colab": {
          "base_uri": "https://localhost:8080/"
        },
        "id": "JC4N1B560D6A",
        "outputId": "4682b77c-b708-4f84-8164-852673cd4c11"
      },
      "execution_count": 4,
      "outputs": [
        {
          "output_type": "stream",
          "name": "stdout",
          "text": [
            "theta:\n",
            " [0.49449862 0.29677067]\n"
          ]
        }
      ]
    },
    {
      "cell_type": "code",
      "source": [
        "z=np.dot(X,theta)\n",
        "print('z:\\n',z)"
      ],
      "metadata": {
        "colab": {
          "base_uri": "https://localhost:8080/"
        },
        "id": "iia8rTQ802gA",
        "outputId": "fe4b2508-ee70-4273-8995-a9df3bb88a7a"
      },
      "execution_count": 5,
      "outputs": [
        {
          "output_type": "stream",
          "name": "stdout",
          "text": [
            "z:\n",
            " [0.49449862 0.79126929 1.08803996 1.38481063 1.6815813  1.97835197\n",
            " 2.27512264 2.57189331 2.86866398]\n"
          ]
        }
      ]
    },
    {
      "cell_type": "code",
      "source": [
        "y=1/(1+np.exp(-z))\n",
        "print('y:\\n',y)"
      ],
      "metadata": {
        "colab": {
          "base_uri": "https://localhost:8080/"
        },
        "id": "9NsdB6GV2FGP",
        "outputId": "0088ea35-bcf5-40e4-a71f-94b13bafaa9e"
      },
      "execution_count": 6,
      "outputs": [
        {
          "output_type": "stream",
          "name": "stdout",
          "text": [
            "y:\n",
            " [0.62116562 0.68810381 0.74801245 0.7997625  0.84311381 0.87850537\n",
            " 0.90679564 0.92903063 0.94627547]\n"
          ]
        }
      ]
    },
    {
      "cell_type": "code",
      "source": [
        "print "
      ],
      "metadata": {
        "colab": {
          "base_uri": "https://localhost:8080/"
        },
        "id": "rtAn4qlDUsAP",
        "outputId": "e249c4e3-b8c1-4710-b3f8-9cdd2e12e1cd"
      },
      "execution_count": 7,
      "outputs": [
        {
          "output_type": "execute_result",
          "data": {
            "text/plain": [
              "<function print>"
            ]
          },
          "metadata": {},
          "execution_count": 7
        }
      ]
    },
    {
      "cell_type": "code",
      "source": [
        "z1=np.arange(-50,50,0.1)\n",
        "y1=1/(1+np.exp(-z1))\n",
        "\n",
        "plt .scatter(z1,y1)\n",
        "plt.show;\n",
        " "
      ],
      "metadata": {
        "id": "yzjna9vL2pYc",
        "colab": {
          "base_uri": "https://localhost:8080/",
          "height": 265
        },
        "outputId": "3be0d9b1-ddfd-4d0d-fd23-55ad1e094157"
      },
      "execution_count": 8,
      "outputs": [
        {
          "output_type": "display_data",
          "data": {
            "text/plain": [
              "<Figure size 432x288 with 1 Axes>"
            ],
            "image/png": "[encoded data removed]"
          },
          "metadata": {
            "needs_background": "light"
          }
        }
      ]
    },
    {
      "cell_type": "code",
      "source": [
        "X.shape"
      ],
      "metadata": {
        "id": "ZYzO2UR93RFw",
        "colab": {
          "base_uri": "https://localhost:8080/"
        },
        "outputId": "bd878709-f364-47c1-954f-4e015fd05fa5"
      },
      "execution_count": 9,
      "outputs": [
        {
          "output_type": "execute_result",
          "data": {
            "text/plain": [
              "(9, 2)"
            ]
          },
          "metadata": {},
          "execution_count": 9
        }
      ]
    },
    {
      "cell_type": "code",
      "source": [
        "y.shape"
      ],
      "metadata": {
        "id": "TZKUgIdw4Jde",
        "colab": {
          "base_uri": "https://localhost:8080/"
        },
        "outputId": "b9e2f13f-d750-4f39-ad08-d76bfdc9565d"
      },
      "execution_count": 10,
      "outputs": [
        {
          "output_type": "execute_result",
          "data": {
            "text/plain": [
              "(9,)"
            ]
          },
          "metadata": {},
          "execution_count": 10
        }
      ]
    },
    {
      "cell_type": "code",
      "source": [
        "x1=np.array([2,1,5,6,4]).reshape(-1,1)\n",
        "x0= np.ones(x1.shape[0])\n",
        "x=np.concatenate([x0.reshape(-1,1),x1.reshape(-1,1)],axis=1)\n",
        "y=np.array([0.4,0.5,0.2,0.1,0.9])\n",
        "yhat=np.where(y<0.5,0,1)\n",
        "y_test=np.array([1,1,0,0,1])\n",
        "print('x:\\n',x)\n",
        "print('y:\\n',y)\n",
        "print('yhat:\\n',yhat)\n",
        "print('ytest:\\n',y_test)"
      ],
      "metadata": {
        "colab": {
          "base_uri": "https://localhost:8080/"
        },
        "id": "s99qL9LY4Lih",
        "outputId": "e456779d-1257-4ee4-9034-1051346df323"
      },
      "execution_count": 11,
      "outputs": [
        {
          "output_type": "stream",
          "name": "stdout",
          "text": [
            "x:\n",
            " [[1. 2.]\n",
            " [1. 1.]\n",
            " [1. 5.]\n",
            " [1. 6.]\n",
            " [1. 4.]]\n",
            "y:\n",
            " [0.4 0.5 0.2 0.1 0.9]\n",
            "yhat:\n",
            " [0 1 0 0 1]\n",
            "ytest:\n",
            " [1 1 0 0 1]\n"
          ]
        }
      ]
    },
    {
      "cell_type": "code",
      "source": [
        "theta=np.random.randn(x.shape[1])\n",
        "print('theta:\\n',theta)"
      ],
      "metadata": {
        "colab": {
          "base_uri": "https://localhost:8080/"
        },
        "id": "8W3wRo29AuBh",
        "outputId": "3c62070d-650a-47a1-97b0-b065285178cb"
      },
      "execution_count": 12,
      "outputs": [
        {
          "output_type": "stream",
          "name": "stdout",
          "text": [
            "theta:\n",
            " [0.11532056 1.18023895]\n"
          ]
        }
      ]
    },
    {
      "cell_type": "code",
      "source": [
        "error=yhat-y_test\n",
        "print('error:\\n',error)"
      ],
      "metadata": {
        "colab": {
          "base_uri": "https://localhost:8080/"
        },
        "id": "DuYg0qF8BfWU",
        "outputId": "86dbbfbe-7d97-4613-bc29-485abb275ceb"
      },
      "execution_count": 13,
      "outputs": [
        {
          "output_type": "stream",
          "name": "stdout",
          "text": [
            "error:\n",
            " [-1  0  0  0  0]\n"
          ]
        }
      ]
    },
    {
      "cell_type": "code",
      "source": [
        "lm=np.array([0,1])\n",
        "theta*lm"
      ],
      "metadata": {
        "colab": {
          "base_uri": "https://localhost:8080/"
        },
        "id": "D3Nah0FsBtb7",
        "outputId": "997e8acf-42f8-4b94-9af3-9f86a8fc3525"
      },
      "execution_count": 14,
      "outputs": [
        {
          "output_type": "execute_result",
          "data": {
            "text/plain": [
              "array([0.        , 1.18023895])"
            ]
          },
          "metadata": {},
          "execution_count": 14
        }
      ]
    },
    {
      "cell_type": "code",
      "source": [
        "0.01*np.dot(error,x)/len(x)+theta*lm/len(x)"
      ],
      "metadata": {
        "colab": {
          "base_uri": "https://localhost:8080/"
        },
        "id": "YfmTzxzlB744",
        "outputId": "e1050fcf-616a-4fe2-9488-c766d02f9a78"
      },
      "execution_count": 15,
      "outputs": [
        {
          "output_type": "execute_result",
          "data": {
            "text/plain": [
              "array([-0.002     ,  0.23204779])"
            ]
          },
          "metadata": {},
          "execution_count": 15
        }
      ]
    },
    {
      "cell_type": "code",
      "source": [
        "theta-=(0.01*np.dot(error,x)/len(x)+theta*lm/len(x))\n",
        "print ('theta:\\n', theta)\n"
      ],
      "metadata": {
        "colab": {
          "base_uri": "https://localhost:8080/"
        },
        "id": "v3QZEznPCetP",
        "outputId": "ed81838e-b208-4183-9da1-2345509e9d5b"
      },
      "execution_count": 16,
      "outputs": [
        {
          "output_type": "stream",
          "name": "stdout",
          "text": [
            "theta:\n",
            " [0.11732056 0.94819116]\n"
          ]
        }
      ]
    },
    {
      "cell_type": "code",
      "source": [
        "theta-=(0.01*np.dot(error,x)/len(x)+theta*lm/len(x))\n",
        "theta"
      ],
      "metadata": {
        "colab": {
          "base_uri": "https://localhost:8080/"
        },
        "id": "1b2ZhRRuC_ul",
        "outputId": "66294116-3ce9-4a5e-ed23-4d919acb5179"
      },
      "execution_count": 17,
      "outputs": [
        {
          "output_type": "execute_result",
          "data": {
            "text/plain": [
              "array([0.11932056, 0.76255293])"
            ]
          },
          "metadata": {},
          "execution_count": 17
        }
      ]
    },
    {
      "cell_type": "code",
      "source": [
        "\n",
        "x1=np.array([2,1,5,6,4]).reshape(-1,1)\n",
        "x2=np.array([2,1,5,2,4]).reshape(-1,1)\n",
        "y=np.array([1,1,0,0,1])\n",
        "print('x1:\\n',x1)\n",
        "print('x2:\\n',x2)\n",
        "print('y:\\n',y)\n"
      ],
      "metadata": {
        "colab": {
          "base_uri": "https://localhost:8080/"
        },
        "id": "6l3WgfGpD-ll",
        "outputId": "9fa9936b-ce3d-420d-e8c3-ce88a148a879"
      },
      "execution_count": 18,
      "outputs": [
        {
          "output_type": "stream",
          "name": "stdout",
          "text": [
            "x1:\n",
            " [[2]\n",
            " [1]\n",
            " [5]\n",
            " [6]\n",
            " [4]]\n",
            "x2:\n",
            " [[2]\n",
            " [1]\n",
            " [5]\n",
            " [2]\n",
            " [4]]\n",
            "y:\n",
            " [1 1 0 0 1]\n"
          ]
        }
      ]
    },
    {
      "cell_type": "code",
      "source": [
        "import numpy as np\n",
        "clf=ScratchLogisticRegression()\n",
        "clf.fit(x1,y,x1,y)\n",
        "y_proba=clf.predict_proba(x2)\n",
        "y_pred=clf.predict(x2)"
      ],
      "metadata": {
        "id": "oyUxQUb5FVxf"
      },
      "execution_count": 19,
      "outputs": []
    },
    {
      "cell_type": "code",
      "source": [
        "print('y_proba:\\n', y_proba)\n",
        "print('y_pred:\\n',y_pred)"
      ],
      "metadata": {
        "id": "CmHmbGRAGBC5",
        "colab": {
          "base_uri": "https://localhost:8080/"
        },
        "outputId": "bfdf95c7-7555-44aa-e186-df046fefcac6"
      },
      "execution_count": 20,
      "outputs": [
        {
          "output_type": "stream",
          "name": "stdout",
          "text": [
            "y_proba:\n",
            " [0.45807861 0.47900234 0.3964688  0.45807861 0.41674248]\n",
            "y_pred:\n",
            " [0 0 0 0 0]\n"
          ]
        }
      ]
    },
    {
      "cell_type": "code",
      "source": [
        "y1=np.ones(99)\n",
        "y2=np.zeros(99)\n",
        "yh=np.arange(0.01,1.0,0.01)"
      ],
      "metadata": {
        "id": "mc6Vn5KgDQQD"
      },
      "execution_count": 21,
      "outputs": []
    },
    {
      "cell_type": "code",
      "source": [
        "j1=-y1*np.log(yh)-(1-y1)*np.log(1-yh)\n",
        "j2=y2*np.log(yh)-(1-y2)*np.log(1-yh)\n",
        "j=y1*np.log(yh)-(1-y2)*np.log(1-yh)\n",
        "\n",
        "fig,ax=plt.subplots(figsize=(8,8))\n",
        "plt.rcParams[\"font.size\"]=20\n",
        "plt.scatter(yh,j1,label='if y=1')\n",
        "plt.scatter(yh,j2,label='if y =0')\n",
        "plt.scatter(yh,j,label='LOSS')\n",
        "plt.legend();"
      ],
      "metadata": {
        "colab": {
          "base_uri": "https://localhost:8080/",
          "height": 483
        },
        "id": "0yM6JBdaFGdR",
        "outputId": "c5d54300-4e62-4f8f-edf8-c3dd8933a35a"
      },
      "execution_count": 22,
      "outputs": [
        {
          "output_type": "display_data",
          "data": {
            "text/plain": [
              "<Figure size 576x576 with 1 Axes>"
            ],
            "image/png": "[encoded data removed]"
          },
          "metadata": {
            "needs_background": "light"
          }
        }
      ]
    },
    {
      "cell_type": "code",
      "source": [
        "from sklearn.datasets import  load_iris\n",
        "data=load_iris().data\n",
        "target=load_iris().target.reshape(-1,1)\n",
        "\n",
        "\n",
        "\n"
      ],
      "metadata": {
        "id": "mV2llQRsHwjX"
      },
      "execution_count": 23,
      "outputs": []
    },
    {
      "cell_type": "code",
      "source": [
        "iris=np.concatenate([data,target],axis=1)\n",
        "iris=pd.DataFrame(iris)\n",
        "iris.shape"
      ],
      "metadata": {
        "colab": {
          "base_uri": "https://localhost:8080/"
        },
        "id": "cNZkRGzkIq7h",
        "outputId": "1ca5c8ee-e55f-4906-c05a-37ea18c2a4ca"
      },
      "execution_count": 24,
      "outputs": [
        {
          "output_type": "execute_result",
          "data": {
            "text/plain": [
              "(150, 5)"
            ]
          },
          "metadata": {},
          "execution_count": 24
        }
      ]
    },
    {
      "cell_type": "code",
      "source": [
        "disp=False\n",
        "if disp==True:\n",
        "   sns.pairplot(iris,palette='tab10');"
      ],
      "metadata": {
        "id": "9vfoJnw7I_Kz"
      },
      "execution_count": 25,
      "outputs": []
    },
    {
      "cell_type": "code",
      "source": [
        "iris_X=iris.loc[iris[4]!=0,2:3].values\n",
        "iris_y=iris.loc[iris[4]!=0,4].values\n",
        "print('iris_X.shape:',iris_X.shape)\n",
        "print('iris_y.shape:',iris_y.shape)"
      ],
      "metadata": {
        "colab": {
          "base_uri": "https://localhost:8080/"
        },
        "id": "SHtVWWn3J-3Q",
        "outputId": "509b3454-a2ff-4d68-ecd9-799494776689"
      },
      "execution_count": 26,
      "outputs": [
        {
          "output_type": "stream",
          "name": "stdout",
          "text": [
            "iris_X.shape: (100, 2)\n",
            "iris_y.shape: (100,)\n"
          ]
        }
      ]
    },
    {
      "cell_type": "code",
      "source": [
        "from sklearn.model_selection  import train_test_split\n",
        "X=iris_X\n",
        "y=iris_y\n",
        "X_train,X_valid,y_train,y_valid=\\\n",
        "train_test_split(X,y,train_size=0.8,random_state=0)\n",
        "print('X_train.shape:',X_train.shape)\n",
        "print('y_train.shape:',y_train.shape)\n",
        "print('X_valid.shape',X_valid.shape)\n",
        "print('y_valid.shape',y_valid.shape)"
      ],
      "metadata": {
        "colab": {
          "base_uri": "https://localhost:8080/"
        },
        "id": "m740sNtZLdDy",
        "outputId": "fe3affb8-82d6-413e-ba02-dcd8ee383c14"
      },
      "execution_count": 27,
      "outputs": [
        {
          "output_type": "stream",
          "name": "stdout",
          "text": [
            "X_train.shape: (80, 2)\n",
            "y_train.shape: (80,)\n",
            "X_valid.shape (20, 2)\n",
            "y_valid.shape (20,)\n"
          ]
        }
      ]
    },
    {
      "cell_type": "code",
      "source": [
        "np.unique(y)"
      ],
      "metadata": {
        "colab": {
          "base_uri": "https://localhost:8080/"
        },
        "id": "Pr6ahFCLNWCS",
        "outputId": "0573305d-07fa-42e4-be5f-b6526f43dd9b"
      },
      "execution_count": 28,
      "outputs": [
        {
          "output_type": "execute_result",
          "data": {
            "text/plain": [
              "array([1., 2.])"
            ]
          },
          "metadata": {},
          "execution_count": 28
        }
      ]
    },
    {
      "cell_type": "code",
      "source": [
        "from sklearn.preprocessing import StandardScaler\n",
        "scaler=StandardScaler()\n",
        "scaler.fit(X_train)\n",
        "X_train_std= scaler.transform(X_train)\n",
        "X_valid_std= scaler.transform(X_valid)"
      ],
      "metadata": {
        "id": "VcdBVb5yNaGd"
      },
      "execution_count": 29,
      "outputs": []
    },
    {
      "cell_type": "code",
      "source": [
        "clf=ScratchLogisticRegression(num_iter=500,lr=0.01,C=0.01,verbose=False)\n",
        "clf.fit(X_train_std,y_train,X_valid_std,y_valid)\n",
        "y_pred=clf.predict(X_valid_std)\n",
        "y_prob=clf.predict_proba(X_valid_std)"
      ],
      "metadata": {
        "id": "-gRMhJHFOamY"
      },
      "execution_count": 30,
      "outputs": []
    },
    {
      "cell_type": "code",
      "source": [
        "y_valid"
      ],
      "metadata": {
        "colab": {
          "base_uri": "https://localhost:8080/"
        },
        "id": "6VJidQOPQTRH",
        "outputId": "89a7eb74-18a3-4927-c98b-67ab71dc14cd"
      },
      "execution_count": 31,
      "outputs": [
        {
          "output_type": "execute_result",
          "data": {
            "text/plain": [
              "array([1., 2., 1., 2., 2., 2., 1., 2., 2., 2., 2., 2., 2., 1., 1., 1., 1.,\n",
              "       1., 1., 1.])"
            ]
          },
          "metadata": {},
          "execution_count": 31
        }
      ]
    },
    {
      "cell_type": "code",
      "source": [
        "y_pred"
      ],
      "metadata": {
        "colab": {
          "base_uri": "https://localhost:8080/"
        },
        "id": "joG8zANUQWlJ",
        "outputId": "d17aadcc-c9b9-4279-e74a-51e3280c1f13"
      },
      "execution_count": 32,
      "outputs": [
        {
          "output_type": "execute_result",
          "data": {
            "text/plain": [
              "array([1., 2., 1., 2., 2., 2., 1., 2., 2., 2., 2., 2., 2., 1., 1., 1., 1.,\n",
              "       1., 2., 1.])"
            ]
          },
          "metadata": {},
          "execution_count": 32
        }
      ]
    },
    {
      "cell_type": "code",
      "source": [
        "y_proba"
      ],
      "metadata": {
        "colab": {
          "base_uri": "https://localhost:8080/"
        },
        "id": "pN6Q1nztQdWI",
        "outputId": "fa818ea2-d469-48e6-ddce-a82bcc92ba74"
      },
      "execution_count": 33,
      "outputs": [
        {
          "output_type": "execute_result",
          "data": {
            "text/plain": [
              "array([0.45807861, 0.47900234, 0.3964688 , 0.45807861, 0.41674248])"
            ]
          },
          "metadata": {},
          "execution_count": 33
        }
      ]
    },
    {
      "cell_type": "code",
      "source": [
        "\n",
        "from sklearn.metrics import accuracy_score\n",
        "from sklearn.metrics import precision_score\n",
        "from sklearn.metrics import  recall_score\n",
        "from sklearn.metrics import f1_score\n",
        "accuracy=accuracy_score(y_valid,y_pred)\n",
        "precision=precision_score(y_valid,y_pred)\n",
        "recall=recall_score(y_valid,y_pred)\n",
        "f1=f1_score(y_valid,y_pred)\n",
        "print('accuracy',accuracy)\n",
        "print('precision',precision)\n",
        "print('recall',recall)\n",
        "print('f1',f1)"
      ],
      "metadata": {
        "id": "GD1T1xcKQfJu",
        "colab": {
          "base_uri": "https://localhost:8080/"
        },
        "outputId": "3e0adb12-9d3b-44f5-d3e7-f4ce8615234f"
      },
      "execution_count": 34,
      "outputs": [
        {
          "output_type": "stream",
          "name": "stdout",
          "text": [
            "accuracy 0.95\n",
            "precision 1.0\n",
            "recall 0.9\n",
            "f1 0.9473684210526316\n"
          ]
        }
      ]
    },
    {
      "cell_type": "code",
      "source": [
        "from sklearn.linear_model import LogisticRegression\n",
        "clf2=ScratchLogisticRegression()\n",
        "clf2.fit(X_train_std,y_train)\n",
        "\n",
        "\n",
        "y_pred2=clf2.predict(X_valid_std)\n",
        "y_prob2= clf2.predict_proba(X_valid_std)\n"
      ],
      "metadata": {
        "id": "MdgAPEZYNlL5"
      },
      "execution_count": 35,
      "outputs": []
    },
    {
      "cell_type": "code",
      "source": [
        "y_pred2"
      ],
      "metadata": {
        "colab": {
          "base_uri": "https://localhost:8080/"
        },
        "id": "TR3OLYTFPI2a",
        "outputId": "b547d880-86e1-4747-8b86-eb6f18c0e509"
      },
      "execution_count": 36,
      "outputs": [
        {
          "output_type": "execute_result",
          "data": {
            "text/plain": [
              "array([1., 2., 1., 2., 2., 2., 1., 2., 2., 2., 2., 2., 2., 1., 1., 1., 1.,\n",
              "       1., 1., 1.])"
            ]
          },
          "metadata": {},
          "execution_count": 36
        }
      ]
    },
    {
      "cell_type": "code",
      "source": [
        "y_prob"
      ],
      "metadata": {
        "colab": {
          "base_uri": "https://localhost:8080/"
        },
        "id": "VnTWEtzGPPGU",
        "outputId": "ccafc525-c0ca-4acc-8134-a6cccc1dc18c"
      },
      "execution_count": 37,
      "outputs": [
        {
          "output_type": "execute_result",
          "data": {
            "text/plain": [
              "array([0.45734285, 0.65162783, 0.47859973, 0.67663287, 0.59800817,\n",
              "       0.6579423 , 0.4504185 , 0.52136814, 0.63847395, 0.61202123,\n",
              "       0.57048889, 0.54964768, 0.61183311, 0.45032045, 0.30486091,\n",
              "       0.34852279, 0.47859973, 0.40859855, 0.50701685, 0.42928547])"
            ]
          },
          "metadata": {},
          "execution_count": 37
        }
      ]
    },
    {
      "cell_type": "code",
      "source": [
        "accuracy=accuracy_score(y_valid,y_pred2)\n",
        "precision=precision_score(y_valid,y_pred2)\n",
        "recall=recall_score(y_valid,y_pred2)\n",
        "f1=f1_score(y_valid,y_pred2)\n",
        "print('accuracy',accuracy)\n",
        "print('precision',precision)\n",
        "print('recall',recall)\n",
        "print('f1',f1)"
      ],
      "metadata": {
        "colab": {
          "base_uri": "https://localhost:8080/"
        },
        "id": "1hsx-pUJQkLV",
        "outputId": "448b611f-a267-4f28-80f2-23c9ff5396b4"
      },
      "execution_count": 38,
      "outputs": [
        {
          "output_type": "stream",
          "name": "stdout",
          "text": [
            "accuracy 1.0\n",
            "precision 1.0\n",
            "recall 1.0\n",
            "f1 1.0\n"
          ]
        }
      ]
    },
    {
      "cell_type": "code",
      "source": [
        "fig,ax=plt.subplots(figsize=(8,8))\n",
        "plt.rcParams[\"font.size\"]=20\n",
        "plt.scatter(range(len(clf.loss)),clf.loss,label='TRAIN')\n",
        "plt.scatter(range(len(clf.val_loss)),clf.val_loss,label='VALID')\n",
        "plt.legend();"
      ],
      "metadata": {
        "colab": {
          "base_uri": "https://localhost:8080/",
          "height": 495
        },
        "id": "clFigwbCYS4i",
        "outputId": "a4ede57a-ef84-4505-b5d9-465680f2fce6"
      },
      "execution_count": 39,
      "outputs": [
        {
          "output_type": "display_data",
          "data": {
            "text/plain": [
              "<Figure size 576x576 with 1 Axes>"
            ],
            "image/png": "[encoded data removed]"
          },
          "metadata": {
            "needs_background": "light"
          }
        }
      ]
    },
    {
      "cell_type": "code",
      "source": [
        "from matplotlib.colors import ListedColormap\n",
        "import matplotlib.patches as mpatches\n",
        "def decision_region(X,y,model,step=0.01,title='decision region',xlabel='xlabel', ylabel='ylabel',target_names=['versicolor','virginica']):\n",
        "    scatter_color=['red','blue']\n",
        "    contourf_color=['pink','skyblue']\n",
        "    n_class=2\n",
        "\n",
        "    mesh_f0,mesh_f1=np.meshgrid(np.min(X[:,0])-0.5,np.max(X[:,0])+0.5,step),np.arange(np.min(X[:,1])-0.5,\n",
        "                                                                          np.max(X[:,1])+0.5,step)\n",
        "    mesh=np.c_[np.ravel(mesh_f0),np.ravel(mesh_f1)]\n",
        "    y_pred=model.predict(mesh).reshape(mesh_f0.shape)\n",
        "\n",
        "\n",
        "    plt.title=(title)\n",
        "    plt. xlabel=(xlabel)\n",
        "    plt.ylabel=(ylabel)\n",
        "    plt.contourf(mesh_f0,mesh_f1,y_pred,n_class-1,cmap=ListedColormap(plt.contourf_color))\n",
        "    plt.contour(mesh_f0,mesh_f1,n_class-1, colors='y',linewidths=3, alpha=0.5)\n",
        "    for i, target in enumerate(set(y)):\n",
        "        plt.scatter(X[y==target][:,0],X[y==target][:,1],s=80, color=scatter_color[i],label=target_names[i],marker='o')\n",
        "    patches=[mpatches.Patch(color=scatter_color[i],label=target_names[i])for i in range(n_class)]\n",
        "    plt.legend(handles=patches)\n",
        "    plt.legend()\n",
        "    plt.show()\n"
      ],
      "metadata": {
        "id": "bIU43JuRZhZw"
      },
      "execution_count": 40,
      "outputs": []
    },
    {
      "cell_type": "code",
      "source": [
        "fit,ax=plt.subplots(figsize=(16,9))\n",
        "decision_region(X_train_std,y_train,clf,title='TRAIN')"
      ],
      "metadata": {
        "colab": {
          "base_uri": "https://localhost:8080/",
          "height": 917
        },
        "id": "Y7jun22Qc--U",
        "outputId": "0bde8457-0a80-4b6a-b8e7-2ba16e04da56"
      },
      "execution_count": 41,
      "outputs": [
        {
          "output_type": "error",
          "ename": "ValueError",
          "evalue": "ignored",
          "traceback": [
            "\u001b[0;31m---------------------------------------------------------------------------\u001b[0m",
            "\u001b[0;31mValueError\u001b[0m                                Traceback (most recent call last)",
            "\u001b[0;32m<ipython-input-41-92a8616df0fe>\u001b[0m in \u001b[0;36m<module>\u001b[0;34m\u001b[0m\n\u001b[1;32m      1\u001b[0m \u001b[0mfit\u001b[0m\u001b[0;34m,\u001b[0m\u001b[0max\u001b[0m\u001b[0;34m=\u001b[0m\u001b[0mplt\u001b[0m\u001b[0;34m.\u001b[0m\u001b[0msubplots\u001b[0m\u001b[0;34m(\u001b[0m\u001b[0mfigsize\u001b[0m\u001b[0;34m=\u001b[0m\u001b[0;34m(\u001b[0m\u001b[0;36m16\u001b[0m\u001b[0;34m,\u001b[0m\u001b[0;36m9\u001b[0m\u001b[0;34m)\u001b[0m\u001b[0;34m)\u001b[0m\u001b[0;34m\u001b[0m\u001b[0;34m\u001b[0m\u001b[0m\n\u001b[0;32m----> 2\u001b[0;31m \u001b[0mdecision_region\u001b[0m\u001b[0;34m(\u001b[0m\u001b[0mX_train_std\u001b[0m\u001b[0;34m,\u001b[0m\u001b[0my_train\u001b[0m\u001b[0;34m,\u001b[0m\u001b[0mclf\u001b[0m\u001b[0;34m,\u001b[0m\u001b[0mtitle\u001b[0m\u001b[0;34m=\u001b[0m\u001b[0;34m'TRAIN'\u001b[0m\u001b[0;34m)\u001b[0m\u001b[0;34m\u001b[0m\u001b[0;34m\u001b[0m\u001b[0m\n\u001b[0m",
            "\u001b[0;32m<ipython-input-40-3305166b4bd0>\u001b[0m in \u001b[0;36mdecision_region\u001b[0;34m(X, y, model, step, title, xlabel, ylabel, target_names)\u001b[0m\n\u001b[1;32m      8\u001b[0m     mesh_f0,mesh_f1=np.meshgrid(np.min(X[:,0])-0.5,np.max(X[:,0])+0.5,step),np.arange(np.min(X[:,1])-0.5,\n\u001b[1;32m      9\u001b[0m                                                                           np.max(X[:,1])+0.5,step)\n\u001b[0;32m---> 10\u001b[0;31m     \u001b[0mmesh\u001b[0m\u001b[0;34m=\u001b[0m\u001b[0mnp\u001b[0m\u001b[0;34m.\u001b[0m\u001b[0mc_\u001b[0m\u001b[0;34m[\u001b[0m\u001b[0mnp\u001b[0m\u001b[0;34m.\u001b[0m\u001b[0mravel\u001b[0m\u001b[0;34m(\u001b[0m\u001b[0mmesh_f0\u001b[0m\u001b[0;34m)\u001b[0m\u001b[0;34m,\u001b[0m\u001b[0mnp\u001b[0m\u001b[0;34m.\u001b[0m\u001b[0mravel\u001b[0m\u001b[0;34m(\u001b[0m\u001b[0mmesh_f1\u001b[0m\u001b[0;34m)\u001b[0m\u001b[0;34m]\u001b[0m\u001b[0;34m\u001b[0m\u001b[0;34m\u001b[0m\u001b[0m\n\u001b[0m\u001b[1;32m     11\u001b[0m     \u001b[0my_pred\u001b[0m\u001b[0;34m=\u001b[0m\u001b[0mmodel\u001b[0m\u001b[0;34m.\u001b[0m\u001b[0mpredict\u001b[0m\u001b[0;34m(\u001b[0m\u001b[0mmesh\u001b[0m\u001b[0;34m)\u001b[0m\u001b[0;34m.\u001b[0m\u001b[0mreshape\u001b[0m\u001b[0;34m(\u001b[0m\u001b[0mmesh_f0\u001b[0m\u001b[0;34m.\u001b[0m\u001b[0mshape\u001b[0m\u001b[0;34m)\u001b[0m\u001b[0;34m\u001b[0m\u001b[0;34m\u001b[0m\u001b[0m\n\u001b[1;32m     12\u001b[0m \u001b[0;34m\u001b[0m\u001b[0m\n",
            "\u001b[0;32m/usr/local/lib/python3.8/dist-packages/numpy/lib/index_tricks.py\u001b[0m in \u001b[0;36m__getitem__\u001b[0;34m(self, key)\u001b[0m\n\u001b[1;32m    411\u001b[0m                 \u001b[0mobjs\u001b[0m\u001b[0;34m[\u001b[0m\u001b[0mk\u001b[0m\u001b[0;34m]\u001b[0m \u001b[0;34m=\u001b[0m \u001b[0mobjs\u001b[0m\u001b[0;34m[\u001b[0m\u001b[0mk\u001b[0m\u001b[0;34m]\u001b[0m\u001b[0;34m.\u001b[0m\u001b[0mastype\u001b[0m\u001b[0;34m(\u001b[0m\u001b[0mfinal_dtype\u001b[0m\u001b[0;34m)\u001b[0m\u001b[0;34m\u001b[0m\u001b[0;34m\u001b[0m\u001b[0m\n\u001b[1;32m    412\u001b[0m \u001b[0;34m\u001b[0m\u001b[0m\n\u001b[0;32m--> 413\u001b[0;31m         \u001b[0mres\u001b[0m \u001b[0;34m=\u001b[0m \u001b[0mself\u001b[0m\u001b[0;34m.\u001b[0m\u001b[0mconcatenate\u001b[0m\u001b[0;34m(\u001b[0m\u001b[0mtuple\u001b[0m\u001b[0;34m(\u001b[0m\u001b[0mobjs\u001b[0m\u001b[0;34m)\u001b[0m\u001b[0;34m,\u001b[0m \u001b[0maxis\u001b[0m\u001b[0;34m=\u001b[0m\u001b[0maxis\u001b[0m\u001b[0;34m)\u001b[0m\u001b[0;34m\u001b[0m\u001b[0;34m\u001b[0m\u001b[0m\n\u001b[0m\u001b[1;32m    414\u001b[0m \u001b[0;34m\u001b[0m\u001b[0m\n\u001b[1;32m    415\u001b[0m         \u001b[0;32mif\u001b[0m \u001b[0mmatrix\u001b[0m\u001b[0;34m:\u001b[0m\u001b[0;34m\u001b[0m\u001b[0;34m\u001b[0m\u001b[0m\n",
            "\u001b[0;32m<__array_function__ internals>\u001b[0m in \u001b[0;36mconcatenate\u001b[0;34m(*args, **kwargs)\u001b[0m\n",
            "\u001b[0;31mValueError\u001b[0m: all the input array dimensions for the concatenation axis must match exactly, but along dimension 0, the array at index 0 has size 3 and the array at index 1 has size 453"
          ]
        },
        {
          "output_type": "display_data",
          "data": {
            "text/plain": [
              "<Figure size 1152x648 with 1 Axes>"
            ],
            "image/png": "[encoded data removed]"
          },
          "metadata": {
            "needs_background": "light"
          }
        }
      ]
    },
    {
      "cell_type": "code",
      "source": [
        "fit,ax=plt.subplots(figsize=(16,9))\n",
        "decision_region(X_valid_std,y_valid,clf,title='VALID')"
      ],
      "metadata": {
        "colab": {
          "base_uri": "https://localhost:8080/",
          "height": 917
        },
        "id": "xMiVxybked5f",
        "outputId": "df0ce497-08e7-44fb-f159-56ed3b93e806"
      },
      "execution_count": 42,
      "outputs": [
        {
          "output_type": "error",
          "ename": "ValueError",
          "evalue": "ignored",
          "traceback": [
            "\u001b[0;31m---------------------------------------------------------------------------\u001b[0m",
            "\u001b[0;31mValueError\u001b[0m                                Traceback (most recent call last)",
            "\u001b[0;32m<ipython-input-42-be1eb33bfb01>\u001b[0m in \u001b[0;36m<module>\u001b[0;34m\u001b[0m\n\u001b[1;32m      1\u001b[0m \u001b[0mfit\u001b[0m\u001b[0;34m,\u001b[0m\u001b[0max\u001b[0m\u001b[0;34m=\u001b[0m\u001b[0mplt\u001b[0m\u001b[0;34m.\u001b[0m\u001b[0msubplots\u001b[0m\u001b[0;34m(\u001b[0m\u001b[0mfigsize\u001b[0m\u001b[0;34m=\u001b[0m\u001b[0;34m(\u001b[0m\u001b[0;36m16\u001b[0m\u001b[0;34m,\u001b[0m\u001b[0;36m9\u001b[0m\u001b[0;34m)\u001b[0m\u001b[0;34m)\u001b[0m\u001b[0;34m\u001b[0m\u001b[0;34m\u001b[0m\u001b[0m\n\u001b[0;32m----> 2\u001b[0;31m \u001b[0mdecision_region\u001b[0m\u001b[0;34m(\u001b[0m\u001b[0mX_valid_std\u001b[0m\u001b[0;34m,\u001b[0m\u001b[0my_valid\u001b[0m\u001b[0;34m,\u001b[0m\u001b[0mclf\u001b[0m\u001b[0;34m,\u001b[0m\u001b[0mtitle\u001b[0m\u001b[0;34m=\u001b[0m\u001b[0;34m'VALID'\u001b[0m\u001b[0;34m)\u001b[0m\u001b[0;34m\u001b[0m\u001b[0;34m\u001b[0m\u001b[0m\n\u001b[0m",
            "\u001b[0;32m<ipython-input-40-3305166b4bd0>\u001b[0m in \u001b[0;36mdecision_region\u001b[0;34m(X, y, model, step, title, xlabel, ylabel, target_names)\u001b[0m\n\u001b[1;32m      8\u001b[0m     mesh_f0,mesh_f1=np.meshgrid(np.min(X[:,0])-0.5,np.max(X[:,0])+0.5,step),np.arange(np.min(X[:,1])-0.5,\n\u001b[1;32m      9\u001b[0m                                                                           np.max(X[:,1])+0.5,step)\n\u001b[0;32m---> 10\u001b[0;31m     \u001b[0mmesh\u001b[0m\u001b[0;34m=\u001b[0m\u001b[0mnp\u001b[0m\u001b[0;34m.\u001b[0m\u001b[0mc_\u001b[0m\u001b[0;34m[\u001b[0m\u001b[0mnp\u001b[0m\u001b[0;34m.\u001b[0m\u001b[0mravel\u001b[0m\u001b[0;34m(\u001b[0m\u001b[0mmesh_f0\u001b[0m\u001b[0;34m)\u001b[0m\u001b[0;34m,\u001b[0m\u001b[0mnp\u001b[0m\u001b[0;34m.\u001b[0m\u001b[0mravel\u001b[0m\u001b[0;34m(\u001b[0m\u001b[0mmesh_f1\u001b[0m\u001b[0;34m)\u001b[0m\u001b[0;34m]\u001b[0m\u001b[0;34m\u001b[0m\u001b[0;34m\u001b[0m\u001b[0m\n\u001b[0m\u001b[1;32m     11\u001b[0m     \u001b[0my_pred\u001b[0m\u001b[0;34m=\u001b[0m\u001b[0mmodel\u001b[0m\u001b[0;34m.\u001b[0m\u001b[0mpredict\u001b[0m\u001b[0;34m(\u001b[0m\u001b[0mmesh\u001b[0m\u001b[0;34m)\u001b[0m\u001b[0;34m.\u001b[0m\u001b[0mreshape\u001b[0m\u001b[0;34m(\u001b[0m\u001b[0mmesh_f0\u001b[0m\u001b[0;34m.\u001b[0m\u001b[0mshape\u001b[0m\u001b[0;34m)\u001b[0m\u001b[0;34m\u001b[0m\u001b[0;34m\u001b[0m\u001b[0m\n\u001b[1;32m     12\u001b[0m \u001b[0;34m\u001b[0m\u001b[0m\n",
            "\u001b[0;32m/usr/local/lib/python3.8/dist-packages/numpy/lib/index_tricks.py\u001b[0m in \u001b[0;36m__getitem__\u001b[0;34m(self, key)\u001b[0m\n\u001b[1;32m    411\u001b[0m                 \u001b[0mobjs\u001b[0m\u001b[0;34m[\u001b[0m\u001b[0mk\u001b[0m\u001b[0;34m]\u001b[0m \u001b[0;34m=\u001b[0m \u001b[0mobjs\u001b[0m\u001b[0;34m[\u001b[0m\u001b[0mk\u001b[0m\u001b[0;34m]\u001b[0m\u001b[0;34m.\u001b[0m\u001b[0mastype\u001b[0m\u001b[0;34m(\u001b[0m\u001b[0mfinal_dtype\u001b[0m\u001b[0;34m)\u001b[0m\u001b[0;34m\u001b[0m\u001b[0;34m\u001b[0m\u001b[0m\n\u001b[1;32m    412\u001b[0m \u001b[0;34m\u001b[0m\u001b[0m\n\u001b[0;32m--> 413\u001b[0;31m         \u001b[0mres\u001b[0m \u001b[0;34m=\u001b[0m \u001b[0mself\u001b[0m\u001b[0;34m.\u001b[0m\u001b[0mconcatenate\u001b[0m\u001b[0;34m(\u001b[0m\u001b[0mtuple\u001b[0m\u001b[0;34m(\u001b[0m\u001b[0mobjs\u001b[0m\u001b[0;34m)\u001b[0m\u001b[0;34m,\u001b[0m \u001b[0maxis\u001b[0m\u001b[0;34m=\u001b[0m\u001b[0maxis\u001b[0m\u001b[0;34m)\u001b[0m\u001b[0;34m\u001b[0m\u001b[0;34m\u001b[0m\u001b[0m\n\u001b[0m\u001b[1;32m    414\u001b[0m \u001b[0;34m\u001b[0m\u001b[0m\n\u001b[1;32m    415\u001b[0m         \u001b[0;32mif\u001b[0m \u001b[0mmatrix\u001b[0m\u001b[0;34m:\u001b[0m\u001b[0;34m\u001b[0m\u001b[0;34m\u001b[0m\u001b[0m\n",
            "\u001b[0;32m<__array_function__ internals>\u001b[0m in \u001b[0;36mconcatenate\u001b[0;34m(*args, **kwargs)\u001b[0m\n",
            "\u001b[0;31mValueError\u001b[0m: all the input array dimensions for the concatenation axis must match exactly, but along dimension 0, the array at index 0 has size 3 and the array at index 1 has size 429"
          ]
        },
        {
          "output_type": "display_data",
          "data": {
            "text/plain": [
              "<Figure size 1152x648 with 1 Axes>"
            ],
            "image/png": "[encoded data removed]"
          },
          "metadata": {
            "needs_background": "light"
          }
        }
      ]
    },
    {
      "cell_type": "code",
      "source": [
        "fit,ax=plt.subplots(figsize=(16,9))\n",
        "decision_region(X_train_std,y_train,clf2,title='TRAIN')"
      ],
      "metadata": {
        "id": "SwjKFQvper_6"
      },
      "execution_count": null,
      "outputs": []
    },
    {
      "cell_type": "code",
      "source": [
        "fit,ax=plt.subplots(figsize=(16,9))\n",
        "decision_region(X_valid_std,y_valid,clf2,title='VALID')"
      ],
      "metadata": {
        "id": "MV6MfKbOe1Lr"
      },
      "execution_count": null,
      "outputs": []
    },
    {
      "cell_type": "code",
      "source": [
        "np.load('theta.npy')"
      ],
      "metadata": {
        "id": "rgz5gASBfDS7"
      },
      "execution_count": null,
      "outputs": []
    }
  ]
}