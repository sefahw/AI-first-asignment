{
  "nbformat": 4,
  "nbformat_minor": 0,
  "metadata": {
    "colab": {
      "provenance": []
    },
    "kernelspec": {
      "name": "python3",
      "display_name": "Python 3"
    },
    "language_info": {
      "name": "python"
    }
  },
  "cells": [
    {
      "cell_type": "code",
      "execution_count": null,
      "metadata": {
        "id": "ZbinNVDwvREE"
      },
      "outputs": [],
      "source": [
        "import numpy as np\n",
        "from sklearn.model_selection import train_test_split\n",
        "from sklearn import datasets\n",
        "from sklearn.linear_model import LogisticRegression\n",
        "from sklearn.metrics import accuracy_score\n",
        "\n",
        "# Load or create your dataset (replace this with your data)\n",
        "data = datasets.load_iris()\n",
        "X = data.data\n",
        "y = data.target\n",
        "\n",
        "# Step 1: Split the dataset into a training set and a test set (e.g., 80% training and 20% test)\n",
        "X_train, X_test, y_train, y_test = train_test_split(X, y, test_size=0.9, random_state=42)\n",
        "\n",
        "# Step 2: Train the model (e.g., using Logistic Regression)\n",
        "model = LogisticRegression()\n",
        "model.fit(X_train, y_train)  # Only pass X_train and y_train as arguments\n",
        "\n",
        "# Step 3: Make predictions using the trained model on the test set\n",
        "y_pred = model.predict(X_test)\n",
        "\n",
        "# Step 4: Compare predicted labels with actual labels to calculate accuracy\n",
        "accuracy = accuracy_score(y_test, y_pred)\n",
        "print(\"Accuracy:\", accuracy)\n"
      ]
    },
    {
      "cell_type": "code",
      "source": [
        "import numpy as np\n",
        "from sklearn.model_selection import train_test_split\n",
        "from sklearn import datasets\n",
        "from sklearn.linear_model import LogisticRegression\n",
        "from sklearn.metrics import accuracy_score\n",
        "\n",
        "# Load or create your dataset (replace this with your data)\n",
        "data = datasets.load_iris()\n",
        "X = data.data\n",
        "y = data.target\n",
        "\n",
        "# Step 1: Split the dataset into a training set and a test set (e.g., 80% training and 20% test)\n",
        "X_train, X_test, y_train, y_test = train_test_split(X, y, test_size=0.9, random_state=42)\n",
        "\n",
        "# Step 2: Train the model (e.g., using Logistic Regression)\n",
        "model = LogisticRegression()\n",
        "model.fit(X_train, y_train)\n",
        "\n",
        "# Step 3: Make predictions using the trained model on the test set\n",
        "y_pred = model.predict(X_test)\n",
        "\n",
        "# Step 4: Compare predicted labels with actual labels to calculate accuracy\n",
        "accuracy = accuracy_score(y_test, y_pred)\n",
        "print(\"Accuracy:\", accuracy)\n"
      ],
      "metadata": {
        "id": "94KuPT-YvSa3"
      },
      "execution_count": null,
      "outputs": []
    }
  ]
}