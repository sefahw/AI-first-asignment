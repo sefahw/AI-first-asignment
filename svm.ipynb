{
  "nbformat": 4,
  "nbformat_minor": 0,
  "metadata": {
    "colab": {
      "provenance": [],
      "authorship_tag": "ABX9TyPejVdkXDoiBrte6zvvtmwR",
      "include_colab_link": true
    },
    "kernelspec": {
      "name": "python3",
      "display_name": "Python 3"
    },
    "language_info": {
      "name": "python"
    }
  },
  "cells": [
    {
      "cell_type": "markdown",
      "metadata": {
        "id": "view-in-github",
        "colab_type": "text"
      },
      "source": [
        "<a href=\"https://colab.research.google.com/github/sefahw/AI-first-asignment/blob/master/svm.ipynb\" target=\"_parent\"><img src=\"https://colab.research.google.com/assets/colab-badge.svg\" alt=\"Open In Colab\"/></a>"
      ]
    },
    {
      "cell_type": "code",
      "execution_count": 1,
      "metadata": {
        "id": "PlZthiBsCx4g"
      },
      "outputs": [],
      "source": [
        "class ScratchSVMClassifier():\n",
        "    def _int_(self,mun_iter=100,lr=0.01,kernel='linear',ganma=1,threshold=1e-5,verbose=False):\n",
        "        self.iter=num_iter\n",
        "        self.lr=lr\n",
        "        self.kernel=kernel\n",
        "        self.verbose=verbose\n",
        "        self.ganma=ganma\n",
        "        self.d=d\n",
        "        self.theta=theta\n",
        "    def _kernel(self,X1,X2):\n",
        "        if self.kernel=='polly':\n",
        "            self.ganma=1\n",
        "            self.theta=1\n",
        "            self.d=2\n",
        "        return(self.ganma*np.dot(X1,X2.T)+self.theta)**self.d\n",
        "    def _lamda_update(self,X,y):\n",
        "        for i in range(len(X)):\n",
        "            total=0\n",
        "            for j in range(len(X)):\n",
        "                total=self.lamda[j]*y[j]*self._kernel(X[i],X[j])\n",
        "                self.lamda[i]+=self.lr*(1-total)\n",
        "                if self.lamda[i]<0:\n",
        "                    self.lamda[i]=0\n",
        "    def fit(self,X,y,X_val=None,y_val=None):\n",
        "        self.lamda=np.random.rand(len(X))\n",
        "        self.ylabel=np.unique(y)\n",
        "        y=np.where(y==self.ylabel[0],-1,1)\n",
        "        for i in range(self.iter):\n",
        "            self._lamda_update(X,y)\n",
        "            if self.verbose:\n",
        "                print('iter_n:',i,'lamda:',self.lamda)\n",
        "        self.index_support_vectors=np.where(self.lamda>self.threshold)\n",
        "        self.X_sv=X[self.lamda>self.threshold]\n",
        "        self.n_support_vectors=len(self.X_sv)\n",
        "        self.lam_sv=self.lamda[self.lamda>self.threshold]\n",
        "        self.y_sv=y[self.lamda>self.threshold]\n",
        "        \n",
        "    def predict(self,X):\n",
        "        y_pred=np.zeros(len(X))\n",
        "        for i in range(len(X)):\n",
        "            total=0\n",
        "            for j in range(self.n_support_vector):\n",
        "                total+=self.lam_sv[j]*self_kernel(X[i],self.X_sv[j])\n",
        "                if total>=0:\n",
        "                    y_pred[i]=self.ylabel[1]\n",
        "                else:\n",
        "                    y_pred[i]=self.ylabel[0]\n",
        "        returny_pred\n",
        "        \n",
        "            \n",
        "         \n",
        "        \n",
        "    \n",
        "                "
      ]
    },
    {
      "cell_type": "code",
      "source": [
        "import numpy as np\n",
        "import matplotlib.pyplot as plt"
      ],
      "metadata": {
        "id": "Y7T-opyNDBdK"
      },
      "execution_count": 2,
      "outputs": []
    },
    {
      "cell_type": "code",
      "source": [
        "np.random.seed(seed=0)\n",
        "n_samples=100\n",
        "f0=[-1,2]\n",
        "f1=[2,-1]\n",
        "cov=([1.0,0.8],[0.8,1.0])\n",
        "f0=np.random.multivariate_normal(f0,cov,int(n_samples/2))\n",
        "f1=np.random.multivariate_normal(f1,cov,int(n_samples/2))\n",
        "X=np.concatenate((f0,f1))\n",
        "y=np.concatenate((np.ones((int(n_samples/2))),np.ones((int(n_samples/2))).astype(np.int)))\n",
        "random_index=np.random.permutation(np.arange(n_samples))\n",
        "sample1_X=X[random_index]\n",
        "sample1_y=y[random_index]"
      ],
      "metadata": {
        "id": "2EG502VuDSKf",
        "outputId": "b74c7e92-517f-45ee-950d-6e85c4a2eda4",
        "colab": {
          "base_uri": "https://localhost:8080/"
        }
      },
      "execution_count": 3,
      "outputs": [
        {
          "output_type": "stream",
          "name": "stderr",
          "text": [
            "<ipython-input-3-7a47ba3ee5fd>:9: DeprecationWarning: `np.int` is a deprecated alias for the builtin `int`. To silence this warning, use `int` by itself. Doing this will not modify any behavior and is safe. When replacing `np.int`, you may wish to use e.g. `np.int64` or `np.int32` to specify the precision. If you wish to review your current use, check the release note link for additional information.\n",
            "Deprecated in NumPy 1.20; for more details and guidance: https://numpy.org/devdocs/release/1.20.0-notes.html#deprecations\n",
            "  y=np.concatenate((np.ones((int(n_samples/2))),np.ones((int(n_samples/2))).astype(np.int)))\n"
          ]
        }
      ]
    },
    {
      "cell_type": "code",
      "source": [
        "X=sample1_X[20:40]\n",
        "y=sample1_y[20:40]\n",
        "print(X)\n",
        "print(y)"
      ],
      "metadata": {
        "colab": {
          "base_uri": "https://localhost:8080/"
        },
        "id": "49iWKoLOw0Ue",
        "outputId": "a60d7ac4-a474-4f75-e781-69ca4da88212"
      },
      "execution_count": 4,
      "outputs": [
        {
          "output_type": "stream",
          "name": "stdout",
          "text": [
            "[[ 2.55988095 -0.09906791]\n",
            " [-0.14205902  2.11124362]\n",
            " [-1.50642737  2.11125339]\n",
            " [-1.16513883  1.40174924]\n",
            " [-1.5615169   1.88535921]\n",
            " [-1.585383    0.94523063]\n",
            " [-1.00408384  2.76905831]\n",
            " [-2.46267867 -0.08076347]\n",
            " [-0.17950815  3.39022454]\n",
            " [ 0.63968522 -3.21271245]\n",
            " [-2.54738211  1.21306967]\n",
            " [-2.69336749 -0.61318911]\n",
            " [ 2.4982956   0.72754957]\n",
            " [ 1.91346848 -2.09976175]\n",
            " [ 1.00740032 -1.47176993]\n",
            " [ 3.43738711 -0.53961192]\n",
            " [ 3.14206286  0.31096066]\n",
            " [ 0.31731679  2.22551981]\n",
            " [ 2.7656298   0.19670802]\n",
            " [-0.55952028 -2.96217901]]\n",
            "[1. 1. 1. 1. 1. 1. 1. 1. 1. 1. 1. 1. 1. 1. 1. 1. 1. 1. 1. 1.]\n"
          ]
        }
      ]
    },
    {
      "cell_type": "code",
      "source": [
        "lamda=np.random.rand(len(X))\n",
        "lamda.reshape(-1,1)\n",
        "XX=np.array([1,2],[1,2],[2,4],[2,4])\n",
        "np.dot(XX[1],XX.T)\n"
      ],
      "metadata": {
        "colab": {
          "base_uri": "https://localhost:8080/",
          "height": 217
        },
        "id": "dCX4siE_xMjn",
        "outputId": "2ad41078-9d98-4e51-956f-3028ad6ab874"
      },
      "execution_count": 5,
      "outputs": [
        {
          "output_type": "error",
          "ename": "TypeError",
          "evalue": "ignored",
          "traceback": [
            "\u001b[0;31m---------------------------------------------------------------------------\u001b[0m",
            "\u001b[0;31mTypeError\u001b[0m                                 Traceback (most recent call last)",
            "\u001b[0;32m<ipython-input-5-1143a2604662>\u001b[0m in \u001b[0;36m<module>\u001b[0;34m\u001b[0m\n\u001b[1;32m      1\u001b[0m \u001b[0mlamda\u001b[0m\u001b[0;34m=\u001b[0m\u001b[0mnp\u001b[0m\u001b[0;34m.\u001b[0m\u001b[0mrandom\u001b[0m\u001b[0;34m.\u001b[0m\u001b[0mrand\u001b[0m\u001b[0;34m(\u001b[0m\u001b[0mlen\u001b[0m\u001b[0;34m(\u001b[0m\u001b[0mX\u001b[0m\u001b[0;34m)\u001b[0m\u001b[0;34m)\u001b[0m\u001b[0;34m\u001b[0m\u001b[0;34m\u001b[0m\u001b[0m\n\u001b[1;32m      2\u001b[0m \u001b[0mlamda\u001b[0m\u001b[0;34m.\u001b[0m\u001b[0mreshape\u001b[0m\u001b[0;34m(\u001b[0m\u001b[0;34m-\u001b[0m\u001b[0;36m1\u001b[0m\u001b[0;34m,\u001b[0m\u001b[0;36m1\u001b[0m\u001b[0;34m)\u001b[0m\u001b[0;34m\u001b[0m\u001b[0;34m\u001b[0m\u001b[0m\n\u001b[0;32m----> 3\u001b[0;31m \u001b[0mXX\u001b[0m\u001b[0;34m=\u001b[0m\u001b[0mnp\u001b[0m\u001b[0;34m.\u001b[0m\u001b[0marray\u001b[0m\u001b[0;34m(\u001b[0m\u001b[0;34m[\u001b[0m\u001b[0;36m1\u001b[0m\u001b[0;34m,\u001b[0m\u001b[0;36m2\u001b[0m\u001b[0;34m]\u001b[0m\u001b[0;34m,\u001b[0m\u001b[0;34m[\u001b[0m\u001b[0;36m1\u001b[0m\u001b[0;34m,\u001b[0m\u001b[0;36m2\u001b[0m\u001b[0;34m]\u001b[0m\u001b[0;34m,\u001b[0m\u001b[0;34m[\u001b[0m\u001b[0;36m2\u001b[0m\u001b[0;34m,\u001b[0m\u001b[0;36m4\u001b[0m\u001b[0;34m]\u001b[0m\u001b[0;34m,\u001b[0m\u001b[0;34m[\u001b[0m\u001b[0;36m2\u001b[0m\u001b[0;34m,\u001b[0m\u001b[0;36m4\u001b[0m\u001b[0;34m]\u001b[0m\u001b[0;34m)\u001b[0m\u001b[0;34m\u001b[0m\u001b[0;34m\u001b[0m\u001b[0m\n\u001b[0m\u001b[1;32m      4\u001b[0m \u001b[0mnp\u001b[0m\u001b[0;34m.\u001b[0m\u001b[0mdot\u001b[0m\u001b[0;34m(\u001b[0m\u001b[0mXX\u001b[0m\u001b[0;34m[\u001b[0m\u001b[0;36m1\u001b[0m\u001b[0;34m]\u001b[0m\u001b[0;34m,\u001b[0m\u001b[0mXX\u001b[0m\u001b[0;34m.\u001b[0m\u001b[0mT\u001b[0m\u001b[0;34m)\u001b[0m\u001b[0;34m\u001b[0m\u001b[0;34m\u001b[0m\u001b[0m\n",
            "\u001b[0;31mTypeError\u001b[0m: array() takes from 1 to 2 positional arguments but 4 were given"
          ]
        }
      ]
    },
    {
      "cell_type": "code",
      "source": [
        "num_iter=100\n",
        "for _ in range(num_iter):\n",
        "    for i in range(len(X)):\n",
        "        total=0\n",
        "        for j in range(len(X)):\n",
        "            total+=lamda[j]*y[i]*y[j]*np.dot(X[i]*X[j])\n",
        "        lamda[i]+=0.01*(1-total)\n",
        "        if lamda[i]<0:\n",
        "           lamda[i]=0\n",
        "    print('lamda:\\n',lamda.reshape(-1,1))          "
      ],
      "metadata": {
        "colab": {
          "base_uri": "https://localhost:8080/",
          "height": 269
        },
        "id": "zMXdVW7Ay70W",
        "outputId": "e0bb3614-fcef-4f86-f52a-c06989302ddf"
      },
      "execution_count": 6,
      "outputs": [
        {
          "output_type": "error",
          "ename": "TypeError",
          "evalue": "ignored",
          "traceback": [
            "\u001b[0;31m---------------------------------------------------------------------------\u001b[0m",
            "\u001b[0;31mTypeError\u001b[0m                                 Traceback (most recent call last)",
            "\u001b[0;32m<ipython-input-6-8b3b6266a8a3>\u001b[0m in \u001b[0;36m<module>\u001b[0;34m\u001b[0m\n\u001b[1;32m      4\u001b[0m         \u001b[0mtotal\u001b[0m\u001b[0;34m=\u001b[0m\u001b[0;36m0\u001b[0m\u001b[0;34m\u001b[0m\u001b[0;34m\u001b[0m\u001b[0m\n\u001b[1;32m      5\u001b[0m         \u001b[0;32mfor\u001b[0m \u001b[0mj\u001b[0m \u001b[0;32min\u001b[0m \u001b[0mrange\u001b[0m\u001b[0;34m(\u001b[0m\u001b[0mlen\u001b[0m\u001b[0;34m(\u001b[0m\u001b[0mX\u001b[0m\u001b[0;34m)\u001b[0m\u001b[0;34m)\u001b[0m\u001b[0;34m:\u001b[0m\u001b[0;34m\u001b[0m\u001b[0;34m\u001b[0m\u001b[0m\n\u001b[0;32m----> 6\u001b[0;31m             \u001b[0mtotal\u001b[0m\u001b[0;34m+=\u001b[0m\u001b[0mlamda\u001b[0m\u001b[0;34m[\u001b[0m\u001b[0mj\u001b[0m\u001b[0;34m]\u001b[0m\u001b[0;34m*\u001b[0m\u001b[0my\u001b[0m\u001b[0;34m[\u001b[0m\u001b[0mi\u001b[0m\u001b[0;34m]\u001b[0m\u001b[0;34m*\u001b[0m\u001b[0my\u001b[0m\u001b[0;34m[\u001b[0m\u001b[0mj\u001b[0m\u001b[0;34m]\u001b[0m\u001b[0;34m*\u001b[0m\u001b[0mnp\u001b[0m\u001b[0;34m.\u001b[0m\u001b[0mdot\u001b[0m\u001b[0;34m(\u001b[0m\u001b[0mX\u001b[0m\u001b[0;34m[\u001b[0m\u001b[0mi\u001b[0m\u001b[0;34m]\u001b[0m\u001b[0;34m*\u001b[0m\u001b[0mX\u001b[0m\u001b[0;34m[\u001b[0m\u001b[0mj\u001b[0m\u001b[0;34m]\u001b[0m\u001b[0;34m)\u001b[0m\u001b[0;34m\u001b[0m\u001b[0;34m\u001b[0m\u001b[0m\n\u001b[0m\u001b[1;32m      7\u001b[0m         \u001b[0mlamda\u001b[0m\u001b[0;34m[\u001b[0m\u001b[0mi\u001b[0m\u001b[0;34m]\u001b[0m\u001b[0;34m+=\u001b[0m\u001b[0;36m0.01\u001b[0m\u001b[0;34m*\u001b[0m\u001b[0;34m(\u001b[0m\u001b[0;36m1\u001b[0m\u001b[0;34m-\u001b[0m\u001b[0mtotal\u001b[0m\u001b[0;34m)\u001b[0m\u001b[0;34m\u001b[0m\u001b[0;34m\u001b[0m\u001b[0m\n\u001b[1;32m      8\u001b[0m         \u001b[0;32mif\u001b[0m \u001b[0mlamda\u001b[0m\u001b[0;34m[\u001b[0m\u001b[0mi\u001b[0m\u001b[0;34m]\u001b[0m\u001b[0;34m<\u001b[0m\u001b[0;36m0\u001b[0m\u001b[0;34m:\u001b[0m\u001b[0;34m\u001b[0m\u001b[0;34m\u001b[0m\u001b[0m\n",
            "\u001b[0;32m<__array_function__ internals>\u001b[0m in \u001b[0;36mdot\u001b[0;34m(*args, **kwargs)\u001b[0m\n",
            "\u001b[0;31mTypeError\u001b[0m: dot() missing 1 required positional argument: 'b'"
          ]
        }
      ]
    },
    {
      "cell_type": "code",
      "source": [
        "a=np.dot(X[0],X.T)\n",
        "print(a)"
      ],
      "metadata": {
        "colab": {
          "base_uri": "https://localhost:8080/"
        },
        "id": "anfQ6umAyVkX",
        "outputId": "c5846965-1639-4ad3-881f-a63d21d829d8"
      },
      "execution_count": 7,
      "outputs": [
        {
          "output_type": "stream",
          "name": "stdout",
          "text": [
            "[ 6.56280495 -0.57281068 -4.06543221 -3.12148507 -4.18407598 -4.15203376\n",
            " -2.84465992 -6.29616316 -0.79538197  1.95579473 -6.64117124 -6.83395278\n",
            "  6.32326249  5.10627053  2.72463005  8.85276001  8.01250064  0.5918156\n",
            "  7.06019559 -1.13884843]\n"
          ]
        }
      ]
    },
    {
      "cell_type": "code",
      "source": [
        "b=lamda*y[0]*y\n",
        "print(b)"
      ],
      "metadata": {
        "colab": {
          "base_uri": "https://localhost:8080/"
        },
        "id": "F1SEb8aOy3V_",
        "outputId": "a5023252-d422-4a86-bdc6-81d24af4e5a4"
      },
      "execution_count": 8,
      "outputs": [
        {
          "output_type": "stream",
          "name": "stdout",
          "text": [
            "[0.52459262 0.44201532 0.85263492 0.43343897 0.82687037 0.50934207\n",
            " 0.08637698 0.66003986 0.20659461 0.84727532 0.68135913 0.17836735\n",
            " 0.06985902 0.00968817 0.89204966 0.13346521 0.77919197 0.92516343\n",
            " 0.71517875 0.49081861]\n"
          ]
        }
      ]
    },
    {
      "cell_type": "code",
      "source": [
        "a*b"
      ],
      "metadata": {
        "colab": {
          "base_uri": "https://localhost:8080/"
        },
        "id": "FM_1foao1RmV",
        "outputId": "1422458f-08cb-4b7e-b885-161982192895"
      },
      "execution_count": 9,
      "outputs": [
        {
          "output_type": "execute_result",
          "data": {
            "text/plain": [
              "array([ 3.44279905, -0.25319109, -3.46632948, -1.35297329, -3.45968845,\n",
              "       -2.11480545, -0.24571313, -4.15571866, -0.16432163,  1.65709661,\n",
              "       -4.52502265, -1.21895404,  0.4417369 ,  0.04947042,  2.43050531,\n",
              "        1.18153547,  6.24327619,  0.54752615,  5.04930185, -0.558968  ])"
            ]
          },
          "metadata": {},
          "execution_count": 9
        }
      ]
    },
    {
      "cell_type": "code",
      "source": [
        "np.sum(a*b)"
      ],
      "metadata": {
        "colab": {
          "base_uri": "https://localhost:8080/"
        },
        "id": "B5ivfk6Z1WOY",
        "outputId": "a6859e4a-b9c6-4fc3-d585-e100294406a0"
      },
      "execution_count": 10,
      "outputs": [
        {
          "output_type": "execute_result",
          "data": {
            "text/plain": [
              "-0.472437925739839"
            ]
          },
          "metadata": {},
          "execution_count": 10
        }
      ]
    },
    {
      "cell_type": "code",
      "source": [
        "np.dot(a,b)"
      ],
      "metadata": {
        "colab": {
          "base_uri": "https://localhost:8080/"
        },
        "id": "bgU7gGOK1dj_",
        "outputId": "0192a66f-fcf1-44a4-8ae3-71c327af36d5"
      },
      "execution_count": 11,
      "outputs": [
        {
          "output_type": "execute_result",
          "data": {
            "text/plain": [
              "-0.4724379257398408"
            ]
          },
          "metadata": {},
          "execution_count": 11
        }
      ]
    },
    {
      "cell_type": "code",
      "source": [
        "c=np.dot(X,X.T)\n",
        "print(c.shape)"
      ],
      "metadata": {
        "colab": {
          "base_uri": "https://localhost:8080/"
        },
        "id": "v64fDKZj1iih",
        "outputId": "e65fafea-e49c-43d0-b845-1e6e8e39d46c"
      },
      "execution_count": 12,
      "outputs": [
        {
          "output_type": "stream",
          "name": "stdout",
          "text": [
            "(20, 20)\n"
          ]
        }
      ]
    },
    {
      "cell_type": "code",
      "source": [
        "d=lamda*y*y.T\n",
        "print(d.shape)"
      ],
      "metadata": {
        "colab": {
          "base_uri": "https://localhost:8080/"
        },
        "id": "9CtPj5XJ1y5u",
        "outputId": "acbcc939-1a3a-4d44-8593-105fdaf16433"
      },
      "execution_count": 13,
      "outputs": [
        {
          "output_type": "stream",
          "name": "stdout",
          "text": [
            "(20,)\n"
          ]
        }
      ]
    },
    {
      "cell_type": "code",
      "source": [
        "np.dot(c,d)"
      ],
      "metadata": {
        "colab": {
          "base_uri": "https://localhost:8080/"
        },
        "id": "k2Sv0q9x2NgE",
        "outputId": "87434e35-590d-4c0f-f528-8d817a35645f"
      },
      "execution_count": 14,
      "outputs": [
        {
          "output_type": "execute_result",
          "data": {
            "text/plain": [
              "array([ -0.47243793,   8.12142821,   8.1702798 ,   5.43049162,\n",
              "         7.30383596,   3.69051268,  10.68113513,  -0.22237337,\n",
              "        13.03961   , -12.37365666,   4.75459615,  -2.26094686,\n",
              "         2.70756697,  -8.14066502,  -5.69403166,  -2.19743562,\n",
              "         1.08302356,   8.54430966,   0.65726512, -11.36761514])"
            ]
          },
          "metadata": {},
          "execution_count": 14
        }
      ]
    },
    {
      "cell_type": "code",
      "source": [
        "threshold=1e-5\n",
        "spt_vec=X[lamda>threshold]\n",
        "print(spt_vec)"
      ],
      "metadata": {
        "colab": {
          "base_uri": "https://localhost:8080/"
        },
        "id": "X1S8aqml2Qoc",
        "outputId": "0d80155e-b9f7-4d15-e8d7-768f05684890"
      },
      "execution_count": 15,
      "outputs": [
        {
          "output_type": "stream",
          "name": "stdout",
          "text": [
            "[[ 2.55988095 -0.09906791]\n",
            " [-0.14205902  2.11124362]\n",
            " [-1.50642737  2.11125339]\n",
            " [-1.16513883  1.40174924]\n",
            " [-1.5615169   1.88535921]\n",
            " [-1.585383    0.94523063]\n",
            " [-1.00408384  2.76905831]\n",
            " [-2.46267867 -0.08076347]\n",
            " [-0.17950815  3.39022454]\n",
            " [ 0.63968522 -3.21271245]\n",
            " [-2.54738211  1.21306967]\n",
            " [-2.69336749 -0.61318911]\n",
            " [ 2.4982956   0.72754957]\n",
            " [ 1.91346848 -2.09976175]\n",
            " [ 1.00740032 -1.47176993]\n",
            " [ 3.43738711 -0.53961192]\n",
            " [ 3.14206286  0.31096066]\n",
            " [ 0.31731679  2.22551981]\n",
            " [ 2.7656298   0.19670802]\n",
            " [-0.55952028 -2.96217901]]\n"
          ]
        }
      ]
    },
    {
      "cell_type": "code",
      "source": [
        "spt_index=np.where(lamda>threshold)\n",
        "print(spt_index)"
      ],
      "metadata": {
        "colab": {
          "base_uri": "https://localhost:8080/"
        },
        "id": "GIlk_roc3I-w",
        "outputId": "45c066bf-99ee-4dfa-df14-47f7a78415c0"
      },
      "execution_count": 16,
      "outputs": [
        {
          "output_type": "stream",
          "name": "stdout",
          "text": [
            "(array([ 0,  1,  2,  3,  4,  5,  6,  7,  8,  9, 10, 11, 12, 13, 14, 15, 16,\n",
            "       17, 18, 19]),)\n"
          ]
        }
      ]
    },
    {
      "cell_type": "code",
      "source": [
        "X_test=X[0:5]\n",
        "X_test"
      ],
      "metadata": {
        "colab": {
          "base_uri": "https://localhost:8080/"
        },
        "id": "N06AJfls3bWN",
        "outputId": "5587c52c-a107-4720-c6f1-7d93e34e2cff"
      },
      "execution_count": 17,
      "outputs": [
        {
          "output_type": "execute_result",
          "data": {
            "text/plain": [
              "array([[ 2.55988095, -0.09906791],\n",
              "       [-0.14205902,  2.11124362],\n",
              "       [-1.50642737,  2.11125339],\n",
              "       [-1.16513883,  1.40174924],\n",
              "       [-1.5615169 ,  1.88535921]])"
            ]
          },
          "metadata": {},
          "execution_count": 17
        }
      ]
    },
    {
      "cell_type": "code",
      "source": [
        "for i in range(len(X_test)):\n",
        "    total=0\n",
        "    for j in range (len(spt_vec)):\n",
        "        total+=spt_lamda[j]"
      ],
      "metadata": {
        "id": "muA3eMbi3n_Q",
        "colab": {
          "base_uri": "https://localhost:8080/",
          "height": 200
        },
        "outputId": "999ad641-eaba-4984-f5fa-a9c4d9f6f4a4"
      },
      "execution_count": 18,
      "outputs": [
        {
          "output_type": "error",
          "ename": "NameError",
          "evalue": "ignored",
          "traceback": [
            "\u001b[0;31m---------------------------------------------------------------------------\u001b[0m",
            "\u001b[0;31mNameError\u001b[0m                                 Traceback (most recent call last)",
            "\u001b[0;32m<ipython-input-18-65af5faca4b4>\u001b[0m in \u001b[0;36m<module>\u001b[0;34m\u001b[0m\n\u001b[1;32m      2\u001b[0m     \u001b[0mtotal\u001b[0m\u001b[0;34m=\u001b[0m\u001b[0;36m0\u001b[0m\u001b[0;34m\u001b[0m\u001b[0;34m\u001b[0m\u001b[0m\n\u001b[1;32m      3\u001b[0m     \u001b[0;32mfor\u001b[0m \u001b[0mj\u001b[0m \u001b[0;32min\u001b[0m \u001b[0mrange\u001b[0m \u001b[0;34m(\u001b[0m\u001b[0mlen\u001b[0m\u001b[0;34m(\u001b[0m\u001b[0mspt_vec\u001b[0m\u001b[0;34m)\u001b[0m\u001b[0;34m)\u001b[0m\u001b[0;34m:\u001b[0m\u001b[0;34m\u001b[0m\u001b[0;34m\u001b[0m\u001b[0m\n\u001b[0;32m----> 4\u001b[0;31m         \u001b[0mtotal\u001b[0m\u001b[0;34m+=\u001b[0m\u001b[0mspt_lamda\u001b[0m\u001b[0;34m[\u001b[0m\u001b[0mj\u001b[0m\u001b[0;34m]\u001b[0m\u001b[0;34m\u001b[0m\u001b[0;34m\u001b[0m\u001b[0m\n\u001b[0m",
            "\u001b[0;31mNameError\u001b[0m: name 'spt_lamda' is not defined"
          ]
        }
      ]
    }
  ]
}