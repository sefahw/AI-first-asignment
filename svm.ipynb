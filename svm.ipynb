{
  "nbformat": 4,
  "nbformat_minor": 0,
  "metadata": {
    "colab": {
      "provenance": [],
      "authorship_tag": "ABX9TyOY5ed0gsQa68vkDWppQmAA",
      "include_colab_link": true
    },
    "kernelspec": {
      "name": "python3",
      "display_name": "Python 3"
    },
    "language_info": {
      "name": "python"
    }
  },
  "cells": [
    {
      "cell_type": "markdown",
      "metadata": {
        "id": "view-in-github",
        "colab_type": "text"
      },
      "source": [
        "<a href=\"https://colab.research.google.com/github/sefahw/AI-first-asignment/blob/master/svm.ipynb\" target=\"_parent\"><img src=\"https://colab.research.google.com/assets/colab-badge.svg\" alt=\"Open In Colab\"/></a>"
      ]
    },
    {
      "cell_type": "code",
      "execution_count": null,
      "metadata": {
        "id": "PlZthiBsCx4g"
      },
      "outputs": [],
      "source": [
        "class ScratchSVMClassifier():\n",
        "    \"\"\"\n",
        "    Scratch implementation of SVM classifier\n",
        "\n",
        "    Parameters\n",
        "    ----------\n",
        "    num_iter : int\n",
        "      Number of iterations\n",
        "    lr : float\n",
        "      learning rate\n",
        "    kernel : str\n",
        "      Kernel type. Linear kernel (linear) or polynomial kernel (polly)\n",
        "    threshold : float\n",
        "      Threshold for selecting support vectors\n",
        "    verbose : bool\n",
        "      True if you want to output the learning process.\n",
        "\n",
        "    Attributes\n",
        "    ----------\n",
        "    self.n_support_vectors : int\n",
        "      Number of support vectors\n",
        "    self.index_support_vectors : ndarray of the follwoing form, shape (n_support_vectors,)\n",
        "      Support vectors index\n",
        "    self.X_sv :  ndarray of the following form, shape(n_support_vectors, n_features)\n",
        "      Support vectors features\n",
        "    self.lam_sv :  ndarray of the following form, shape(n_support_vectors, 1)\n",
        "      Support vector undetermined multiplier\n",
        "    self.y_sv :  ndarray of the following form, shape(n_support_vectors, 1)\n",
        "      Support vector labels\n",
        "\n",
        "    \"\"\"\n",
        "    \n",
        "    def __init__(self, num_iter=100, lr=0.01,\n",
        "                 kernel='linear', ganma=1, d=1,theta=0,threshold=1e-5,\n",
        "                 verbose=False):\n",
        "        \n",
        "        # Record hyperparameters as attributes\n",
        "        self.iter = num_iter\n",
        "        self.lr = lr\n",
        "        self.kernel = kernel\n",
        "        self.threshold = threshold\n",
        "        self.verbose = verbose\n",
        "        self.ganma = ganma\n",
        "        self.d = d\n",
        "        self.theta = theta\n",
        "        \n",
        "    def _kernel(self,x1,x2):\n",
        "        \"\"\"\n",
        "        Compute kernel functions.\n",
        "        Parameters\n",
        "        ----------\n",
        "        X : ndarray of the following form, shape (n_samples, n_features)\n",
        "            Training data features\n",
        "        \"\"\"\n",
        "        if self.kernel == 'polly':\n",
        "            self.ganma = 1\n",
        "            self.theta = 1\n",
        "            self.d = 2\n",
        "            \n",
        "        return (self.ganma*np.dot(x1,x2.T)+self.theta)**self.d\n",
        "    \n",
        "    def _lamda_update(self,X,y):\n",
        "        \n",
        "        for i in range(len(X)):\n",
        "            total = 0\n",
        "            for j in range(len(X)):\n",
        "                total += self.lamda[j]*y[i]*y[j]*self._kernel(X[i],X[j])\n",
        "            \n",
        "            self.lamda[i] += self.lr*(1-total)\n",
        "            \n",
        "            if self.lamda[i] < 0:\n",
        "                self.lamda[i] = 0\n",
        "        \n",
        "    def fit(self, X, y, X_val=None, y_val=None):\n",
        "        \"\"\"\n",
        "        Train an SVM classifier.\n",
        "        If verification data is input, the accuracy against it is also calculated for each iteration.\n",
        "\n",
        "        Parameters\n",
        "        ----------\n",
        "        X : ndarray, shape (n_samples, n_features) of the following form\n",
        "            Training data features\n",
        "        y : ndarray, shape (n_samples, ) of the following form\n",
        "            Correct answer value of training data\n",
        "        X_val : The following form of ndarray, shape (n_samples, n_features)\n",
        "            Validation data features\n",
        "        y_val : ndarray, shape (n_samples, ) of the following form\n",
        "            Correct value of validation data\n",
        "        \"\"\"\n",
        "        \n",
        "        # Set the initial value of λ\n",
        "        self.lamda = np.random.rand(len(X))\n",
        "        \n",
        "        # Unique value of y\n",
        "        self.ylabel = np.unique(y)\n",
        "        # Replace the label value of y with -1,1\n",
        "        y = np.where(y==self.ylabel[0],-1,1)\n",
        "        \n",
        "        for i in range(self.iter):\n",
        "            self._lamda_update(X,y)\n",
        "            \n",
        "            #Outputs the learning process when verbose is set to true.\n",
        "            if self.verbose:\n",
        "                print('iter_n:',i,\n",
        "                      'lamada:',self.lamda)\n",
        "        \n",
        "        # Extraction of support vectors, specifications\n",
        "        self.index_support_vectors = np.where(self.lamda > self.threshold)\n",
        "        self.X_sv = X[self.lamda > self.threshold]\n",
        "        self.n_support_vectors = len(self.X_sv)\n",
        "        self.lam_sv = self.lamda[self.lamda > self.threshold]\n",
        "        self.y_sv = y[self.lamda > self.threshold]\n",
        "            \n",
        "    def predict(self, X):\n",
        "        \"\"\"\n",
        "        Use SVM classifier to estimate labels.\n",
        "\n",
        "        Parameters\n",
        "        ----------\n",
        "        X : ndarray, shape (n_samples, n_features) of the following form\n",
        "            Sample\n",
        "\n",
        "        Returns\n",
        "        -------\n",
        "            ndarray, shape (n_samples, 1) of the following form\n",
        "            Estimation results by SVM classifier\n",
        "        \"\"\"\n",
        "        y_pred = np.zeros(len(X))\n",
        "        \n",
        "        for i in range(len(X)):\n",
        "            total = 0\n",
        "            for j in range(self.n_support_vectors):\n",
        "                total += self.lam_sv[j]*self.y_sv[j]*self._kernel(X[i],self.X_sv[j])\n",
        "            \n",
        "            if total >= 0:\n",
        "                y_pred[i] = self.ylabel[1]\n",
        "            else:\n",
        "                y_pred[i] = self.ylabel[0]\n",
        "                \n",
        "        return y_pred\n",
        "        \n",
        "            \n",
        "         \n",
        "        \n",
        "    \n",
        "                "
      ]
    },
    {
      "cell_type": "code",
      "source": [
        "import numpy as np\n",
        "import matplotlib.pyplot as plt"
      ],
      "metadata": {
        "id": "Y7T-opyNDBdK"
      },
      "execution_count": null,
      "outputs": []
    },
    {
      "cell_type": "code",
      "source": [
        "np.random.seed(seed=0)\n",
        "\n",
        "# n_samples = 500\n",
        "n_samples = 100\n",
        "f0 = [-1, 2]\n",
        "f1 = [2, -1]\n",
        "cov = [[1.0,0.8], [0.8, 1.0]]\n",
        "f0 = np.random.multivariate_normal(f0, cov, int(n_samples/2))\n",
        "f1 = np.random.multivariate_normal(f1, cov, int(n_samples/2))\n",
        "X = np.concatenate((f0, f1))\n",
        "y = np.concatenate((np.ones((int(n_samples/2))),\n",
        "                    np.ones((int(n_samples/2))) *(-1))).astype(np.int)\n",
        "random_index = np.random.permutation(np.arange(n_samples))\n",
        "sample1_X = X[random_index]\n",
        "sample1_y = y[random_index]"
      ],
      "metadata": {
        "id": "2EG502VuDSKf",
        "colab": {
          "base_uri": "https://localhost:8080/"
        },
        "outputId": "0adc4053-58fd-485a-9dd5-50540b556314"
      },
      "execution_count": null,
      "outputs": [
        {
          "output_type": "stream",
          "name": "stderr",
          "text": [
            "<ipython-input-3-879957b0253b>:12: DeprecationWarning: `np.int` is a deprecated alias for the builtin `int`. To silence this warning, use `int` by itself. Doing this will not modify any behavior and is safe. When replacing `np.int`, you may wish to use e.g. `np.int64` or `np.int32` to specify the precision. If you wish to review your current use, check the release note link for additional information.\n",
            "Deprecated in NumPy 1.20; for more details and guidance: https://numpy.org/devdocs/release/1.20.0-notes.html#deprecations\n",
            "  np.ones((int(n_samples/2))) *(-1))).astype(np.int)\n"
          ]
        }
      ]
    },
    {
      "cell_type": "code",
      "source": [
        "X=sample1_X[20:40]\n",
        "y=sample1_y[20:40]\n",
        "print(X)\n",
        "print(y)"
      ],
      "metadata": {
        "id": "49iWKoLOw0Ue",
        "colab": {
          "base_uri": "https://localhost:8080/"
        },
        "outputId": "a39be47d-74fa-4623-c13f-0247cc172b71"
      },
      "execution_count": null,
      "outputs": [
        {
          "output_type": "stream",
          "name": "stdout",
          "text": [
            "[[ 2.55988095 -0.09906791]\n",
            " [-0.14205902  2.11124362]\n",
            " [-1.50642737  2.11125339]\n",
            " [-1.16513883  1.40174924]\n",
            " [-1.5615169   1.88535921]\n",
            " [-1.585383    0.94523063]\n",
            " [-1.00408384  2.76905831]\n",
            " [-2.46267867 -0.08076347]\n",
            " [-0.17950815  3.39022454]\n",
            " [ 0.63968522 -3.21271245]\n",
            " [-2.54738211  1.21306967]\n",
            " [-2.69336749 -0.61318911]\n",
            " [ 2.4982956   0.72754957]\n",
            " [ 1.91346848 -2.09976175]\n",
            " [ 1.00740032 -1.47176993]\n",
            " [ 3.43738711 -0.53961192]\n",
            " [ 3.14206286  0.31096066]\n",
            " [ 0.31731679  2.22551981]\n",
            " [ 2.7656298   0.19670802]\n",
            " [-0.55952028 -2.96217901]]\n",
            "[-1  1  1  1  1  1  1  1  1 -1  1  1 -1 -1 -1 -1 -1  1 -1 -1]\n"
          ]
        }
      ]
    },
    {
      "cell_type": "code",
      "source": [
        "lamda=np.random.rand(len(X))\n",
        "lamda.reshape(-1,1)\n",
        "XX=np.array(([1,2],[1,2],[2,4],[2,4]))\n",
        "np.dot(XX[1],XX.T)\n"
      ],
      "metadata": {
        "id": "dCX4siE_xMjn",
        "colab": {
          "base_uri": "https://localhost:8080/"
        },
        "outputId": "dc319465-54ce-4ea0-ba5e-d88bd6cb65d5"
      },
      "execution_count": null,
      "outputs": [
        {
          "output_type": "execute_result",
          "data": {
            "text/plain": [
              "array([ 5,  5, 10, 10])"
            ]
          },
          "metadata": {},
          "execution_count": 5
        }
      ]
    },
    {
      "cell_type": "code",
      "source": [
        "num_iter=100\n",
        "def _(self):\n",
        "    for _ in range(num_iter):\n",
        "        for i in range(len(X)):\n",
        "            total=0\n",
        "        for j in range(len(X)):\n",
        "            total+=self.lamda[j]*y[i]*y[j]*np.dot(X[i]*X[j])\n",
        "        lamda[i]+=0.01*(1-total)\n",
        "        if lamda[i]<0:\n",
        "           lamda[i]=0\n",
        "    print('lamda:\\n',lamda.reshape(-1,1))          "
      ],
      "metadata": {
        "id": "zMXdVW7Ay70W"
      },
      "execution_count": null,
      "outputs": []
    },
    {
      "cell_type": "code",
      "source": [
        "a=np.dot(X[0],X.T)\n",
        "print(a)"
      ],
      "metadata": {
        "id": "anfQ6umAyVkX",
        "colab": {
          "base_uri": "https://localhost:8080/"
        },
        "outputId": "6aff2ec8-0c28-4cf4-8136-ada9b23a36c8"
      },
      "execution_count": null,
      "outputs": [
        {
          "output_type": "stream",
          "name": "stdout",
          "text": [
            "[ 6.56280495 -0.57281068 -4.06543221 -3.12148507 -4.18407598 -4.15203376\n",
            " -2.84465992 -6.29616316 -0.79538197  1.95579473 -6.64117124 -6.83395278\n",
            "  6.32326249  5.10627053  2.72463005  8.85276001  8.01250064  0.5918156\n",
            "  7.06019559 -1.13884843]\n"
          ]
        }
      ]
    },
    {
      "cell_type": "code",
      "source": [
        "b=lamda*y[0]*y\n",
        "print(b)"
      ],
      "metadata": {
        "id": "F1SEb8aOy3V_",
        "colab": {
          "base_uri": "https://localhost:8080/"
        },
        "outputId": "d52fe962-bc1f-4d96-bc20-2c2a86aa708f"
      },
      "execution_count": null,
      "outputs": [
        {
          "output_type": "stream",
          "name": "stdout",
          "text": [
            "[ 0.52459262 -0.44201532 -0.85263492 -0.43343897 -0.82687037 -0.50934207\n",
            " -0.08637698 -0.66003986 -0.20659461  0.84727532 -0.68135913 -0.17836735\n",
            "  0.06985902  0.00968817  0.89204966  0.13346521  0.77919197 -0.92516343\n",
            "  0.71517875  0.49081861]\n"
          ]
        }
      ]
    },
    {
      "cell_type": "code",
      "source": [
        "a*b"
      ],
      "metadata": {
        "id": "FM_1foao1RmV",
        "colab": {
          "base_uri": "https://localhost:8080/"
        },
        "outputId": "0e9f2cd9-dbe4-4fbc-90bc-37463fe74447"
      },
      "execution_count": null,
      "outputs": [
        {
          "output_type": "execute_result",
          "data": {
            "text/plain": [
              "array([ 3.44279905,  0.25319109,  3.46632948,  1.35297329,  3.45968845,\n",
              "        2.11480545,  0.24571313,  4.15571866,  0.16432163,  1.65709661,\n",
              "        4.52502265,  1.21895404,  0.4417369 ,  0.04947042,  2.43050531,\n",
              "        1.18153547,  6.24327619, -0.54752615,  5.04930185, -0.558968  ])"
            ]
          },
          "metadata": {},
          "execution_count": 9
        }
      ]
    },
    {
      "cell_type": "code",
      "source": [
        "np.sum(a*b)"
      ],
      "metadata": {
        "id": "B5ivfk6Z1WOY",
        "colab": {
          "base_uri": "https://localhost:8080/"
        },
        "outputId": "e21f479e-41d9-4b08-b5c2-e4dd7e43fc69"
      },
      "execution_count": null,
      "outputs": [
        {
          "output_type": "execute_result",
          "data": {
            "text/plain": [
              "40.34594553412331"
            ]
          },
          "metadata": {},
          "execution_count": 10
        }
      ]
    },
    {
      "cell_type": "code",
      "source": [
        "np.dot(a,b)"
      ],
      "metadata": {
        "id": "bgU7gGOK1dj_",
        "colab": {
          "base_uri": "https://localhost:8080/"
        },
        "outputId": "55b650fd-53fc-4577-f711-9d178a468a8b"
      },
      "execution_count": null,
      "outputs": [
        {
          "output_type": "execute_result",
          "data": {
            "text/plain": [
              "40.3459455341233"
            ]
          },
          "metadata": {},
          "execution_count": 11
        }
      ]
    },
    {
      "cell_type": "code",
      "source": [
        "c=np.dot(X,X.T)\n",
        "print(c.shape)"
      ],
      "metadata": {
        "id": "v64fDKZj1iih",
        "colab": {
          "base_uri": "https://localhost:8080/"
        },
        "outputId": "303b6c33-5a8f-4821-be26-25a50ce9f910"
      },
      "execution_count": null,
      "outputs": [
        {
          "output_type": "stream",
          "name": "stdout",
          "text": [
            "(20, 20)\n"
          ]
        }
      ]
    },
    {
      "cell_type": "code",
      "source": [
        "d=lamda*y*y.T\n",
        "print(d.shape)"
      ],
      "metadata": {
        "id": "9CtPj5XJ1y5u",
        "colab": {
          "base_uri": "https://localhost:8080/"
        },
        "outputId": "f9b7f4e0-90d6-4a58-b83a-f701e8977f07"
      },
      "execution_count": null,
      "outputs": [
        {
          "output_type": "stream",
          "name": "stdout",
          "text": [
            "(20,)\n"
          ]
        }
      ]
    },
    {
      "cell_type": "code",
      "source": [
        "np.dot(c,d)"
      ],
      "metadata": {
        "id": "k2Sv0q9x2NgE",
        "colab": {
          "base_uri": "https://localhost:8080/"
        },
        "outputId": "69bbe0a8-6f42-4480-b1fd-6680af63320e"
      },
      "execution_count": null,
      "outputs": [
        {
          "output_type": "execute_result",
          "data": {
            "text/plain": [
              "array([ -0.47243793,   8.12142821,   8.1702798 ,   5.43049162,\n",
              "         7.30383596,   3.69051268,  10.68113513,  -0.22237337,\n",
              "        13.03961   , -12.37365666,   4.75459615,  -2.26094686,\n",
              "         2.70756697,  -8.14066502,  -5.69403166,  -2.19743562,\n",
              "         1.08302356,   8.54430966,   0.65726512, -11.36761514])"
            ]
          },
          "metadata": {},
          "execution_count": 14
        }
      ]
    },
    {
      "cell_type": "code",
      "source": [
        "threshold=1e-5\n",
        "spt_vec=X[lamda>threshold]\n",
        "print(spt_vec)"
      ],
      "metadata": {
        "id": "X1S8aqml2Qoc",
        "colab": {
          "base_uri": "https://localhost:8080/"
        },
        "outputId": "5cc34c8c-2dfe-465d-872f-7732e7013143"
      },
      "execution_count": null,
      "outputs": [
        {
          "output_type": "stream",
          "name": "stdout",
          "text": [
            "[[ 2.55988095 -0.09906791]\n",
            " [-0.14205902  2.11124362]\n",
            " [-1.50642737  2.11125339]\n",
            " [-1.16513883  1.40174924]\n",
            " [-1.5615169   1.88535921]\n",
            " [-1.585383    0.94523063]\n",
            " [-1.00408384  2.76905831]\n",
            " [-2.46267867 -0.08076347]\n",
            " [-0.17950815  3.39022454]\n",
            " [ 0.63968522 -3.21271245]\n",
            " [-2.54738211  1.21306967]\n",
            " [-2.69336749 -0.61318911]\n",
            " [ 2.4982956   0.72754957]\n",
            " [ 1.91346848 -2.09976175]\n",
            " [ 1.00740032 -1.47176993]\n",
            " [ 3.43738711 -0.53961192]\n",
            " [ 3.14206286  0.31096066]\n",
            " [ 0.31731679  2.22551981]\n",
            " [ 2.7656298   0.19670802]\n",
            " [-0.55952028 -2.96217901]]\n"
          ]
        }
      ]
    },
    {
      "cell_type": "code",
      "source": [
        "spt_index=np.where(lamda>threshold)\n",
        "print(spt_index)"
      ],
      "metadata": {
        "id": "GIlk_roc3I-w",
        "colab": {
          "base_uri": "https://localhost:8080/"
        },
        "outputId": "c72a72ca-23ce-4f41-b5b8-bdb08c74f677"
      },
      "execution_count": null,
      "outputs": [
        {
          "output_type": "stream",
          "name": "stdout",
          "text": [
            "(array([ 0,  1,  2,  3,  4,  5,  6,  7,  8,  9, 10, 11, 12, 13, 14, 15, 16,\n",
            "       17, 18, 19]),)\n"
          ]
        }
      ]
    },
    {
      "cell_type": "code",
      "source": [
        "spt_lamda=lamda[lamda>0]\n",
        "spt_y=y[lamda>0]\n",
        "print(spt_lamda)\n",
        "print(spt_y)\n"
      ],
      "metadata": {
        "id": "ySEYPNeB3Qgi",
        "colab": {
          "base_uri": "https://localhost:8080/"
        },
        "outputId": "e537e731-f16c-4bf7-ad4a-e4e2232f2970"
      },
      "execution_count": null,
      "outputs": [
        {
          "output_type": "stream",
          "name": "stdout",
          "text": [
            "[0.52459262 0.44201532 0.85263492 0.43343897 0.82687037 0.50934207\n",
            " 0.08637698 0.66003986 0.20659461 0.84727532 0.68135913 0.17836735\n",
            " 0.06985902 0.00968817 0.89204966 0.13346521 0.77919197 0.92516343\n",
            " 0.71517875 0.49081861]\n",
            "[-1  1  1  1  1  1  1  1  1 -1  1  1 -1 -1 -1 -1 -1  1 -1 -1]\n"
          ]
        }
      ]
    },
    {
      "cell_type": "code",
      "source": [
        "X_test=X[0:5]\n",
        "X_test"
      ],
      "metadata": {
        "id": "N06AJfls3bWN",
        "colab": {
          "base_uri": "https://localhost:8080/"
        },
        "outputId": "963b3e1a-de81-4a25-e1c6-5e608f1b44ab"
      },
      "execution_count": null,
      "outputs": [
        {
          "output_type": "execute_result",
          "data": {
            "text/plain": [
              "array([[ 2.55988095, -0.09906791],\n",
              "       [-0.14205902,  2.11124362],\n",
              "       [-1.50642737,  2.11125339],\n",
              "       [-1.16513883,  1.40174924],\n",
              "       [-1.5615169 ,  1.88535921]])"
            ]
          },
          "metadata": {},
          "execution_count": 18
        }
      ]
    },
    {
      "cell_type": "code",
      "source": [
        "for i in range(len(X_test)):\n",
        "    total=0\n",
        "    for j in range (len(spt_vec)):\n",
        "        total+=spt_lamda[j]*spt_y[j]*np.dot(X_test[i],spt_vec[j])\n",
        "    if  total>0:\n",
        "        print('f(X):{:.1f}.class:{}'.format(total,1))\n",
        "    else:\n",
        "        print('f(X):{:.1f}.class:{}'.format(total,-1))"
      ],
      "metadata": {
        "id": "muA3eMbi3n_Q",
        "colab": {
          "base_uri": "https://localhost:8080/"
        },
        "outputId": "854b9b73-decd-4450-c1e2-a42239880fbe"
      },
      "execution_count": null,
      "outputs": [
        {
          "output_type": "stream",
          "name": "stdout",
          "text": [
            "f(X):-40.3.class:-1\n",
            "f(X):32.2.class:1\n",
            "f(X):53.0.class:1\n",
            "f(X):37.7.class:1\n",
            "f(X):50.6.class:1\n"
          ]
        }
      ]
    },
    {
      "cell_type": "code",
      "source": [
        "fig=plt.subplots(figsize=(12,8))\n",
        "plt.rcParams[\"font.size\"]=28\n",
        "plt.scatter(sample1_X[:,0],sample1_X[:,1],s=80);"
      ],
      "metadata": {
        "id": "FF_Fwt254rWE",
        "colab": {
          "base_uri": "https://localhost:8080/",
          "height": 483
        },
        "outputId": "311088d4-1957-4c10-c667-0b67bdbef273"
      },
      "execution_count": null,
      "outputs": [
        {
          "output_type": "display_data",
          "data": {
            "text/plain": [
              "<Figure size 864x576 with 1 Axes>"
            ],
            "image/png": "[encoded data removed]"
          },
          "metadata": {
            "needs_background": "light"
          }
        }
      ]
    },
    {
      "cell_type": "code",
      "source": [
        "from sklearn.model_selection import train_test_split\n",
        "sample1_X\n",
        "sample1_y\n",
        "X_train1,X_valid1, y_train1,y_valid1=\\\n",
        "train_test_split(X,y,train_size=0.8,random_state=None)\n",
        "\n",
        "print('X_train.shape',X_train1.shape)\n",
        "print(y_train1.shape)\n",
        "print(X_valid1.shape)\n",
        "print(y_valid1.shape)"
      ],
      "metadata": {
        "id": "lp4qUBog55FY",
        "colab": {
          "base_uri": "https://localhost:8080/"
        },
        "outputId": "812b54a9-dc90-4637-a321-b20f7a22aa2f"
      },
      "execution_count": null,
      "outputs": [
        {
          "output_type": "stream",
          "name": "stdout",
          "text": [
            "X_train.shape (16, 2)\n",
            "(16,)\n",
            "(4, 2)\n",
            "(4,)\n"
          ]
        }
      ]
    },
    {
      "cell_type": "code",
      "source": [
        "clf1=ScratchSVMClassifier(num_iter=100,lr=0.01,)\n",
        "\n",
        "clf1.fit(X_train1,y_train1)\n",
        "y_pred1=clf1.predict(X_valid1)"
      ],
      "metadata": {
        "id": "ScTJWMct5g3H"
      },
      "execution_count": null,
      "outputs": []
    },
    {
      "cell_type": "code",
      "source": [
        "Show=False\n",
        "if Show:\n",
        "    print('pred:',y_pred1)\n",
        "    print('vali:',y_valid1)"
      ],
      "metadata": {
        "id": "35ERGbpy5fgs"
      },
      "execution_count": null,
      "outputs": []
    },
    {
      "cell_type": "code",
      "source": [
        "from sklearn.metrics import accuracy_score\n",
        "from sklearn.metrics import precision_score\n",
        "from sklearn.metrics import  recall_score\n",
        "from sklearn.metrics import f1_score\n",
        "accuracy=accuracy_score(y_valid1,y_pred1)\n",
        "precision=precision_score(y_valid1,y_pred1)\n",
        "recall=recall_score(y_valid1,y_pred1)\n",
        "f1=f1_score(y_valid1,y_pred1)\n",
        "print('accuracy',accuracy)\n",
        "print('precision',precision)\n",
        "print('recall',recall)\n",
        "print('f1',f1)"
      ],
      "metadata": {
        "id": "NZE9ZFLw7S0g",
        "colab": {
          "base_uri": "https://localhost:8080/"
        },
        "outputId": "ec9c8c89-a1f3-431d-def2-3dc9846d0615"
      },
      "execution_count": null,
      "outputs": [
        {
          "output_type": "stream",
          "name": "stdout",
          "text": [
            "accuracy 1.0\n",
            "precision 1.0\n",
            "recall 1.0\n",
            "f1 1.0\n"
          ]
        }
      ]
    },
    {
      "cell_type": "code",
      "source": [
        "from sklearn.svm import SVC\n",
        "\n",
        "clf_sk=SVC()\n",
        "\n",
        "clf_sk.fit(X_train1,y_train1)\n",
        "y_pred_sk=clf_sk.predict(X_valid1)"
      ],
      "metadata": {
        "id": "f6Gu-K1E8w6Q"
      },
      "execution_count": null,
      "outputs": []
    },
    {
      "cell_type": "code",
      "source": [
        "accuracy=accuracy_score(y_valid1,y_pred_sk)\n",
        "precision=precision_score(y_valid1,y_pred_sk)\n",
        "recall=recall_score(y_valid1,y_pred_sk)\n",
        "f1=f1_score(y_valid1,y_pred_sk)\n",
        "print('accuracy',accuracy)\n",
        "print('precision',precision)\n",
        "print('recall',recall)\n",
        "print('f1',f1)"
      ],
      "metadata": {
        "id": "OeNtpfeaBOEv",
        "colab": {
          "base_uri": "https://localhost:8080/"
        },
        "outputId": "9f45f153-1f7a-4b1d-a735-779e5e4fc9e0"
      },
      "execution_count": null,
      "outputs": [
        {
          "output_type": "stream",
          "name": "stdout",
          "text": [
            "accuracy 1.0\n",
            "precision 1.0\n",
            "recall 1.0\n",
            "f1 1.0\n"
          ]
        }
      ]
    },
    {
      "cell_type": "code",
      "source": [
        "from matplotlib.colors import ListedColormap\n",
        "import matplotlib.patches as mpatches\n",
        "def decision_region(X,y,model,step=0.01,\n",
        "                    title='decision region',\n",
        "                    xlabel='xlabel',\n",
        "                    ylabel='ylabel',\n",
        "                    target_names=['versicolor', 'virginica']):\n",
        "    \n",
        "    # setting\n",
        "    scatter_color = ['red', 'blue']\n",
        "    contourf_color = ['pink', 'skyblue']\n",
        "    n_class = 2\n",
        "    mesh_f0, mesh_f1  = np.meshgrid(np.arange(np.min(X[:,0])-0.5, np.max(X[:,0])+0.5, step), np.arange(np.min(X[:,1])-0.5, np.max(X[:,1])+0.5, step))\n",
        "    mesh = np.c_[np.ravel(mesh_f0),np.ravel(mesh_f1)]\n",
        "    y_pred = model.predict(mesh).reshape(mesh_f0.shape)\n",
        "    \n",
        "    # plot\n",
        "    plt.title(title)\n",
        "    plt.xlabel(xlabel)\n",
        "    plt.ylabel(ylabel)\n",
        "    plt.contourf(mesh_f0, mesh_f1, y_pred, n_class-1, cmap=ListedColormap(contourf_color))\n",
        "    plt.contour(mesh_f0, mesh_f1, y_pred, n_class-1, colors='y', linewidths=3, alpha=0.5)\n",
        "    for i, target in enumerate(set(y)):\n",
        "        plt.scatter(X[y==target][:, 0], X[y==target][:, 1], s=80, color=scatter_color[i], label=target_names[i], marker='o')\n",
        "    patches = [mpatches.Patch(color=scatter_color[i], label=target_names[i]) for i in range(n_class)]\n",
        "    plt.scatter(model.X_sv[:,0],model.X_sv[:,1],color='yellow',s=80,label='support_vector')\n",
        "    plt.legend(handles=patches)\n",
        "    plt.legend()\n",
        "  "
      ],
      "metadata": {
        "id": "zOFz24GkCDoa"
      },
      "execution_count": null,
      "outputs": []
    },
    {
      "cell_type": "code",
      "source": [
        "fig,ax=plt.subplots(figsize=(12,12))\n",
        "plt.rcParams[\"font.size\"]=20\n",
        "print('Number of support_vector:',clf1.n_support_vectors)\n",
        "decision_region(X_train1,y_train1,clf1,title='TRAIN',target_names=['-1','1'])\n",
        "plt.scatter(X_valid1[:,0] ,X_valid1[:,1],s=80,label='valid')\n",
        "plt.legend();"
      ],
      "metadata": {
        "id": "5MCv9wCIECvb",
        "colab": {
          "base_uri": "https://localhost:8080/",
          "height": 792
        },
        "outputId": "f84303c1-daa3-4d86-d53a-68868f8e9ff7"
      },
      "execution_count": null,
      "outputs": [
        {
          "output_type": "stream",
          "name": "stdout",
          "text": [
            "Number of support_vector: 4\n"
          ]
        },
        {
          "output_type": "display_data",
          "data": {
            "text/plain": [
              "<Figure size 864x864 with 1 Axes>"
            ],
            "image/png": "[encoded data removed]"
          },
          "metadata": {
            "needs_background": "light"
          }
        }
      ]
    },
    {
      "cell_type": "code",
      "source": [
        "class ScratchSVMClassifierNumpy():\n",
        "    def __init__(self, num_iter=100, lr=0.01,\n",
        "                 kernel='linear', ganma=1, d=1,theta=0,threshold=1e-5,\n",
        "                 verbose=False):\n",
        "        \n",
        "        # Record hyperparameters as attributes\n",
        "        self.iter = num_iter\n",
        "        self.lr = lr\n",
        "        self.kernel = kernel\n",
        "        self.threshold = threshold\n",
        "        self.verbose = verbose\n",
        "        self.ganma = ganma\n",
        "        self.d = d\n",
        "        self.theta = theta\n",
        "        \n",
        "    def _kernel(self,x1,x2):\n",
        "        if self.kernel == 'polly':\n",
        "            self.ganma = 1\n",
        "            self.theta = 1\n",
        "            self.d = 2\n",
        "            \n",
        "        return (self.ganma*np.dot(x1,x2.T)+self.theta)**self.d\n",
        "    \n",
        "    def _lamda_update(self,X,y):\n",
        "        \n",
        "        for i in range(len(X)):\n",
        "            for j in range(len(X)):\n",
        "                self.lamda[i] += self.lr*(1-np.dot(self.lamda*y[i]*y.T,self._kernel(X[i],X)))\n",
        "                self.lamda=np.where(self.lamda>=0,self.lamda,0)\n",
        "        \n",
        "    def fit(self, X, y, X_val=None, y_val=None):\n",
        "\n",
        "        self.lamda = np.random.rand(len(X))\n",
        "        \n",
        "        # Unique value of y\n",
        "        self.ylabel = np.unique(y)\n",
        "        # Replace the label value of y with -1,1\n",
        "        y = np.where(y==self.ylabel[0],-1,1)\n",
        "        \n",
        "        for i in range(self.iter):\n",
        "            self._lamda_update(X,y)\n",
        "            \n",
        "            #Outputs the learning process when verbose is set to true.\n",
        "            if self.verbose:\n",
        "                print('iter_n:',i,\n",
        "                      'lamada:',self.lamda)\n",
        "        \n",
        "        # Extraction of support vectors, specifications\n",
        "        self.index_support_vectors = np.where(self.lamda > self.threshold)\n",
        "        self.X_sv = X[self.lamda > self.threshold]\n",
        "        self.n_support_vectors = len(self.X_sv)\n",
        "        self.lam_sv = self.lamda[self.lamda > self.threshold]\n",
        "        self.y_sv = y[self.lamda > self.threshold]\n",
        "            \n",
        "    def predict(self, X):\n",
        "        \"\"\"\n",
        "        Use SVM classifier to estimate labels.\n",
        "\n",
        "        Parameters\n",
        "        ----------\n",
        "        X : ndarray, shape (n_samples, n_features) of the following form\n",
        "            Sample\n",
        "\n",
        "        Returns\n",
        "        -------\n",
        "            ndarray, shape (n_samples, 1) of the following form\n",
        "            Estimation results by SVM classifier\n",
        "        \"\"\"\n",
        "        y_pred = np.dot(self.lam_sv*self.y_sv,self._kernel(X,self.X_sv).T)\n",
        "\n",
        "        return np.where(y_pred>=0,self.ylabel[1],self.ylabel[0])\n",
        "        \n",
        "        "
      ],
      "metadata": {
        "id": "m53a1uRkF1mg"
      },
      "execution_count": null,
      "outputs": []
    },
    {
      "cell_type": "code",
      "source": [
        "import numpy as np\n",
        "import matplotlib.pyplot as plt"
      ],
      "metadata": {
        "id": "1GxefKix1b7y"
      },
      "execution_count": null,
      "outputs": []
    },
    {
      "cell_type": "code",
      "source": [
        "np.random.seed(seed=0)\n",
        "\n",
        "# n_samples = 500\n",
        "n_samples = 100\n",
        "f0 = [-1, 2]\n",
        "f1 = [2, -1]\n",
        "cov = [[1.0,0.8], [0.8, 1.0]]\n",
        "f0 = np.random.multivariate_normal(f0, cov, int(n_samples/2))\n",
        "f1 = np.random.multivariate_normal(f1, cov, int(n_samples/2))\n",
        "X = np.concatenate((f0, f1))\n",
        "y = np.concatenate((np.ones((int(n_samples/2))),\n",
        "                    np.ones((int(n_samples/2))) *(-1))).astype(np.int)\n",
        "random_index = np.random.permutation(np.arange(n_samples))\n",
        "sample1_X = X[random_index]\n",
        "sample1_y = y[random_index]"
      ],
      "metadata": {
        "id": "lEEcaqve1nQ6",
        "colab": {
          "base_uri": "https://localhost:8080/"
        },
        "outputId": "98368948-0bab-46e6-a192-16b977de59c4"
      },
      "execution_count": null,
      "outputs": [
        {
          "output_type": "stream",
          "name": "stderr",
          "text": [
            "<ipython-input-31-879957b0253b>:12: DeprecationWarning: `np.int` is a deprecated alias for the builtin `int`. To silence this warning, use `int` by itself. Doing this will not modify any behavior and is safe. When replacing `np.int`, you may wish to use e.g. `np.int64` or `np.int32` to specify the precision. If you wish to review your current use, check the release note link for additional information.\n",
            "Deprecated in NumPy 1.20; for more details and guidance: https://numpy.org/devdocs/release/1.20.0-notes.html#deprecations\n",
            "  np.ones((int(n_samples/2))) *(-1))).astype(np.int)\n"
          ]
        }
      ]
    },
    {
      "cell_type": "code",
      "source": [
        "X=sample1_X[20:40]\n",
        "y=sample1_y[20:40]\n",
        "print(X)\n",
        "print(y)"
      ],
      "metadata": {
        "id": "TsDlaEh11yOh",
        "colab": {
          "base_uri": "https://localhost:8080/"
        },
        "outputId": "8755887a-9945-47d7-8d3d-4d1fee4a1b2d"
      },
      "execution_count": null,
      "outputs": [
        {
          "output_type": "stream",
          "name": "stdout",
          "text": [
            "[[ 2.55988095 -0.09906791]\n",
            " [-0.14205902  2.11124362]\n",
            " [-1.50642737  2.11125339]\n",
            " [-1.16513883  1.40174924]\n",
            " [-1.5615169   1.88535921]\n",
            " [-1.585383    0.94523063]\n",
            " [-1.00408384  2.76905831]\n",
            " [-2.46267867 -0.08076347]\n",
            " [-0.17950815  3.39022454]\n",
            " [ 0.63968522 -3.21271245]\n",
            " [-2.54738211  1.21306967]\n",
            " [-2.69336749 -0.61318911]\n",
            " [ 2.4982956   0.72754957]\n",
            " [ 1.91346848 -2.09976175]\n",
            " [ 1.00740032 -1.47176993]\n",
            " [ 3.43738711 -0.53961192]\n",
            " [ 3.14206286  0.31096066]\n",
            " [ 0.31731679  2.22551981]\n",
            " [ 2.7656298   0.19670802]\n",
            " [-0.55952028 -2.96217901]]\n",
            "[-1  1  1  1  1  1  1  1  1 -1  1  1 -1 -1 -1 -1 -1  1 -1 -1]\n"
          ]
        }
      ]
    },
    {
      "cell_type": "code",
      "source": [
        "threshold=1e-5\n",
        "spt_vec=X[lamda>threshold]\n",
        "print(spt_vec)\n"
      ],
      "metadata": {
        "id": "teeTItnq16sc",
        "colab": {
          "base_uri": "https://localhost:8080/"
        },
        "outputId": "33535480-c4b8-4c14-d16c-e8f0dff4770a"
      },
      "execution_count": null,
      "outputs": [
        {
          "output_type": "stream",
          "name": "stdout",
          "text": [
            "[[ 2.55988095 -0.09906791]\n",
            " [-0.14205902  2.11124362]\n",
            " [-1.50642737  2.11125339]\n",
            " [-1.16513883  1.40174924]\n",
            " [-1.5615169   1.88535921]\n",
            " [-1.585383    0.94523063]\n",
            " [-1.00408384  2.76905831]\n",
            " [-2.46267867 -0.08076347]\n",
            " [-0.17950815  3.39022454]\n",
            " [ 0.63968522 -3.21271245]\n",
            " [-2.54738211  1.21306967]\n",
            " [-2.69336749 -0.61318911]\n",
            " [ 2.4982956   0.72754957]\n",
            " [ 1.91346848 -2.09976175]\n",
            " [ 1.00740032 -1.47176993]\n",
            " [ 3.43738711 -0.53961192]\n",
            " [ 3.14206286  0.31096066]\n",
            " [ 0.31731679  2.22551981]\n",
            " [ 2.7656298   0.19670802]\n",
            " [-0.55952028 -2.96217901]]\n"
          ]
        }
      ]
    },
    {
      "cell_type": "code",
      "source": [
        "spt_index=np.where(lamda>threshold)\n",
        "print(spt_index)"
      ],
      "metadata": {
        "id": "SwCaCNfK2XQy",
        "colab": {
          "base_uri": "https://localhost:8080/"
        },
        "outputId": "b22aa247-3b53-4f50-e5d7-4be3d50dc298"
      },
      "execution_count": null,
      "outputs": [
        {
          "output_type": "stream",
          "name": "stdout",
          "text": [
            "(array([ 0,  1,  2,  3,  4,  5,  6,  7,  8,  9, 10, 11, 12, 13, 14, 15, 16,\n",
            "       17, 18, 19]),)\n"
          ]
        }
      ]
    },
    {
      "cell_type": "code",
      "source": [
        "spt_lamda=lamda[lamda>0]\n",
        "spt_y=y[lamda>0]\n",
        "print(spt_lamda)\n",
        "print(spt_y)"
      ],
      "metadata": {
        "id": "2IGaBI1v3E8I",
        "colab": {
          "base_uri": "https://localhost:8080/"
        },
        "outputId": "2162ac7e-fafe-405e-ce4b-6d287c181971"
      },
      "execution_count": null,
      "outputs": [
        {
          "output_type": "stream",
          "name": "stdout",
          "text": [
            "[0.52459262 0.44201532 0.85263492 0.43343897 0.82687037 0.50934207\n",
            " 0.08637698 0.66003986 0.20659461 0.84727532 0.68135913 0.17836735\n",
            " 0.06985902 0.00968817 0.89204966 0.13346521 0.77919197 0.92516343\n",
            " 0.71517875 0.49081861]\n",
            "[-1  1  1  1  1  1  1  1  1 -1  1  1 -1 -1 -1 -1 -1  1 -1 -1]\n"
          ]
        }
      ]
    },
    {
      "cell_type": "code",
      "source": [
        "clfnp=ScratchSVMClassifierNumpy(num_iter=100,lr=0.01,threshold=1e-5)\n",
        "clfnp.fit(X_train1,y_train1)\n",
        "y_pred_clfnp=clfnp.predict(X_valid1)"
      ],
      "metadata": {
        "id": "CYx6YBGG4LRc"
      },
      "execution_count": null,
      "outputs": []
    },
    {
      "cell_type": "code",
      "source": [
        "accuracy=accuracy_score(y_valid1,y_pred_clfnp)\n",
        "precision=precision_score(y_valid1,y_pred_clfnp)\n",
        "recall=recall_score(y_valid1,y_pred_clfnp)\n",
        "f1=f1_score(y_valid1,y_pred_clfnp)\n",
        "print('accuracy',accuracy)\n",
        "print('precision',precision)\n",
        "print('recall',recall)\n",
        "print('f1',f1)"
      ],
      "metadata": {
        "id": "dPLpC0Sj5cH7",
        "colab": {
          "base_uri": "https://localhost:8080/"
        },
        "outputId": "8653936c-49ba-4dbd-f961-6015192aeca3"
      },
      "execution_count": null,
      "outputs": [
        {
          "output_type": "stream",
          "name": "stdout",
          "text": [
            "accuracy 1.0\n",
            "precision 1.0\n",
            "recall 1.0\n",
            "f1 1.0\n"
          ]
        }
      ]
    },
    {
      "cell_type": "code",
      "source": [
        "fig,ax=plt.subplots(figsize=(12,12))\n",
        "plt.rcParams[\"font.size\"]=20\n",
        "print('Number of support_vector:',clfnp.n_support_vectors)\n",
        "decision_region(X_train1,y_train1,clfnp,title='TRAIN',target_names=['-1','1'])\n",
        "plt.scatter(X_valid1[:,0] ,X_valid1[:,1],s=80,label='valid')\n",
        "plt.legend();"
      ],
      "metadata": {
        "id": "1VEPLujv58Cw",
        "colab": {
          "base_uri": "https://localhost:8080/",
          "height": 774
        },
        "outputId": "f073f0e9-6fd3-442b-e567-5436176f5bcf"
      },
      "execution_count": null,
      "outputs": [
        {
          "output_type": "stream",
          "name": "stdout",
          "text": [
            "Number of support_vector: 3\n"
          ]
        },
        {
          "output_type": "display_data",
          "data": {
            "text/plain": [
              "<Figure size 864x864 with 1 Axes>"
            ],
            "image/png": "[encoded data removed]"
          },
          "metadata": {
            "needs_background": "light"
          }
        }
      ]
    },
    {
      "cell_type": "code",
      "source": [
        "clf4=ScratchSVMClassifierNumpy(kernel='polly',d=2)\n",
        "clf4.fit(X_train1,y_train1)\n",
        "y_pred_clfnp=clf4.predict(X_valid1)"
      ],
      "metadata": {
        "id": "QxMYqGnZ62X4"
      },
      "execution_count": null,
      "outputs": []
    },
    {
      "cell_type": "code",
      "source": [
        "fig,ax=plt.subplots(figsize=(12,12))\n",
        "plt.rcParams[\"font.size\"]=20\n",
        "print('Number of support_vector:',clf4.n_support_vectors)\n",
        "decision_region(X_train1,y_train1,clf4,title='TRAIN',target_names=['-1','1'])\n",
        "plt.scatter(X_valid1[:,0] ,X_valid1[:,1],s=80,label='valid')\n",
        "plt.legend();"
      ],
      "metadata": {
        "id": "SVUyeQb27ctk",
        "colab": {
          "base_uri": "https://localhost:8080/",
          "height": 774
        },
        "outputId": "eba33152-25df-4bd8-93bc-c66d032477da"
      },
      "execution_count": null,
      "outputs": [
        {
          "output_type": "stream",
          "name": "stdout",
          "text": [
            "Number of support_vector: 5\n"
          ]
        },
        {
          "output_type": "display_data",
          "data": {
            "text/plain": [
              "<Figure size 864x864 with 1 Axes>"
            ],
            "image/png": "[encoded data removed]"
          },
          "metadata": {
            "needs_background": "light"
          }
        }
      ]
    },
    {
      "cell_type": "code",
      "source": [
        "X=np.array([[2,1],[2,2]])\n",
        "y=np.array([[3,8],[9,1]])\n",
        "\n",
        "print('linear:\\n',np.dot(X,y))\n",
        "print('polly:\\n',(np.dot(X,y)+1)**2)\n"
      ],
      "metadata": {
        "id": "Jq8_Lyxk7u4u",
        "colab": {
          "base_uri": "https://localhost:8080/"
        },
        "outputId": "1c4bc643-bd6f-4e8c-84ce-15978b1842d5"
      },
      "execution_count": null,
      "outputs": [
        {
          "output_type": "stream",
          "name": "stdout",
          "text": [
            "linear:\n",
            " [[15 17]\n",
            " [24 18]]\n",
            "polly:\n",
            " [[256 324]\n",
            " [625 361]]\n"
          ]
        }
      ]
    },
    {
      "cell_type": "code",
      "source": [
        "n=300\n",
        "rs=np.random.random(n)\n",
        "r=1.0\n",
        "X1= np.c_[r*np.cos(2*np.pi*rs),r*np.sin(2*np.pi*rs)]\n",
        "Y1= [-1 for _ in range(n)]\n",
        "\n",
        "rs=np.random.random(n)\n",
        "r=2.0\n",
        "X2=np.c_[r*np.cos(2*np.pi*rs),r*np.sin(2*np.pi*rs)]\n",
        "Y2= [ 1 for _ in range(n)]\n",
        "X=np.r_[X1,X2]\n",
        "y=np.r_[Y1,Y2]\n"
      ],
      "metadata": {
        "id": "yz_zkHagOPLz"
      },
      "execution_count": null,
      "outputs": []
    },
    {
      "cell_type": "code",
      "source": [
        "\n",
        "X_train3,X_valid3,y_train3,y_valid3=\\\n",
        "train_test_split(X, y, train_size=0.8,random_state=0)\n",
        "print('X_train3.shape',X_train3.shape)\n",
        "print('y_train3.shape',y_train3.shape)\n",
        "print ('X_valid3.shape',X_valid3.shape)\n",
        "print('y_valid3.shape',y_valid3.shape)\n"
      ],
      "metadata": {
        "id": "6PQl8II6Qr6U",
        "colab": {
          "base_uri": "https://localhost:8080/"
        },
        "outputId": "5160c642-a3b8-4e5b-d02c-42dea9ce370c"
      },
      "execution_count": null,
      "outputs": [
        {
          "output_type": "stream",
          "name": "stdout",
          "text": [
            "X_train3.shape (480, 2)\n",
            "y_train3.shape (480,)\n",
            "X_valid3.shape (120, 2)\n",
            "y_valid3.shape (120,)\n"
          ]
        }
      ]
    },
    {
      "cell_type": "code",
      "source": [
        "clf3=ScratchSVMClassifierNumpy(kernel='polly',d=2)\n",
        "clf3.fit(X_train3,y_train3)\n",
        "y_pred3=clf3.predict(X_valid3)"
      ],
      "metadata": {
        "id": "JPydf--UVhsK"
      },
      "execution_count": null,
      "outputs": []
    },
    {
      "cell_type": "code",
      "source": [
        "fig,ax=plt.subplots(figsize=(12,12))\n",
        "plt.rcParams[\"font.size\"]=20\n",
        "print('Number of support_vector:',clf3.n_support_vectors)\n",
        "decision_region(X_train3,y_train3,clf3,title='TRAIN',target_names=['-1','1'])\n",
        "plt.scatter(X_valid3[:,0] ,X_valid3[:,1],s=80,label='valid')\n",
        "plt.legend();"
      ],
      "metadata": {
        "id": "oKRTqvNyWGYg",
        "colab": {
          "base_uri": "https://localhost:8080/"
        },
        "outputId": "427ea745-f255-462a-e477-5bc4bc5fd521"
      },
      "execution_count": null,
      "outputs": [
        {
          "output_type": "stream",
          "name": "stdout",
          "text": [
            "Number of support_vector: 35\n"
          ]
        },
        {
          "output_type": "display_data",
          "data": {
            "text/plain": [
              "<Figure size 864x864 with 1 Axes>"
            ],
            "image/png": "[encoded data removed]"
          },
          "metadata": {
            "needs_background": "light"
          }
        }
      ]
    },
    {
      "cell_type": "code",
      "source": [
        "from scipy.special import comb\n",
        "def poly_feature(X,d):\n",
        "    z=np.zeros((X.shape[0],d+1))\n",
        "\n",
        "    for i in range(d+1):\n",
        "        a=np.sqrt(comb(d,i,exact=True))\n",
        "        z[:,i]=a*(X[:,0]**(d-i))*(X[:,1]**(i))\n",
        "    return z"
      ],
      "metadata": {
        "id": "QTePT17HX1Mk"
      },
      "execution_count": null,
      "outputs": []
    },
    {
      "cell_type": "code",
      "source": [
        "import pandas as pd\n",
        "d=2\n",
        "columns=['feature'+str(i) for i in range(d+1)]\n",
        "z=pd.DataFrame(poly_feature(X,d),columns=columns)\n",
        "y=pd.DataFrame(y).rename(columns={'0':'class'})\n",
        "z=pd.concat([z,y],axis=1)"
      ],
      "metadata": {
        "id": "mnTOE790ZVRi"
      },
      "execution_count": null,
      "outputs": []
    },
    {
      "cell_type": "code",
      "source": [
        "z"
      ],
      "metadata": {
        "id": "3R6YGbAZaj8y",
        "colab": {
          "base_uri": "https://localhost:8080/"
        },
        "outputId": "bd145fb7-9080-4380-e34a-be220f511e31"
      },
      "execution_count": null,
      "outputs": [
        {
          "output_type": "execute_result",
          "data": {
            "text/plain": [
              "     feature0  feature1  feature2  0\n",
              "0    0.209599 -0.575617  0.790401 -1\n",
              "1    0.363440  0.680223  0.636560 -1\n",
              "2    0.287849  0.640300  0.712151 -1\n",
              "3    0.472291  0.706020  0.527709 -1\n",
              "4    0.773605  0.591845  0.226395 -1\n",
              "..        ...       ...       ... ..\n",
              "595  2.413705 -2.767254  1.586295  1\n",
              "596  0.368366  1.635709  3.631634  1\n",
              "597  3.471239 -1.915963  0.528761  1\n",
              "598  0.281132  1.446023  3.718868  1\n",
              "599  1.037270  2.479174  2.962730  1\n",
              "\n",
              "[600 rows x 4 columns]"
            ],
            "text/html": [
              "\n",
              "  <div id=\"df-2995528f-87e2-4a49-816a-d2f849b19a66\">\n",
              "    <div class=\"colab-df-container\">\n",
              "      <div>\n",
              "<style scoped>\n",
              "    .dataframe tbody tr th:only-of-type {\n",
              "        vertical-align: middle;\n",
              "    }\n",
              "\n",
              "    .dataframe tbody tr th {\n",
              "        vertical-align: top;\n",
              "    }\n",
              "\n",
              "    .dataframe thead th {\n",
              "        text-align: right;\n",
              "    }\n",
              "</style>\n",
              "<table border=\"1\" class=\"dataframe\">\n",
              "  <thead>\n",
              "    <tr style=\"text-align: right;\">\n",
              "      <th></th>\n",
              "      <th>feature0</th>\n",
              "      <th>feature1</th>\n",
              "      <th>feature2</th>\n",
              "      <th>0</th>\n",
              "    </tr>\n",
              "  </thead>\n",
              "  <tbody>\n",
              "    <tr>\n",
              "      <th>0</th>\n",
              "      <td>0.209599</td>\n",
              "      <td>-0.575617</td>\n",
              "      <td>0.790401</td>\n",
              "      <td>-1</td>\n",
              "    </tr>\n",
              "    <tr>\n",
              "      <th>1</th>\n",
              "      <td>0.363440</td>\n",
              "      <td>0.680223</td>\n",
              "      <td>0.636560</td>\n",
              "      <td>-1</td>\n",
              "    </tr>\n",
              "    <tr>\n",
              "      <th>2</th>\n",
              "      <td>0.287849</td>\n",
              "      <td>0.640300</td>\n",
              "      <td>0.712151</td>\n",
              "      <td>-1</td>\n",
              "    </tr>\n",
              "    <tr>\n",
              "      <th>3</th>\n",
              "      <td>0.472291</td>\n",
              "      <td>0.706020</td>\n",
              "      <td>0.527709</td>\n",
              "      <td>-1</td>\n",
              "    </tr>\n",
              "    <tr>\n",
              "      <th>4</th>\n",
              "      <td>0.773605</td>\n",
              "      <td>0.591845</td>\n",
              "      <td>0.226395</td>\n",
              "      <td>-1</td>\n",
              "    </tr>\n",
              "    <tr>\n",
              "      <th>...</th>\n",
              "      <td>...</td>\n",
              "      <td>...</td>\n",
              "      <td>...</td>\n",
              "      <td>...</td>\n",
              "    </tr>\n",
              "    <tr>\n",
              "      <th>595</th>\n",
              "      <td>2.413705</td>\n",
              "      <td>-2.767254</td>\n",
              "      <td>1.586295</td>\n",
              "      <td>1</td>\n",
              "    </tr>\n",
              "    <tr>\n",
              "      <th>596</th>\n",
              "      <td>0.368366</td>\n",
              "      <td>1.635709</td>\n",
              "      <td>3.631634</td>\n",
              "      <td>1</td>\n",
              "    </tr>\n",
              "    <tr>\n",
              "      <th>597</th>\n",
              "      <td>3.471239</td>\n",
              "      <td>-1.915963</td>\n",
              "      <td>0.528761</td>\n",
              "      <td>1</td>\n",
              "    </tr>\n",
              "    <tr>\n",
              "      <th>598</th>\n",
              "      <td>0.281132</td>\n",
              "      <td>1.446023</td>\n",
              "      <td>3.718868</td>\n",
              "      <td>1</td>\n",
              "    </tr>\n",
              "    <tr>\n",
              "      <th>599</th>\n",
              "      <td>1.037270</td>\n",
              "      <td>2.479174</td>\n",
              "      <td>2.962730</td>\n",
              "      <td>1</td>\n",
              "    </tr>\n",
              "  </tbody>\n",
              "</table>\n",
              "<p>600 rows × 4 columns</p>\n",
              "</div>\n",
              "      <button class=\"colab-df-convert\" onclick=\"convertToInteractive('df-2995528f-87e2-4a49-816a-d2f849b19a66')\"\n",
              "              title=\"Convert this dataframe to an interactive table.\"\n",
              "              style=\"display:none;\">\n",
              "        \n",
              "  <svg xmlns=\"http://www.w3.org/2000/svg\" height=\"24px\"viewBox=\"0 0 24 24\"\n",
              "       width=\"24px\">\n",
              "    <path d=\"M0 0h24v24H0V0z\" fill=\"none\"/>\n",
              "    <path d=\"M18.56 5.44l.94 2.06.94-2.06 2.06-.94-2.06-.94-.94-2.06-.94 2.06-2.06.94zm-11 1L8.5 8.5l.94-2.06 2.06-.94-2.06-.94L8.5 2.5l-.94 2.06-2.06.94zm10 10l.94 2.06.94-2.06 2.06-.94-2.06-.94-.94-2.06-.94 2.06-2.06.94z\"/><path d=\"M17.41 7.96l-1.37-1.37c-.4-.4-.92-.59-1.43-.59-.52 0-1.04.2-1.43.59L10.3 9.45l-7.72 7.72c-.78.78-.78 2.05 0 2.83L4 21.41c.39.39.9.59 1.41.59.51 0 1.02-.2 1.41-.59l7.78-7.78 2.81-2.81c.8-.78.8-2.07 0-2.86zM5.41 20L4 18.59l7.72-7.72 1.47 1.35L5.41 20z\"/>\n",
              "  </svg>\n",
              "      </button>\n",
              "      \n",
              "  <style>\n",
              "    .colab-df-container {\n",
              "      display:flex;\n",
              "      flex-wrap:wrap;\n",
              "      gap: 12px;\n",
              "    }\n",
              "\n",
              "    .colab-df-convert {\n",
              "      background-color: #E8F0FE;\n",
              "      border: none;\n",
              "      border-radius: 50%;\n",
              "      cursor: pointer;\n",
              "      display: none;\n",
              "      fill: #1967D2;\n",
              "      height: 32px;\n",
              "      padding: 0 0 0 0;\n",
              "      width: 32px;\n",
              "    }\n",
              "\n",
              "    .colab-df-convert:hover {\n",
              "      background-color: #E2EBFA;\n",
              "      box-shadow: 0px 1px 2px rgba(60, 64, 67, 0.3), 0px 1px 3px 1px rgba(60, 64, 67, 0.15);\n",
              "      fill: #174EA6;\n",
              "    }\n",
              "\n",
              "    [theme=dark] .colab-df-convert {\n",
              "      background-color: #3B4455;\n",
              "      fill: #D2E3FC;\n",
              "    }\n",
              "\n",
              "    [theme=dark] .colab-df-convert:hover {\n",
              "      background-color: #434B5C;\n",
              "      box-shadow: 0px 1px 3px 1px rgba(0, 0, 0, 0.15);\n",
              "      filter: drop-shadow(0px 1px 2px rgba(0, 0, 0, 0.3));\n",
              "      fill: #FFFFFF;\n",
              "    }\n",
              "  </style>\n",
              "\n",
              "      <script>\n",
              "        const buttonEl =\n",
              "          document.querySelector('#df-2995528f-87e2-4a49-816a-d2f849b19a66 button.colab-df-convert');\n",
              "        buttonEl.style.display =\n",
              "          google.colab.kernel.accessAllowed ? 'block' : 'none';\n",
              "\n",
              "        async function convertToInteractive(key) {\n",
              "          const element = document.querySelector('#df-2995528f-87e2-4a49-816a-d2f849b19a66');\n",
              "          const dataTable =\n",
              "            await google.colab.kernel.invokeFunction('convertToInteractive',\n",
              "                                                     [key], {});\n",
              "          if (!dataTable) return;\n",
              "\n",
              "          const docLinkHtml = 'Like what you see? Visit the ' +\n",
              "            '<a target=\"_blank\" href=https://colab.research.google.com/notebooks/data_table.ipynb>data table notebook</a>'\n",
              "            + ' to learn more about interactive tables.';\n",
              "          element.innerHTML = '';\n",
              "          dataTable['output_type'] = 'display_data';\n",
              "          await google.colab.output.renderOutput(dataTable, element);\n",
              "          const docLink = document.createElement('div');\n",
              "          docLink.innerHTML = docLinkHtml;\n",
              "          element.appendChild(docLink);\n",
              "        }\n",
              "      </script>\n",
              "    </div>\n",
              "  </div>\n",
              "  "
            ]
          },
          "metadata": {},
          "execution_count": 48
        }
      ]
    },
    {
      "cell_type": "code",
      "source": [
        "import seaborn as sns\n",
        "sns.pairplot(z,hue ='class',palette='winter');"
      ],
      "metadata": {
        "id": "1Xv6GY_NbJzb",
        "colab": {
          "base_uri": "https://localhost:8080/",
          "height": 1000
        },
        "outputId": "bbb3633e-671a-47f0-9394-e2fe0b5c9b2a"
      },
      "execution_count": null,
      "outputs": [
        {
          "output_type": "error",
          "ename": "KeyError",
          "evalue": "ignored",
          "traceback": [
            "\u001b[0;31m---------------------------------------------------------------------------\u001b[0m",
            "\u001b[0;31mKeyError\u001b[0m                                  Traceback (most recent call last)",
            "\u001b[0;32m/usr/local/lib/python3.8/dist-packages/pandas/core/indexes/base.py\u001b[0m in \u001b[0;36mget_loc\u001b[0;34m(self, key, method, tolerance)\u001b[0m\n\u001b[1;32m   3360\u001b[0m             \u001b[0;32mtry\u001b[0m\u001b[0;34m:\u001b[0m\u001b[0;34m\u001b[0m\u001b[0;34m\u001b[0m\u001b[0m\n\u001b[0;32m-> 3361\u001b[0;31m                 \u001b[0;32mreturn\u001b[0m \u001b[0mself\u001b[0m\u001b[0;34m.\u001b[0m\u001b[0m_engine\u001b[0m\u001b[0;34m.\u001b[0m\u001b[0mget_loc\u001b[0m\u001b[0;34m(\u001b[0m\u001b[0mcasted_key\u001b[0m\u001b[0;34m)\u001b[0m\u001b[0;34m\u001b[0m\u001b[0;34m\u001b[0m\u001b[0m\n\u001b[0m\u001b[1;32m   3362\u001b[0m             \u001b[0;32mexcept\u001b[0m \u001b[0mKeyError\u001b[0m \u001b[0;32mas\u001b[0m \u001b[0merr\u001b[0m\u001b[0;34m:\u001b[0m\u001b[0;34m\u001b[0m\u001b[0;34m\u001b[0m\u001b[0m\n",
            "\u001b[0;32m/usr/local/lib/python3.8/dist-packages/pandas/_libs/index.pyx\u001b[0m in \u001b[0;36mpandas._libs.index.IndexEngine.get_loc\u001b[0;34m()\u001b[0m\n",
            "\u001b[0;32m/usr/local/lib/python3.8/dist-packages/pandas/_libs/index.pyx\u001b[0m in \u001b[0;36mpandas._libs.index.IndexEngine.get_loc\u001b[0;34m()\u001b[0m\n",
            "\u001b[0;32mpandas/_libs/hashtable_class_helper.pxi\u001b[0m in \u001b[0;36mpandas._libs.hashtable.PyObjectHashTable.get_item\u001b[0;34m()\u001b[0m\n",
            "\u001b[0;32mpandas/_libs/hashtable_class_helper.pxi\u001b[0m in \u001b[0;36mpandas._libs.hashtable.PyObjectHashTable.get_item\u001b[0;34m()\u001b[0m\n",
            "\u001b[0;31mKeyError\u001b[0m: 'class'",
            "\nThe above exception was the direct cause of the following exception:\n",
            "\u001b[0;31mKeyError\u001b[0m                                  Traceback (most recent call last)",
            "\u001b[0;32m<ipython-input-49-2111339614da>\u001b[0m in \u001b[0;36m<module>\u001b[0;34m\u001b[0m\n\u001b[1;32m      1\u001b[0m \u001b[0;32mimport\u001b[0m \u001b[0mseaborn\u001b[0m \u001b[0;32mas\u001b[0m \u001b[0msns\u001b[0m\u001b[0;34m\u001b[0m\u001b[0;34m\u001b[0m\u001b[0m\n\u001b[0;32m----> 2\u001b[0;31m \u001b[0msns\u001b[0m\u001b[0;34m.\u001b[0m\u001b[0mpairplot\u001b[0m\u001b[0;34m(\u001b[0m\u001b[0mz\u001b[0m\u001b[0;34m,\u001b[0m\u001b[0mhue\u001b[0m \u001b[0;34m=\u001b[0m\u001b[0;34m'class'\u001b[0m\u001b[0;34m,\u001b[0m\u001b[0mpalette\u001b[0m\u001b[0;34m=\u001b[0m\u001b[0;34m'winter'\u001b[0m\u001b[0;34m)\u001b[0m\u001b[0;34m;\u001b[0m\u001b[0;34m\u001b[0m\u001b[0;34m\u001b[0m\u001b[0m\n\u001b[0m",
            "\u001b[0;32m/usr/local/lib/python3.8/dist-packages/seaborn/_decorators.py\u001b[0m in \u001b[0;36minner_f\u001b[0;34m(*args, **kwargs)\u001b[0m\n\u001b[1;32m     44\u001b[0m             )\n\u001b[1;32m     45\u001b[0m         \u001b[0mkwargs\u001b[0m\u001b[0;34m.\u001b[0m\u001b[0mupdate\u001b[0m\u001b[0;34m(\u001b[0m\u001b[0;34m{\u001b[0m\u001b[0mk\u001b[0m\u001b[0;34m:\u001b[0m \u001b[0marg\u001b[0m \u001b[0;32mfor\u001b[0m \u001b[0mk\u001b[0m\u001b[0;34m,\u001b[0m \u001b[0marg\u001b[0m \u001b[0;32min\u001b[0m \u001b[0mzip\u001b[0m\u001b[0;34m(\u001b[0m\u001b[0msig\u001b[0m\u001b[0;34m.\u001b[0m\u001b[0mparameters\u001b[0m\u001b[0;34m,\u001b[0m \u001b[0margs\u001b[0m\u001b[0;34m)\u001b[0m\u001b[0;34m}\u001b[0m\u001b[0;34m)\u001b[0m\u001b[0;34m\u001b[0m\u001b[0;34m\u001b[0m\u001b[0m\n\u001b[0;32m---> 46\u001b[0;31m         \u001b[0;32mreturn\u001b[0m \u001b[0mf\u001b[0m\u001b[0;34m(\u001b[0m\u001b[0;34m**\u001b[0m\u001b[0mkwargs\u001b[0m\u001b[0;34m)\u001b[0m\u001b[0;34m\u001b[0m\u001b[0;34m\u001b[0m\u001b[0m\n\u001b[0m\u001b[1;32m     47\u001b[0m     \u001b[0;32mreturn\u001b[0m \u001b[0minner_f\u001b[0m\u001b[0;34m\u001b[0m\u001b[0;34m\u001b[0m\u001b[0m\n\u001b[1;32m     48\u001b[0m \u001b[0;34m\u001b[0m\u001b[0m\n",
            "\u001b[0;32m/usr/local/lib/python3.8/dist-packages/seaborn/axisgrid.py\u001b[0m in \u001b[0;36mpairplot\u001b[0;34m(data, hue, hue_order, palette, vars, x_vars, y_vars, kind, diag_kind, markers, height, aspect, corner, dropna, plot_kws, diag_kws, grid_kws, size)\u001b[0m\n\u001b[1;32m   2094\u001b[0m     \u001b[0;31m# Set up the PairGrid\u001b[0m\u001b[0;34m\u001b[0m\u001b[0;34m\u001b[0m\u001b[0;34m\u001b[0m\u001b[0m\n\u001b[1;32m   2095\u001b[0m     \u001b[0mgrid_kws\u001b[0m\u001b[0;34m.\u001b[0m\u001b[0msetdefault\u001b[0m\u001b[0;34m(\u001b[0m\u001b[0;34m\"diag_sharey\"\u001b[0m\u001b[0;34m,\u001b[0m \u001b[0mdiag_kind\u001b[0m \u001b[0;34m==\u001b[0m \u001b[0;34m\"hist\"\u001b[0m\u001b[0;34m)\u001b[0m\u001b[0;34m\u001b[0m\u001b[0;34m\u001b[0m\u001b[0m\n\u001b[0;32m-> 2096\u001b[0;31m     grid = PairGrid(data, vars=vars, x_vars=x_vars, y_vars=y_vars, hue=hue,\n\u001b[0m\u001b[1;32m   2097\u001b[0m                     \u001b[0mhue_order\u001b[0m\u001b[0;34m=\u001b[0m\u001b[0mhue_order\u001b[0m\u001b[0;34m,\u001b[0m \u001b[0mpalette\u001b[0m\u001b[0;34m=\u001b[0m\u001b[0mpalette\u001b[0m\u001b[0;34m,\u001b[0m \u001b[0mcorner\u001b[0m\u001b[0;34m=\u001b[0m\u001b[0mcorner\u001b[0m\u001b[0;34m,\u001b[0m\u001b[0;34m\u001b[0m\u001b[0;34m\u001b[0m\u001b[0m\n\u001b[1;32m   2098\u001b[0m                     height=height, aspect=aspect, dropna=dropna, **grid_kws)\n",
            "\u001b[0;32m/usr/local/lib/python3.8/dist-packages/seaborn/_decorators.py\u001b[0m in \u001b[0;36minner_f\u001b[0;34m(*args, **kwargs)\u001b[0m\n\u001b[1;32m     44\u001b[0m             )\n\u001b[1;32m     45\u001b[0m         \u001b[0mkwargs\u001b[0m\u001b[0;34m.\u001b[0m\u001b[0mupdate\u001b[0m\u001b[0;34m(\u001b[0m\u001b[0;34m{\u001b[0m\u001b[0mk\u001b[0m\u001b[0;34m:\u001b[0m \u001b[0marg\u001b[0m \u001b[0;32mfor\u001b[0m \u001b[0mk\u001b[0m\u001b[0;34m,\u001b[0m \u001b[0marg\u001b[0m \u001b[0;32min\u001b[0m \u001b[0mzip\u001b[0m\u001b[0;34m(\u001b[0m\u001b[0msig\u001b[0m\u001b[0;34m.\u001b[0m\u001b[0mparameters\u001b[0m\u001b[0;34m,\u001b[0m \u001b[0margs\u001b[0m\u001b[0;34m)\u001b[0m\u001b[0;34m}\u001b[0m\u001b[0;34m)\u001b[0m\u001b[0;34m\u001b[0m\u001b[0;34m\u001b[0m\u001b[0m\n\u001b[0;32m---> 46\u001b[0;31m         \u001b[0;32mreturn\u001b[0m \u001b[0mf\u001b[0m\u001b[0;34m(\u001b[0m\u001b[0;34m**\u001b[0m\u001b[0mkwargs\u001b[0m\u001b[0;34m)\u001b[0m\u001b[0;34m\u001b[0m\u001b[0;34m\u001b[0m\u001b[0m\n\u001b[0m\u001b[1;32m     47\u001b[0m     \u001b[0;32mreturn\u001b[0m \u001b[0minner_f\u001b[0m\u001b[0;34m\u001b[0m\u001b[0;34m\u001b[0m\u001b[0m\n\u001b[1;32m     48\u001b[0m \u001b[0;34m\u001b[0m\u001b[0m\n",
            "\u001b[0;32m/usr/local/lib/python3.8/dist-packages/seaborn/axisgrid.py\u001b[0m in \u001b[0;36m__init__\u001b[0;34m(self, data, hue, hue_order, palette, hue_kws, vars, x_vars, y_vars, corner, diag_sharey, height, aspect, layout_pad, despine, dropna, size)\u001b[0m\n\u001b[1;32m   1287\u001b[0m             \u001b[0;31m# to the axes-level functions, while always handling legend creation.\u001b[0m\u001b[0;34m\u001b[0m\u001b[0;34m\u001b[0m\u001b[0;34m\u001b[0m\u001b[0m\n\u001b[1;32m   1288\u001b[0m             \u001b[0;31m# See GH2307\u001b[0m\u001b[0;34m\u001b[0m\u001b[0;34m\u001b[0m\u001b[0;34m\u001b[0m\u001b[0m\n\u001b[0;32m-> 1289\u001b[0;31m             \u001b[0mhue_names\u001b[0m \u001b[0;34m=\u001b[0m \u001b[0mhue_order\u001b[0m \u001b[0;34m=\u001b[0m \u001b[0mcategorical_order\u001b[0m\u001b[0;34m(\u001b[0m\u001b[0mdata\u001b[0m\u001b[0;34m[\u001b[0m\u001b[0mhue\u001b[0m\u001b[0;34m]\u001b[0m\u001b[0;34m,\u001b[0m \u001b[0mhue_order\u001b[0m\u001b[0;34m)\u001b[0m\u001b[0;34m\u001b[0m\u001b[0;34m\u001b[0m\u001b[0m\n\u001b[0m\u001b[1;32m   1290\u001b[0m             \u001b[0;32mif\u001b[0m \u001b[0mdropna\u001b[0m\u001b[0;34m:\u001b[0m\u001b[0;34m\u001b[0m\u001b[0;34m\u001b[0m\u001b[0m\n\u001b[1;32m   1291\u001b[0m                 \u001b[0;31m# Filter NA from the list of unique hue names\u001b[0m\u001b[0;34m\u001b[0m\u001b[0;34m\u001b[0m\u001b[0;34m\u001b[0m\u001b[0m\n",
            "\u001b[0;32m/usr/local/lib/python3.8/dist-packages/pandas/core/frame.py\u001b[0m in \u001b[0;36m__getitem__\u001b[0;34m(self, key)\u001b[0m\n\u001b[1;32m   3456\u001b[0m             \u001b[0;32mif\u001b[0m \u001b[0mself\u001b[0m\u001b[0;34m.\u001b[0m\u001b[0mcolumns\u001b[0m\u001b[0;34m.\u001b[0m\u001b[0mnlevels\u001b[0m \u001b[0;34m>\u001b[0m \u001b[0;36m1\u001b[0m\u001b[0;34m:\u001b[0m\u001b[0;34m\u001b[0m\u001b[0;34m\u001b[0m\u001b[0m\n\u001b[1;32m   3457\u001b[0m                 \u001b[0;32mreturn\u001b[0m \u001b[0mself\u001b[0m\u001b[0;34m.\u001b[0m\u001b[0m_getitem_multilevel\u001b[0m\u001b[0;34m(\u001b[0m\u001b[0mkey\u001b[0m\u001b[0;34m)\u001b[0m\u001b[0;34m\u001b[0m\u001b[0;34m\u001b[0m\u001b[0m\n\u001b[0;32m-> 3458\u001b[0;31m             \u001b[0mindexer\u001b[0m \u001b[0;34m=\u001b[0m \u001b[0mself\u001b[0m\u001b[0;34m.\u001b[0m\u001b[0mcolumns\u001b[0m\u001b[0;34m.\u001b[0m\u001b[0mget_loc\u001b[0m\u001b[0;34m(\u001b[0m\u001b[0mkey\u001b[0m\u001b[0;34m)\u001b[0m\u001b[0;34m\u001b[0m\u001b[0;34m\u001b[0m\u001b[0m\n\u001b[0m\u001b[1;32m   3459\u001b[0m             \u001b[0;32mif\u001b[0m \u001b[0mis_integer\u001b[0m\u001b[0;34m(\u001b[0m\u001b[0mindexer\u001b[0m\u001b[0;34m)\u001b[0m\u001b[0;34m:\u001b[0m\u001b[0;34m\u001b[0m\u001b[0;34m\u001b[0m\u001b[0m\n\u001b[1;32m   3460\u001b[0m                 \u001b[0mindexer\u001b[0m \u001b[0;34m=\u001b[0m \u001b[0;34m[\u001b[0m\u001b[0mindexer\u001b[0m\u001b[0;34m]\u001b[0m\u001b[0;34m\u001b[0m\u001b[0;34m\u001b[0m\u001b[0m\n",
            "\u001b[0;32m/usr/local/lib/python3.8/dist-packages/pandas/core/indexes/base.py\u001b[0m in \u001b[0;36mget_loc\u001b[0;34m(self, key, method, tolerance)\u001b[0m\n\u001b[1;32m   3361\u001b[0m                 \u001b[0;32mreturn\u001b[0m \u001b[0mself\u001b[0m\u001b[0;34m.\u001b[0m\u001b[0m_engine\u001b[0m\u001b[0;34m.\u001b[0m\u001b[0mget_loc\u001b[0m\u001b[0;34m(\u001b[0m\u001b[0mcasted_key\u001b[0m\u001b[0;34m)\u001b[0m\u001b[0;34m\u001b[0m\u001b[0;34m\u001b[0m\u001b[0m\n\u001b[1;32m   3362\u001b[0m             \u001b[0;32mexcept\u001b[0m \u001b[0mKeyError\u001b[0m \u001b[0;32mas\u001b[0m \u001b[0merr\u001b[0m\u001b[0;34m:\u001b[0m\u001b[0;34m\u001b[0m\u001b[0;34m\u001b[0m\u001b[0m\n\u001b[0;32m-> 3363\u001b[0;31m                 \u001b[0;32mraise\u001b[0m \u001b[0mKeyError\u001b[0m\u001b[0;34m(\u001b[0m\u001b[0mkey\u001b[0m\u001b[0;34m)\u001b[0m \u001b[0;32mfrom\u001b[0m \u001b[0merr\u001b[0m\u001b[0;34m\u001b[0m\u001b[0;34m\u001b[0m\u001b[0m\n\u001b[0m\u001b[1;32m   3364\u001b[0m \u001b[0;34m\u001b[0m\u001b[0m\n\u001b[1;32m   3365\u001b[0m         \u001b[0;32mif\u001b[0m \u001b[0mis_scalar\u001b[0m\u001b[0;34m(\u001b[0m\u001b[0mkey\u001b[0m\u001b[0;34m)\u001b[0m \u001b[0;32mand\u001b[0m \u001b[0misna\u001b[0m\u001b[0;34m(\u001b[0m\u001b[0mkey\u001b[0m\u001b[0;34m)\u001b[0m \u001b[0;32mand\u001b[0m \u001b[0;32mnot\u001b[0m \u001b[0mself\u001b[0m\u001b[0;34m.\u001b[0m\u001b[0mhasnans\u001b[0m\u001b[0;34m:\u001b[0m\u001b[0;34m\u001b[0m\u001b[0;34m\u001b[0m\u001b[0m\n",
            "\u001b[0;31mKeyError\u001b[0m: 'class'"
          ]
        },
        {
          "output_type": "display_data",
          "data": {
            "text/plain": [
              "<Figure size 720x720 with 16 Axes>"
            ],
            "image/png": "[encoded data removed]"
          },
          "metadata": {
            "needs_background": "light"
          }
        }
      ]
    },
    {
      "cell_type": "code",
      "source": [
        "for d in range(1,5):\n",
        "    columns=['feature'+str(i) for i in range(d+1)]\n",
        "    z=pd.DataFrame(poly_feature(X,d),columns=columns)\n",
        "    y=pd.DataFrame(y).rename(columns={'0':'class'})\n",
        "    z=pd.concat([z,y],axis=1)\n",
        "    sns.pairplot(z,hue ='class',palette='winter');"
      ],
      "metadata": {
        "id": "IM3CC7iYbnTO"
      },
      "execution_count": null,
      "outputs": []
    },
    {
      "cell_type": "code",
      "source": [
        "X=np.array([[-0.44699,-2.807],[-1.4621,-2.4586],\n",
        "            [0.10645,1.9242],[-3.5944,-4.0112],\n",
        "            [0.9888,4.5718],[-3.1625,-3.9606],\n",
        "            [0.56421,0.72888],[-0.60216,8.4636],\n",
        "            [-0.61251,-0.75345],[-0.73535,-2.2718],\n",
        "            [-0.80647,-2.2135],[0.86291,2.5946],\n",
        "            [-3.11108,0.15394],[-2.9362,2.5462],\n",
        "            [-0.57242,-2.9915],[1.4771,3.4896],\n",
        "            [-0.58619,0.37158],[0.6017,4.3439],\n",
        "            [-2.1086,8.3428],[-410113,-4.353],\n",
        "            [-1.9948,-1.3927],[0.35084,-0.031994],\n",
        "            [0.96765,7.8929],[-1.281,15.6824],\n",
        "            [0.96765,10.083],[1.3763,1.3347],\n",
        "            [-2.3234,-2.5323],[-2.9452,-1.8219],\n",
        "            [0.14654,-0.28733],[0.5461,5.8245],\n",
        "            [-0.65259,9.3444],[0.59912,5.3524],\n",
        "            [0.50214,-0.31818],[-3.0603,-3.6461],\n",
        "            [-6.6797,0.67661],[-2.353,-0.72261],\n",
        "            [1.1319,2.4023],[-0.12243,9.0162],\n",
        "            [-2.5677,13.1779],[0.057313,5.4681]\n",
        "            ])\n",
        "y=np.array([0,0,0,0,0,0,0,0,0,0,0,0,0,0,0,0,0,0,0,0,\n",
        "            1,1,1,1,1,1,1,1,1,1,1,1,1,1,1,1,1,1,1,1])\n",
        "\n",
        "sample2_X=X\n",
        "sample2_y=y\n"
      ],
      "metadata": {
        "id": "3nX9Tp7leiFO"
      },
      "execution_count": null,
      "outputs": []
    },
    {
      "cell_type": "code",
      "source": [
        "fig=plt.subplots(figsize=(12,8))\n",
        "plt.rcParams[\"font.size\"]=20\n",
        "plt.scatter(sample2_X[:,0],sample2_X[:,1],s=50);"
      ],
      "metadata": {
        "id": "n9ATtcxre40N"
      },
      "execution_count": null,
      "outputs": []
    },
    {
      "cell_type": "code",
      "source": [
        "\n",
        "X_train2,X_valid2,y_train2,y_valid2=\\\n",
        "train_test_split(X, y, train_size=0.8,random_state=0)\n",
        "print('X_train2.shape',X_train2.shape)\n",
        "print('y_train2.shape',y_train2.shape)\n",
        "print ('X_valid2.shape',X_valid2.shape)\n",
        "print('y_valid2.shape',y_valid2.shape)"
      ],
      "metadata": {
        "id": "GHOtqPozf_pm"
      },
      "execution_count": null,
      "outputs": []
    },
    {
      "cell_type": "code",
      "source": [
        "clfnp_polly=ScratchSVMClassifierNumpy(num_iter=100,lr=0.01,threshold=1e-5)\n",
        "clfnp_polly.fit(X_train2,y_train2)\n",
        "y_pred_clfnp_polly=clfnp_polly.predict(X_valid2)"
      ],
      "metadata": {
        "id": "qy1u255CgwWL"
      },
      "execution_count": null,
      "outputs": []
    },
    {
      "cell_type": "code",
      "source": [
        "accuracy=accuracy_score(y_valid2,y_pred_clfnp_polly)\n",
        "precision=precision_score(y_valid2,y_pred_clfnp_polly)\n",
        "recall=recall_score(y_valid2,y_pred_clfnp_polly)\n",
        "f1=f1_score(y_valid2,y_pred_clfnp_polly)\n",
        "print('accuracy',accuracy)\n",
        "print('precision',precision)\n",
        "print('recall',recall)\n",
        "print('f1',f1)"
      ],
      "metadata": {
        "id": "xCvP7yizh0t7"
      },
      "execution_count": null,
      "outputs": []
    },
    {
      "cell_type": "code",
      "source": [
        "fig,ax=plt.subplots(figsize=(12,12))\n",
        "plt.rcParams[\"font.size\"]=20\n",
        "print('Number of support_vector:',clfnp_polly.n_support_vectors)\n",
        "decision_region(X_train2,y_train2,clfnp_polly,title='TRAIN',target_names=['-1','1'])\n",
        "plt.scatter(X_valid2[:,0] ,X_valid2[:,1],s=80,label='valid')\n",
        "plt.legend();"
      ],
      "metadata": {
        "id": "LXW7e1jLibnx"
      },
      "execution_count": null,
      "outputs": []
    }
  ]
}