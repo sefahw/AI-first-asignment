{
  "nbformat": 4,
  "nbformat_minor": 0,
  "metadata": {
    "colab": {
      "provenance": [],
      "authorship_tag": "ABX9TyPSKYYIw4gVEOg5BOEikcGP",
      "include_colab_link": true
    },
    "kernelspec": {
      "name": "python3",
      "display_name": "Python 3"
    },
    "language_info": {
      "name": "python"
    }
  },
  "cells": [
    {
      "cell_type": "markdown",
      "metadata": {
        "id": "view-in-github",
        "colab_type": "text"
      },
      "source": [
        "<a href=\"https://colab.research.google.com/github/sefahw/AI-first-asignment/blob/master/svm.ipynb\" target=\"_parent\"><img src=\"https://colab.research.google.com/assets/colab-badge.svg\" alt=\"Open In Colab\"/></a>"
      ]
    },
    {
      "cell_type": "code",
      "execution_count": 1,
      "metadata": {
        "id": "PlZthiBsCx4g"
      },
      "outputs": [],
      "source": [
        "class ScratchSVMClassifier():\n",
        "    def _init_(self,num_iter=100,lr=0.01,kernel='linear',ganma=1,threshold=1e-5,verbose=False):\n",
        "        self.iter=num_iter\n",
        "        self.lr=lr\n",
        "        self.kernel=kernel\n",
        "        self.verbose=verbose\n",
        "        self.ganma=ganma\n",
        "        self.d=d\n",
        "        self.theta=theta\n",
        "    def _kernel(self,X1,X2):\n",
        "        if self.kernel=='polly':\n",
        "            self.ganma=1\n",
        "            self.theta=1\n",
        "            self.d=2\n",
        "        return(self.ganma*np.dot(X1,X2.T)+self.theta)**self.d\n",
        "    def _lamda_update(self,X,y):\n",
        "        for i in range(len(X)):\n",
        "            total=0\n",
        "            for j in range(len(X)):\n",
        "                total=self.lamda[j]*y[j]*self._kernel(X[i],X[j])\n",
        "                self.lamda[i]+=self.lr*(1-total)\n",
        "                if self.lamda[i]<0:\n",
        "                    self.lamda[i]=0\n",
        "    def fit(self,X,y,X_val=None,y_val=None):\n",
        "        self.lamda=np.random.rand(len(X))\n",
        "        self.ylabel=np.unique(y)\n",
        "        y=np.where(y==self.ylabel[0],-1,1)\n",
        "        for i in range(self.iter):\n",
        "            self._lamda_update(X,y)\n",
        "            if self.verbose:\n",
        "                print('iter_n:',i,'lamda:',self.lamda)\n",
        "        self.index_support_vectors=np.where(self.lamda>self.threshold)\n",
        "        self.X_sv=X[self.lamda>self.threshold]\n",
        "        self.n_support_vectors=len(self.X_sv)\n",
        "        self.lam_sv=self.lamda[self.lamda>self.threshold]\n",
        "        self.y_sv=y[self.lamda>self.threshold]\n",
        "        \n",
        "    def predict(self,X):\n",
        "        y_pred=np.zeros(len(X))\n",
        "        for i in range(len(X)):\n",
        "            total=0\n",
        "            for j in range(self.n_support_vector):\n",
        "                total+=self.lam_sv[j]*self_kernel(X[i],self.X_sv[j])\n",
        "                if total>=0:\n",
        "                    y_pred[i]=self.ylabel[1]\n",
        "                else:\n",
        "                    y_pred[i]=self.ylabel[0]\n",
        "        return_pred\n",
        "        \n",
        "            \n",
        "         \n",
        "        \n",
        "    \n",
        "                "
      ]
    },
    {
      "cell_type": "code",
      "source": [
        "import numpy as np\n",
        "import matplotlib.pyplot as plt"
      ],
      "metadata": {
        "id": "Y7T-opyNDBdK"
      },
      "execution_count": 2,
      "outputs": []
    },
    {
      "cell_type": "code",
      "source": [
        "np.random.seed(seed=0)\n",
        "n_samples=100\n",
        "f0=[-1,2]\n",
        "f1=[2,-1]\n",
        "cov=([1.0,0.8],[0.8,1.0])\n",
        "f0=np.random.multivariate_normal(f0,cov,int(n_samples/2))\n",
        "f1=np.random.multivariate_normal(f1,cov,int(n_samples/2))\n",
        "X=np.concatenate((f0,f1))\n",
        "y=np.concatenate((np.ones((int(n_samples/2))),np.ones((int(n_samples/2))).astype(np.int)))\n",
        "random_index=np.random.permutation(np.arange(n_samples))\n",
        "sample1_X=X[random_index]\n",
        "sample1_y=y[random_index]"
      ],
      "metadata": {
        "id": "2EG502VuDSKf",
        "outputId": "865a696b-e07f-4692-90ca-e3e0a07cb1bd",
        "colab": {
          "base_uri": "https://localhost:8080/"
        }
      },
      "execution_count": 4,
      "outputs": [
        {
          "output_type": "stream",
          "name": "stderr",
          "text": [
            "<ipython-input-4-7a47ba3ee5fd>:9: DeprecationWarning: `np.int` is a deprecated alias for the builtin `int`. To silence this warning, use `int` by itself. Doing this will not modify any behavior and is safe. When replacing `np.int`, you may wish to use e.g. `np.int64` or `np.int32` to specify the precision. If you wish to review your current use, check the release note link for additional information.\n",
            "Deprecated in NumPy 1.20; for more details and guidance: https://numpy.org/devdocs/release/1.20.0-notes.html#deprecations\n",
            "  y=np.concatenate((np.ones((int(n_samples/2))),np.ones((int(n_samples/2))).astype(np.int)))\n"
          ]
        }
      ]
    },
    {
      "cell_type": "code",
      "source": [
        "X=sample1_X[20:40]\n",
        "y=sample1_y[20:40]\n",
        "print(X)\n",
        "print(y)"
      ],
      "metadata": {
        "colab": {
          "base_uri": "https://localhost:8080/"
        },
        "id": "49iWKoLOw0Ue",
        "outputId": "a4629757-2509-42f5-c9c8-b228cb05fd0f"
      },
      "execution_count": 5,
      "outputs": [
        {
          "output_type": "stream",
          "name": "stdout",
          "text": [
            "[[ 2.55988095 -0.09906791]\n",
            " [-0.14205902  2.11124362]\n",
            " [-1.50642737  2.11125339]\n",
            " [-1.16513883  1.40174924]\n",
            " [-1.5615169   1.88535921]\n",
            " [-1.585383    0.94523063]\n",
            " [-1.00408384  2.76905831]\n",
            " [-2.46267867 -0.08076347]\n",
            " [-0.17950815  3.39022454]\n",
            " [ 0.63968522 -3.21271245]\n",
            " [-2.54738211  1.21306967]\n",
            " [-2.69336749 -0.61318911]\n",
            " [ 2.4982956   0.72754957]\n",
            " [ 1.91346848 -2.09976175]\n",
            " [ 1.00740032 -1.47176993]\n",
            " [ 3.43738711 -0.53961192]\n",
            " [ 3.14206286  0.31096066]\n",
            " [ 0.31731679  2.22551981]\n",
            " [ 2.7656298   0.19670802]\n",
            " [-0.55952028 -2.96217901]]\n",
            "[1. 1. 1. 1. 1. 1. 1. 1. 1. 1. 1. 1. 1. 1. 1. 1. 1. 1. 1. 1.]\n"
          ]
        }
      ]
    },
    {
      "cell_type": "code",
      "source": [
        "lamda=np.random.rand(len(X))\n",
        "lamda.reshape(-1,1)\n",
        "XX=np.array(([1,2],[1,2],[2,4],[2,4]))\n",
        "np.dot(XX[1],XX.T)\n"
      ],
      "metadata": {
        "colab": {
          "base_uri": "https://localhost:8080/"
        },
        "id": "dCX4siE_xMjn",
        "outputId": "3db48f9e-7e1b-4494-a235-12bb9102f88d"
      },
      "execution_count": 6,
      "outputs": [
        {
          "output_type": "execute_result",
          "data": {
            "text/plain": [
              "array([ 5,  5, 10, 10])"
            ]
          },
          "metadata": {},
          "execution_count": 6
        }
      ]
    },
    {
      "cell_type": "code",
      "source": [
        "num_iter=100\n",
        "def _(self):\n",
        "    for _ in range(num_iter):\n",
        "        for i in range(len(X)):\n",
        "            total=0\n",
        "        for j in range(len(X)):\n",
        "            total+=self.lamda[j]*y[i]*y[j]*np.dot(X[i]*X[j])\n",
        "        lamda[i]+=0.01*(1-total)\n",
        "        if lamda[i]<0:\n",
        "           lamda[i]=0\n",
        "    print('lamda:\\n',lamda.reshape(-1,1))          "
      ],
      "metadata": {
        "id": "zMXdVW7Ay70W"
      },
      "execution_count": 7,
      "outputs": []
    },
    {
      "cell_type": "code",
      "source": [
        "a=np.dot(X[0],X.T)\n",
        "print(a)"
      ],
      "metadata": {
        "colab": {
          "base_uri": "https://localhost:8080/"
        },
        "id": "anfQ6umAyVkX",
        "outputId": "dbb80ab3-2fe2-41a7-b72d-619c774cc167"
      },
      "execution_count": 8,
      "outputs": [
        {
          "output_type": "stream",
          "name": "stdout",
          "text": [
            "[ 6.56280495 -0.57281068 -4.06543221 -3.12148507 -4.18407598 -4.15203376\n",
            " -2.84465992 -6.29616316 -0.79538197  1.95579473 -6.64117124 -6.83395278\n",
            "  6.32326249  5.10627053  2.72463005  8.85276001  8.01250064  0.5918156\n",
            "  7.06019559 -1.13884843]\n"
          ]
        }
      ]
    },
    {
      "cell_type": "code",
      "source": [
        "b=lamda*y[0]*y\n",
        "print(b)"
      ],
      "metadata": {
        "colab": {
          "base_uri": "https://localhost:8080/"
        },
        "id": "F1SEb8aOy3V_",
        "outputId": "0c591e29-e852-43b6-d5e7-5b749ae3a738"
      },
      "execution_count": 9,
      "outputs": [
        {
          "output_type": "stream",
          "name": "stdout",
          "text": [
            "[0.52459262 0.44201532 0.85263492 0.43343897 0.82687037 0.50934207\n",
            " 0.08637698 0.66003986 0.20659461 0.84727532 0.68135913 0.17836735\n",
            " 0.06985902 0.00968817 0.89204966 0.13346521 0.77919197 0.92516343\n",
            " 0.71517875 0.49081861]\n"
          ]
        }
      ]
    },
    {
      "cell_type": "code",
      "source": [
        "a*b"
      ],
      "metadata": {
        "colab": {
          "base_uri": "https://localhost:8080/"
        },
        "id": "FM_1foao1RmV",
        "outputId": "88fae4dc-2ff7-4304-bcc9-da6677b37f6c"
      },
      "execution_count": 10,
      "outputs": [
        {
          "output_type": "execute_result",
          "data": {
            "text/plain": [
              "array([ 3.44279905, -0.25319109, -3.46632948, -1.35297329, -3.45968845,\n",
              "       -2.11480545, -0.24571313, -4.15571866, -0.16432163,  1.65709661,\n",
              "       -4.52502265, -1.21895404,  0.4417369 ,  0.04947042,  2.43050531,\n",
              "        1.18153547,  6.24327619,  0.54752615,  5.04930185, -0.558968  ])"
            ]
          },
          "metadata": {},
          "execution_count": 10
        }
      ]
    },
    {
      "cell_type": "code",
      "source": [
        "np.sum(a*b)"
      ],
      "metadata": {
        "colab": {
          "base_uri": "https://localhost:8080/"
        },
        "id": "B5ivfk6Z1WOY",
        "outputId": "32824ab0-6077-4552-85c1-2006d0929e5e"
      },
      "execution_count": 11,
      "outputs": [
        {
          "output_type": "execute_result",
          "data": {
            "text/plain": [
              "-0.472437925739839"
            ]
          },
          "metadata": {},
          "execution_count": 11
        }
      ]
    },
    {
      "cell_type": "code",
      "source": [
        "np.dot(a,b)"
      ],
      "metadata": {
        "colab": {
          "base_uri": "https://localhost:8080/"
        },
        "id": "bgU7gGOK1dj_",
        "outputId": "8f622345-3742-45fb-ae66-8ee0b8906b42"
      },
      "execution_count": 12,
      "outputs": [
        {
          "output_type": "execute_result",
          "data": {
            "text/plain": [
              "-0.4724379257398408"
            ]
          },
          "metadata": {},
          "execution_count": 12
        }
      ]
    },
    {
      "cell_type": "code",
      "source": [
        "c=np.dot(X,X.T)\n",
        "print(c.shape)"
      ],
      "metadata": {
        "colab": {
          "base_uri": "https://localhost:8080/"
        },
        "id": "v64fDKZj1iih",
        "outputId": "9464538a-c8c0-4d30-de6a-ea1788558196"
      },
      "execution_count": 13,
      "outputs": [
        {
          "output_type": "stream",
          "name": "stdout",
          "text": [
            "(20, 20)\n"
          ]
        }
      ]
    },
    {
      "cell_type": "code",
      "source": [
        "d=lamda*y*y.T\n",
        "print(d.shape)"
      ],
      "metadata": {
        "colab": {
          "base_uri": "https://localhost:8080/"
        },
        "id": "9CtPj5XJ1y5u",
        "outputId": "bd0f0723-ddd8-4322-99e9-ff700be7bdd3"
      },
      "execution_count": 14,
      "outputs": [
        {
          "output_type": "stream",
          "name": "stdout",
          "text": [
            "(20,)\n"
          ]
        }
      ]
    },
    {
      "cell_type": "code",
      "source": [
        "np.dot(c,d)"
      ],
      "metadata": {
        "colab": {
          "base_uri": "https://localhost:8080/"
        },
        "id": "k2Sv0q9x2NgE",
        "outputId": "775889dd-f701-47bc-e47a-c12fe11a771c"
      },
      "execution_count": 15,
      "outputs": [
        {
          "output_type": "execute_result",
          "data": {
            "text/plain": [
              "array([ -0.47243793,   8.12142821,   8.1702798 ,   5.43049162,\n",
              "         7.30383596,   3.69051268,  10.68113513,  -0.22237337,\n",
              "        13.03961   , -12.37365666,   4.75459615,  -2.26094686,\n",
              "         2.70756697,  -8.14066502,  -5.69403166,  -2.19743562,\n",
              "         1.08302356,   8.54430966,   0.65726512, -11.36761514])"
            ]
          },
          "metadata": {},
          "execution_count": 15
        }
      ]
    },
    {
      "cell_type": "code",
      "source": [
        "threshold=1e-5\n",
        "spt_vec=X[lamda>threshold]\n",
        "print(spt_vec)"
      ],
      "metadata": {
        "colab": {
          "base_uri": "https://localhost:8080/"
        },
        "id": "X1S8aqml2Qoc",
        "outputId": "436b24ae-a3d7-450d-adb7-8ca4e415dbd8"
      },
      "execution_count": 16,
      "outputs": [
        {
          "output_type": "stream",
          "name": "stdout",
          "text": [
            "[[ 2.55988095 -0.09906791]\n",
            " [-0.14205902  2.11124362]\n",
            " [-1.50642737  2.11125339]\n",
            " [-1.16513883  1.40174924]\n",
            " [-1.5615169   1.88535921]\n",
            " [-1.585383    0.94523063]\n",
            " [-1.00408384  2.76905831]\n",
            " [-2.46267867 -0.08076347]\n",
            " [-0.17950815  3.39022454]\n",
            " [ 0.63968522 -3.21271245]\n",
            " [-2.54738211  1.21306967]\n",
            " [-2.69336749 -0.61318911]\n",
            " [ 2.4982956   0.72754957]\n",
            " [ 1.91346848 -2.09976175]\n",
            " [ 1.00740032 -1.47176993]\n",
            " [ 3.43738711 -0.53961192]\n",
            " [ 3.14206286  0.31096066]\n",
            " [ 0.31731679  2.22551981]\n",
            " [ 2.7656298   0.19670802]\n",
            " [-0.55952028 -2.96217901]]\n"
          ]
        }
      ]
    },
    {
      "cell_type": "code",
      "source": [
        "spt_index=np.where(lamda>threshold)\n",
        "print(spt_index)"
      ],
      "metadata": {
        "colab": {
          "base_uri": "https://localhost:8080/"
        },
        "id": "GIlk_roc3I-w",
        "outputId": "e7e0fbed-6520-407b-82cb-ebff6050a2da"
      },
      "execution_count": 17,
      "outputs": [
        {
          "output_type": "stream",
          "name": "stdout",
          "text": [
            "(array([ 0,  1,  2,  3,  4,  5,  6,  7,  8,  9, 10, 11, 12, 13, 14, 15, 16,\n",
            "       17, 18, 19]),)\n"
          ]
        }
      ]
    },
    {
      "cell_type": "code",
      "source": [
        "spt_lamda=lamda[lamda>0]\n",
        "spt_y=y[lamda>0]\n",
        "print(spt_lamda)\n",
        "print(spt_y)\n"
      ],
      "metadata": {
        "colab": {
          "base_uri": "https://localhost:8080/"
        },
        "id": "ySEYPNeB3Qgi",
        "outputId": "f26f0c11-3bec-4445-dd08-e6e35b6a2eee"
      },
      "execution_count": 18,
      "outputs": [
        {
          "output_type": "stream",
          "name": "stdout",
          "text": [
            "[0.52459262 0.44201532 0.85263492 0.43343897 0.82687037 0.50934207\n",
            " 0.08637698 0.66003986 0.20659461 0.84727532 0.68135913 0.17836735\n",
            " 0.06985902 0.00968817 0.89204966 0.13346521 0.77919197 0.92516343\n",
            " 0.71517875 0.49081861]\n",
            "[1. 1. 1. 1. 1. 1. 1. 1. 1. 1. 1. 1. 1. 1. 1. 1. 1. 1. 1. 1.]\n"
          ]
        }
      ]
    },
    {
      "cell_type": "code",
      "source": [
        "X_test=X[0:5]\n",
        "X_test"
      ],
      "metadata": {
        "colab": {
          "base_uri": "https://localhost:8080/"
        },
        "id": "N06AJfls3bWN",
        "outputId": "0cc2528a-6453-45fa-97e4-48761898fc8b"
      },
      "execution_count": 19,
      "outputs": [
        {
          "output_type": "execute_result",
          "data": {
            "text/plain": [
              "array([[ 2.55988095, -0.09906791],\n",
              "       [-0.14205902,  2.11124362],\n",
              "       [-1.50642737,  2.11125339],\n",
              "       [-1.16513883,  1.40174924],\n",
              "       [-1.5615169 ,  1.88535921]])"
            ]
          },
          "metadata": {},
          "execution_count": 19
        }
      ]
    },
    {
      "cell_type": "code",
      "source": [
        "for i in range(len(X_test)):\n",
        "    total=0\n",
        "    for j in range (len(spt_vec)):\n",
        "        total+=spt_lamda[j]*spt_y[j]*np.dot(X_test[i],spt_vec[j])\n",
        "    if  total>0:\n",
        "        print('f(X):{:.1f}.class:{}'.format(total,1))\n",
        "    else:\n",
        "        print('f(X):{:.1f}.class:{}'.format(total,-1))"
      ],
      "metadata": {
        "id": "muA3eMbi3n_Q",
        "colab": {
          "base_uri": "https://localhost:8080/"
        },
        "outputId": "1f8f9319-e893-4283-db53-119d363e24bd"
      },
      "execution_count": 20,
      "outputs": [
        {
          "output_type": "stream",
          "name": "stdout",
          "text": [
            "f(X):-0.5.class:-1\n",
            "f(X):8.1.class:1\n",
            "f(X):8.2.class:1\n",
            "f(X):5.4.class:1\n",
            "f(X):7.3.class:1\n"
          ]
        }
      ]
    },
    {
      "cell_type": "code",
      "source": [
        "np.random.seed(seed=0)\n",
        "n_samples=100\n",
        "f0=[-1,2]\n",
        "f1=[2,-1]\n",
        "cov=([1.0,0.8],[0.8,1.0])\n",
        "f0=np.random.multivariate_normal(f0,cov,int(n_samples/2))\n",
        "f1=np.random.multivariate_normal(f1,cov,int(n_samples/2))\n",
        "X=np.concatenate((f0,f1))\n",
        "y=np.concatenate((np.ones((int(n_samples/2))),np.ones((int(n_samples/2))).astype(np.int)))\n",
        "random_index=np.random.permutation(np.arange(n_samples))\n",
        "sample1_X=X[random_index]\n",
        "sample1_y=y[random_index]\n"
      ],
      "metadata": {
        "colab": {
          "base_uri": "https://localhost:8080/"
        },
        "id": "ekAcUzG54Rwj",
        "outputId": "21e90b67-a4c5-442f-ee1f-8c9d1a3f3111"
      },
      "execution_count": 21,
      "outputs": [
        {
          "output_type": "stream",
          "name": "stderr",
          "text": [
            "<ipython-input-21-7a47ba3ee5fd>:9: DeprecationWarning: `np.int` is a deprecated alias for the builtin `int`. To silence this warning, use `int` by itself. Doing this will not modify any behavior and is safe. When replacing `np.int`, you may wish to use e.g. `np.int64` or `np.int32` to specify the precision. If you wish to review your current use, check the release note link for additional information.\n",
            "Deprecated in NumPy 1.20; for more details and guidance: https://numpy.org/devdocs/release/1.20.0-notes.html#deprecations\n",
            "  y=np.concatenate((np.ones((int(n_samples/2))),np.ones((int(n_samples/2))).astype(np.int)))\n"
          ]
        }
      ]
    },
    {
      "cell_type": "code",
      "source": [
        "fig=plt.subplots(figsize=(12,8))\n",
        "plt.rcParams[\"font.size\"]=28\n",
        "plt.scatter(sample1_X[:,0],sample1_X[:,1],s=80);"
      ],
      "metadata": {
        "colab": {
          "base_uri": "https://localhost:8080/",
          "height": 483
        },
        "id": "FF_Fwt254rWE",
        "outputId": "2cab81b5-23eb-4bd2-ea49-d34280e3a315"
      },
      "execution_count": 22,
      "outputs": [
        {
          "output_type": "display_data",
          "data": {
            "text/plain": [
              "<Figure size 864x576 with 1 Axes>"
            ],
            "image/png": "[encoded data removed]"
          },
          "metadata": {
            "needs_background": "light"
          }
        }
      ]
    },
    {
      "cell_type": "code",
      "source": [
        "from sklearn.model_selection import train_test_split\n",
        "sample1_X\n",
        "sample1_y\n",
        "X_train1,X_valid1, y_train1,y_valid1=\\\n",
        "train_test_split(X,y,train_size=0.8,random_state=None)\n",
        "\n",
        "print('X_train.shape',X_train1.shape)\n",
        "print(y_train1.shape)\n",
        "print(X_valid1.shape)\n",
        "print(y_valid1.shape)"
      ],
      "metadata": {
        "colab": {
          "base_uri": "https://localhost:8080/"
        },
        "id": "lp4qUBog55FY",
        "outputId": "11631285-5320-4167-d343-ae8340a2dc10"
      },
      "execution_count": 23,
      "outputs": [
        {
          "output_type": "stream",
          "name": "stdout",
          "text": [
            "X_train.shape (80, 2)\n",
            "(80,)\n",
            "(20, 2)\n",
            "(20,)\n"
          ]
        }
      ]
    },
    {
      "cell_type": "code",
      "source": [
        "clf1=ScratchSVMClassifier(num_iter=100,lr=0.01,)\n",
        "\n",
        "clf1.fit(X_train1,y_train1)\n",
        "y_pred1=clf1.predict(X_valid1)"
      ],
      "metadata": {
        "colab": {
          "base_uri": "https://localhost:8080/",
          "height": 217
        },
        "id": "ScTJWMct5g3H",
        "outputId": "cfc1ff3d-60a6-430e-d2d1-7a53cfeddce3"
      },
      "execution_count": 24,
      "outputs": [
        {
          "output_type": "error",
          "ename": "TypeError",
          "evalue": "ignored",
          "traceback": [
            "\u001b[0;31m---------------------------------------------------------------------------\u001b[0m",
            "\u001b[0;31mTypeError\u001b[0m                                 Traceback (most recent call last)",
            "\u001b[0;32m<ipython-input-24-74f8ef4f93da>\u001b[0m in \u001b[0;36m<module>\u001b[0;34m\u001b[0m\n\u001b[0;32m----> 1\u001b[0;31m \u001b[0mclf1\u001b[0m\u001b[0;34m=\u001b[0m\u001b[0mScratchSVMClassifier\u001b[0m\u001b[0;34m(\u001b[0m\u001b[0mnum_iter\u001b[0m\u001b[0;34m=\u001b[0m\u001b[0;36m100\u001b[0m\u001b[0;34m,\u001b[0m\u001b[0mlr\u001b[0m\u001b[0;34m=\u001b[0m\u001b[0;36m0.01\u001b[0m\u001b[0;34m,\u001b[0m\u001b[0;34m)\u001b[0m\u001b[0;34m\u001b[0m\u001b[0;34m\u001b[0m\u001b[0m\n\u001b[0m\u001b[1;32m      2\u001b[0m \u001b[0;34m\u001b[0m\u001b[0m\n\u001b[1;32m      3\u001b[0m \u001b[0mclf1\u001b[0m\u001b[0;34m.\u001b[0m\u001b[0mfit\u001b[0m\u001b[0;34m(\u001b[0m\u001b[0mX_train1\u001b[0m\u001b[0;34m,\u001b[0m\u001b[0my_train1\u001b[0m\u001b[0;34m)\u001b[0m\u001b[0;34m\u001b[0m\u001b[0;34m\u001b[0m\u001b[0m\n\u001b[1;32m      4\u001b[0m \u001b[0my_pred1\u001b[0m\u001b[0;34m=\u001b[0m\u001b[0mclf1\u001b[0m\u001b[0;34m.\u001b[0m\u001b[0mpredict\u001b[0m\u001b[0;34m(\u001b[0m\u001b[0mX_valid1\u001b[0m\u001b[0;34m)\u001b[0m\u001b[0;34m\u001b[0m\u001b[0;34m\u001b[0m\u001b[0m\n",
            "\u001b[0;31mTypeError\u001b[0m: ScratchSVMClassifier() takes no arguments"
          ]
        }
      ]
    },
    {
      "cell_type": "code",
      "source": [
        "Show=False\n",
        "if Show:\n",
        "    print('pred:',y_pred1)\n",
        "    print('vali:',y_valid1)"
      ],
      "metadata": {
        "id": "35ERGbpy5fgs"
      },
      "execution_count": 25,
      "outputs": []
    },
    {
      "cell_type": "code",
      "source": [
        "from sklearn.metrics import accuracy_score\n",
        "from sklearn.metrics import precision_score\n",
        "from sklearn.metrics import  recall_score\n",
        "from sklearn.metrics import f1_score\n",
        "accuracy=accuracy_score(y_valid1,y_pred1)\n",
        "precision=precision_score(y_valid1,y_pred1)\n",
        "recall=recall_score(y_valid1,y_pred1)\n",
        "f1=f1_score(y_valid1,y_pred1)\n",
        "print('accuracy',accuracy)\n",
        "print('precision',precision)\n",
        "print('recall',recall)\n",
        "print('f1',f1)"
      ],
      "metadata": {
        "colab": {
          "base_uri": "https://localhost:8080/",
          "height": 235
        },
        "id": "NZE9ZFLw7S0g",
        "outputId": "7e4ca270-3768-4e61-8f27-1bb3fa50a9dc"
      },
      "execution_count": 26,
      "outputs": [
        {
          "output_type": "error",
          "ename": "NameError",
          "evalue": "ignored",
          "traceback": [
            "\u001b[0;31m---------------------------------------------------------------------------\u001b[0m",
            "\u001b[0;31mNameError\u001b[0m                                 Traceback (most recent call last)",
            "\u001b[0;32m<ipython-input-26-8e9496bba007>\u001b[0m in \u001b[0;36m<module>\u001b[0;34m\u001b[0m\n\u001b[1;32m      3\u001b[0m \u001b[0;32mfrom\u001b[0m \u001b[0msklearn\u001b[0m\u001b[0;34m.\u001b[0m\u001b[0mmetrics\u001b[0m \u001b[0;32mimport\u001b[0m  \u001b[0mrecall_score\u001b[0m\u001b[0;34m\u001b[0m\u001b[0;34m\u001b[0m\u001b[0m\n\u001b[1;32m      4\u001b[0m \u001b[0;32mfrom\u001b[0m \u001b[0msklearn\u001b[0m\u001b[0;34m.\u001b[0m\u001b[0mmetrics\u001b[0m \u001b[0;32mimport\u001b[0m \u001b[0mf1_score\u001b[0m\u001b[0;34m\u001b[0m\u001b[0;34m\u001b[0m\u001b[0m\n\u001b[0;32m----> 5\u001b[0;31m \u001b[0maccuracy\u001b[0m\u001b[0;34m=\u001b[0m\u001b[0maccuracy_score\u001b[0m\u001b[0;34m(\u001b[0m\u001b[0my_valid1\u001b[0m\u001b[0;34m,\u001b[0m\u001b[0my_pred1\u001b[0m\u001b[0;34m)\u001b[0m\u001b[0;34m\u001b[0m\u001b[0;34m\u001b[0m\u001b[0m\n\u001b[0m\u001b[1;32m      6\u001b[0m \u001b[0mprecision\u001b[0m\u001b[0;34m=\u001b[0m\u001b[0mprecision_score\u001b[0m\u001b[0;34m(\u001b[0m\u001b[0my_valid1\u001b[0m\u001b[0;34m,\u001b[0m\u001b[0my_pred1\u001b[0m\u001b[0;34m)\u001b[0m\u001b[0;34m\u001b[0m\u001b[0;34m\u001b[0m\u001b[0m\n\u001b[1;32m      7\u001b[0m \u001b[0mrecall\u001b[0m\u001b[0;34m=\u001b[0m\u001b[0mrecall_score\u001b[0m\u001b[0;34m(\u001b[0m\u001b[0my_valid1\u001b[0m\u001b[0;34m,\u001b[0m\u001b[0my_pred1\u001b[0m\u001b[0;34m)\u001b[0m\u001b[0;34m\u001b[0m\u001b[0;34m\u001b[0m\u001b[0m\n",
            "\u001b[0;31mNameError\u001b[0m: name 'y_pred1' is not defined"
          ]
        }
      ]
    },
    {
      "cell_type": "code",
      "source": [
        "from sklearn.svm import SVC\n",
        "\n",
        "clf_sk=SVC()\n",
        "\n",
        "clf_sk.fit(X_train1,y_train1)\n",
        "y_pred_sk=clf_sk.predict(X_valid1)"
      ],
      "metadata": {
        "colab": {
          "base_uri": "https://localhost:8080/",
          "height": 363
        },
        "id": "f6Gu-K1E8w6Q",
        "outputId": "dbbb4fbd-17c0-4f0b-cca4-95d35be960c6"
      },
      "execution_count": null,
      "outputs": [
        {
          "output_type": "error",
          "ename": "ValueError",
          "evalue": "ignored",
          "traceback": [
            "\u001b[0;31m---------------------------------------------------------------------------\u001b[0m",
            "\u001b[0;31mValueError\u001b[0m                                Traceback (most recent call last)",
            "\u001b[0;32m<ipython-input-29-9f81a543c56b>\u001b[0m in \u001b[0;36m<module>\u001b[0;34m\u001b[0m\n\u001b[1;32m      3\u001b[0m \u001b[0mclf_sk\u001b[0m\u001b[0;34m=\u001b[0m\u001b[0mSVC\u001b[0m\u001b[0;34m(\u001b[0m\u001b[0;34m)\u001b[0m\u001b[0;34m\u001b[0m\u001b[0;34m\u001b[0m\u001b[0m\n\u001b[1;32m      4\u001b[0m \u001b[0;34m\u001b[0m\u001b[0m\n\u001b[0;32m----> 5\u001b[0;31m \u001b[0mclf_sk\u001b[0m\u001b[0;34m.\u001b[0m\u001b[0mfit\u001b[0m\u001b[0;34m(\u001b[0m\u001b[0mX_train1\u001b[0m\u001b[0;34m,\u001b[0m\u001b[0my_train1\u001b[0m\u001b[0;34m)\u001b[0m\u001b[0;34m\u001b[0m\u001b[0;34m\u001b[0m\u001b[0m\n\u001b[0m\u001b[1;32m      6\u001b[0m \u001b[0my_pred_sk\u001b[0m\u001b[0;34m=\u001b[0m\u001b[0mclf_sk\u001b[0m\u001b[0;34m.\u001b[0m\u001b[0mpredict\u001b[0m\u001b[0;34m(\u001b[0m\u001b[0mX_valid1\u001b[0m\u001b[0;34m)\u001b[0m\u001b[0;34m\u001b[0m\u001b[0;34m\u001b[0m\u001b[0m\n",
            "\u001b[0;32m/usr/local/lib/python3.8/dist-packages/sklearn/svm/_base.py\u001b[0m in \u001b[0;36mfit\u001b[0;34m(self, X, y, sample_weight)\u001b[0m\n\u001b[1;32m    197\u001b[0m             )\n\u001b[1;32m    198\u001b[0m \u001b[0;34m\u001b[0m\u001b[0m\n\u001b[0;32m--> 199\u001b[0;31m         \u001b[0my\u001b[0m \u001b[0;34m=\u001b[0m \u001b[0mself\u001b[0m\u001b[0;34m.\u001b[0m\u001b[0m_validate_targets\u001b[0m\u001b[0;34m(\u001b[0m\u001b[0my\u001b[0m\u001b[0;34m)\u001b[0m\u001b[0;34m\u001b[0m\u001b[0;34m\u001b[0m\u001b[0m\n\u001b[0m\u001b[1;32m    200\u001b[0m \u001b[0;34m\u001b[0m\u001b[0m\n\u001b[1;32m    201\u001b[0m         sample_weight = np.asarray(\n",
            "\u001b[0;32m/usr/local/lib/python3.8/dist-packages/sklearn/svm/_base.py\u001b[0m in \u001b[0;36m_validate_targets\u001b[0;34m(self, y)\u001b[0m\n\u001b[1;32m    718\u001b[0m         \u001b[0mself\u001b[0m\u001b[0;34m.\u001b[0m\u001b[0mclass_weight_\u001b[0m \u001b[0;34m=\u001b[0m \u001b[0mcompute_class_weight\u001b[0m\u001b[0;34m(\u001b[0m\u001b[0mself\u001b[0m\u001b[0;34m.\u001b[0m\u001b[0mclass_weight\u001b[0m\u001b[0;34m,\u001b[0m \u001b[0mclasses\u001b[0m\u001b[0;34m=\u001b[0m\u001b[0mcls\u001b[0m\u001b[0;34m,\u001b[0m \u001b[0my\u001b[0m\u001b[0;34m=\u001b[0m\u001b[0my_\u001b[0m\u001b[0;34m)\u001b[0m\u001b[0;34m\u001b[0m\u001b[0;34m\u001b[0m\u001b[0m\n\u001b[1;32m    719\u001b[0m         \u001b[0;32mif\u001b[0m \u001b[0mlen\u001b[0m\u001b[0;34m(\u001b[0m\u001b[0mcls\u001b[0m\u001b[0;34m)\u001b[0m \u001b[0;34m<\u001b[0m \u001b[0;36m2\u001b[0m\u001b[0;34m:\u001b[0m\u001b[0;34m\u001b[0m\u001b[0;34m\u001b[0m\u001b[0m\n\u001b[0;32m--> 720\u001b[0;31m             raise ValueError(\n\u001b[0m\u001b[1;32m    721\u001b[0m                 \u001b[0;34m\"The number of classes has to be greater than one; got %d class\"\u001b[0m\u001b[0;34m\u001b[0m\u001b[0;34m\u001b[0m\u001b[0m\n\u001b[1;32m    722\u001b[0m                 \u001b[0;34m%\u001b[0m \u001b[0mlen\u001b[0m\u001b[0;34m(\u001b[0m\u001b[0mcls\u001b[0m\u001b[0;34m)\u001b[0m\u001b[0;34m\u001b[0m\u001b[0;34m\u001b[0m\u001b[0m\n",
            "\u001b[0;31mValueError\u001b[0m: The number of classes has to be greater than one; got 1 class"
          ]
        }
      ]
    },
    {
      "cell_type": "code",
      "source": [
        "accuracy=accuracy_score(y_valid1,y_pred_sk)\n",
        "precision=precision_score(y_valid1,y_pred_sk)\n",
        "recall=recall_score(y_valid1,y_pred_sk)\n",
        "f1=f1_score(y_valid1,y_pred_sk)\n",
        "print('accuracy',accuracy)\n",
        "print('precision',precision)\n",
        "print('recall',recall)\n",
        "print('f1',f1)"
      ],
      "metadata": {
        "colab": {
          "base_uri": "https://localhost:8080/",
          "height": 235
        },
        "id": "OeNtpfeaBOEv",
        "outputId": "96284223-b6fd-4756-d38f-097c67e4b84a"
      },
      "execution_count": null,
      "outputs": [
        {
          "output_type": "error",
          "ename": "NameError",
          "evalue": "ignored",
          "traceback": [
            "\u001b[0;31m---------------------------------------------------------------------------\u001b[0m",
            "\u001b[0;31mNameError\u001b[0m                                 Traceback (most recent call last)",
            "\u001b[0;32m<ipython-input-31-3cb61016d712>\u001b[0m in \u001b[0;36m<module>\u001b[0;34m\u001b[0m\n\u001b[0;32m----> 1\u001b[0;31m \u001b[0maccuracy\u001b[0m\u001b[0;34m=\u001b[0m\u001b[0maccuracy_score\u001b[0m\u001b[0;34m(\u001b[0m\u001b[0my_valid1\u001b[0m\u001b[0;34m,\u001b[0m\u001b[0my_pred_sk\u001b[0m\u001b[0;34m)\u001b[0m\u001b[0;34m\u001b[0m\u001b[0;34m\u001b[0m\u001b[0m\n\u001b[0m\u001b[1;32m      2\u001b[0m \u001b[0mprecision\u001b[0m\u001b[0;34m=\u001b[0m\u001b[0mprecision_score\u001b[0m\u001b[0;34m(\u001b[0m\u001b[0my_valid1\u001b[0m\u001b[0;34m,\u001b[0m\u001b[0my_pred_sk\u001b[0m\u001b[0;34m)\u001b[0m\u001b[0;34m\u001b[0m\u001b[0;34m\u001b[0m\u001b[0m\n\u001b[1;32m      3\u001b[0m \u001b[0mrecall\u001b[0m\u001b[0;34m=\u001b[0m\u001b[0mrecall_score\u001b[0m\u001b[0;34m(\u001b[0m\u001b[0my_valid1\u001b[0m\u001b[0;34m,\u001b[0m\u001b[0my_pred_sk\u001b[0m\u001b[0;34m)\u001b[0m\u001b[0;34m\u001b[0m\u001b[0;34m\u001b[0m\u001b[0m\n\u001b[1;32m      4\u001b[0m \u001b[0mf1\u001b[0m\u001b[0;34m=\u001b[0m\u001b[0mf1_score\u001b[0m\u001b[0;34m(\u001b[0m\u001b[0my_valid1\u001b[0m\u001b[0;34m,\u001b[0m\u001b[0my_pred_sk\u001b[0m\u001b[0;34m)\u001b[0m\u001b[0;34m\u001b[0m\u001b[0;34m\u001b[0m\u001b[0m\n\u001b[1;32m      5\u001b[0m \u001b[0mprint\u001b[0m\u001b[0;34m(\u001b[0m\u001b[0;34m'accuracy'\u001b[0m\u001b[0;34m,\u001b[0m\u001b[0maccuracy\u001b[0m\u001b[0;34m)\u001b[0m\u001b[0;34m\u001b[0m\u001b[0;34m\u001b[0m\u001b[0m\n",
            "\u001b[0;31mNameError\u001b[0m: name 'y_pred_sk' is not defined"
          ]
        }
      ]
    },
    {
      "cell_type": "code",
      "source": [
        "from matplotlib.colors import ListedColormap\n",
        "import matplotlib.patches as mpatches\n",
        "def decision_region(X,y,model,step=0.01,\n",
        "                    title='decision region',\n",
        "                    xlabel='xlabel',\n",
        "                    ylabel='ylabel',\n",
        "                    target_names=['versicolor', 'virginica']):\n",
        "    \n",
        "    # setting\n",
        "    scatter_color = ['red', 'blue']\n",
        "    contourf_color = ['pink', 'skyblue']\n",
        "    n_class = 2\n",
        "    mesh_f0, mesh_f1  = np.meshgrid(np.arange(np.min(X[:,0])-0.5, np.max(X[:,0])+0.5, step), np.arange(np.min(X[:,1])-0.5, np.max(X[:,1])+0.5, step))\n",
        "    mesh = np.c_[np.ravel(mesh_f0),np.ravel(mesh_f1)]\n",
        "    y_pred = model.predict(mesh).reshape(mesh_f0.shape)\n",
        "    \n",
        "    # plot\n",
        "    plt.title(title)\n",
        "    plt.xlabel(xlabel)\n",
        "    plt.ylabel(ylabel)\n",
        "    plt.contourf(mesh_f0, mesh_f1, y_pred, n_class-1, cmap=ListedColormap(contourf_color))\n",
        "    plt.contour(mesh_f0, mesh_f1, y_pred, n_class-1, colors='y', linewidths=3, alpha=0.5)\n",
        "    for i, target in enumerate(set(y)):\n",
        "        plt.scatter(X[y==target][:, 0], X[y==target][:, 1], s=80, color=scatter_color[i], label=target_names[i], marker='o')\n",
        "    patches = [mpatches.Patch(color=scatter_color[i], label=target_names[i]) for i in range(n_class)]\n",
        "    plt.scatter(model.X_sv[:,0],model.X_sv[:,1],color='yellow',s=80,label='support_vector')\n",
        "    plt.legend(handles=patches)\n",
        "    plt.legend()\n",
        "  "
      ],
      "metadata": {
        "id": "zOFz24GkCDoa"
      },
      "execution_count": null,
      "outputs": []
    },
    {
      "cell_type": "code",
      "source": [
        "fig,ax=plt.subplots(figsize=(12,12))\n",
        "plt.rcParams[\"font.size\"]=20\n",
        "print('Number of support_vector:',clf1.n_support_vectors)\n",
        "decision_region(X_train1,y_train1,clf1,title='TRAIN',target_names=['-1','1'])\n",
        "plt.scatter(X_valid1[:,0] ,X_valid1[:,1],s=80,label='valid')\n",
        "plt.legend();"
      ],
      "metadata": {
        "colab": {
          "base_uri": "https://localhost:8080/",
          "height": 947
        },
        "id": "5MCv9wCIECvb",
        "outputId": "dc3e6eff-9c38-43bf-ed97-4b956535a59e"
      },
      "execution_count": null,
      "outputs": [
        {
          "output_type": "error",
          "ename": "NameError",
          "evalue": "ignored",
          "traceback": [
            "\u001b[0;31m---------------------------------------------------------------------------\u001b[0m",
            "\u001b[0;31mNameError\u001b[0m                                 Traceback (most recent call last)",
            "\u001b[0;32m<ipython-input-34-b74cc639182c>\u001b[0m in \u001b[0;36m<module>\u001b[0;34m\u001b[0m\n\u001b[1;32m      1\u001b[0m \u001b[0mfig\u001b[0m\u001b[0;34m,\u001b[0m\u001b[0max\u001b[0m\u001b[0;34m=\u001b[0m\u001b[0mplt\u001b[0m\u001b[0;34m.\u001b[0m\u001b[0msubplots\u001b[0m\u001b[0;34m(\u001b[0m\u001b[0mfigsize\u001b[0m\u001b[0;34m=\u001b[0m\u001b[0;34m(\u001b[0m\u001b[0;36m12\u001b[0m\u001b[0;34m,\u001b[0m\u001b[0;36m12\u001b[0m\u001b[0;34m)\u001b[0m\u001b[0;34m)\u001b[0m\u001b[0;34m\u001b[0m\u001b[0;34m\u001b[0m\u001b[0m\n\u001b[1;32m      2\u001b[0m \u001b[0mplt\u001b[0m\u001b[0;34m.\u001b[0m\u001b[0mrcParams\u001b[0m\u001b[0;34m[\u001b[0m\u001b[0;34m\"font.size\"\u001b[0m\u001b[0;34m]\u001b[0m\u001b[0;34m=\u001b[0m\u001b[0;36m20\u001b[0m\u001b[0;34m\u001b[0m\u001b[0;34m\u001b[0m\u001b[0m\n\u001b[0;32m----> 3\u001b[0;31m \u001b[0mprint\u001b[0m\u001b[0;34m(\u001b[0m\u001b[0;34m'Number of support_vector:'\u001b[0m\u001b[0;34m,\u001b[0m\u001b[0mclf1\u001b[0m\u001b[0;34m.\u001b[0m\u001b[0mn_support_vectors\u001b[0m\u001b[0;34m)\u001b[0m\u001b[0;34m\u001b[0m\u001b[0;34m\u001b[0m\u001b[0m\n\u001b[0m\u001b[1;32m      4\u001b[0m \u001b[0mdecision_region\u001b[0m\u001b[0;34m(\u001b[0m\u001b[0mX_train1\u001b[0m\u001b[0;34m,\u001b[0m\u001b[0my_train1\u001b[0m\u001b[0;34m,\u001b[0m\u001b[0mclf1\u001b[0m\u001b[0;34m,\u001b[0m\u001b[0mtitle\u001b[0m\u001b[0;34m=\u001b[0m\u001b[0;34m'TRAIN'\u001b[0m\u001b[0;34m,\u001b[0m\u001b[0mtarget_names\u001b[0m\u001b[0;34m=\u001b[0m\u001b[0;34m[\u001b[0m\u001b[0;34m'-1'\u001b[0m\u001b[0;34m,\u001b[0m\u001b[0;34m'1'\u001b[0m\u001b[0;34m]\u001b[0m\u001b[0;34m)\u001b[0m\u001b[0;34m\u001b[0m\u001b[0;34m\u001b[0m\u001b[0m\n\u001b[1;32m      5\u001b[0m \u001b[0mplt\u001b[0m\u001b[0;34m.\u001b[0m\u001b[0mscatter\u001b[0m\u001b[0;34m(\u001b[0m\u001b[0mX_valid1\u001b[0m\u001b[0;34m[\u001b[0m\u001b[0;34m:\u001b[0m\u001b[0;34m,\u001b[0m\u001b[0;36m0\u001b[0m\u001b[0;34m]\u001b[0m \u001b[0;34m,\u001b[0m\u001b[0mX_valid1\u001b[0m\u001b[0;34m[\u001b[0m\u001b[0;34m:\u001b[0m\u001b[0;34m,\u001b[0m\u001b[0;36m1\u001b[0m\u001b[0;34m]\u001b[0m\u001b[0;34m,\u001b[0m\u001b[0ms\u001b[0m\u001b[0;34m=\u001b[0m\u001b[0;36m80\u001b[0m\u001b[0;34m,\u001b[0m\u001b[0mlabel\u001b[0m\u001b[0;34m=\u001b[0m\u001b[0;34m'valid'\u001b[0m\u001b[0;34m)\u001b[0m\u001b[0;34m\u001b[0m\u001b[0;34m\u001b[0m\u001b[0m\n",
            "\u001b[0;31mNameError\u001b[0m: name 'clf1' is not defined"
          ]
        },
        {
          "output_type": "display_data",
          "data": {
            "text/plain": [
              "<Figure size 864x864 with 1 Axes>"
            ],
            "image/png": "[encoded data removed]"
          },
          "metadata": {
            "needs_background": "light"
          }
        }
      ]
    },
    {
      "cell_type": "code",
      "source": [
        "clfnp=ScratchSVMClassifierNumpy"
      ],
      "metadata": {
        "id": "m53a1uRkF1mg"
      },
      "execution_count": null,
      "outputs": []
    }
  ]
}