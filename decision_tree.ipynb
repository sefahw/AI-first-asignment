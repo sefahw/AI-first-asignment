{
  "cells": [
    {
      "cell_type": "markdown",
      "metadata": {
        "id": "view-in-github",
        "colab_type": "text"
      },
      "source": [
        "<a href=\"https://colab.research.google.com/github/sefahw/AI-first-asignment/blob/master/decision_tree.ipynb\" target=\"_parent\"><img src=\"https://colab.research.google.com/assets/colab-badge.svg\" alt=\"Open In Colab\"/></a>"
      ]
    },
    {
      "cell_type": "code",
      "execution_count": 1,
      "metadata": {
        "id": "RqfkfamV24Q0"
      },
      "outputs": [],
      "source": [
        "import numpy as np\n",
        "import matplotlib.pyplot as plt\n",
        "import statistics"
      ]
    },
    {
      "cell_type": "code",
      "execution_count": 2,
      "metadata": {
        "id": "SH9_lQgXiosV"
      },
      "outputs": [],
      "source": [
        "class ScratchDecesionTreeClassifierDepth1():\n",
        "    \"\"\"\n",
        "    Scratch Implementation of a Decision Tree Classifier with Depth 1\n",
        "    Parameters\n",
        "    ----------\n",
        "    verbose : bool\n",
        "      True if you want to output the learning process.\n",
        "    \"\"\"\n",
        "    \n",
        "    def __init__(self, verbose=False):\n",
        "        # Record hyperparameters as attributes\n",
        "        self.verbose = verbose\n",
        "    \n",
        "    def _gini(self,X):\n",
        "        \"\"\"\n",
        "        Calculating Gini Impurity\n",
        "        Parameters\n",
        "        ----------\n",
        "        X : ndarray, shape (n_samples,) of the following form\n",
        "            Label value of training data\n",
        "        \"\"\"\n",
        "        unique,count = np.unique(X,return_counts=True)\n",
        "        tmp = 0\n",
        "        \n",
        "        for i in unique:\n",
        "            tmp += (count[unique==i]/np.sum(count))**2\n",
        "        \n",
        "        return 1-tmp\n",
        "        \n",
        "    def fit(self, X, y):\n",
        "        \"\"\"\n",
        "        Train a decision tree classifier.\n",
        "        Parameters\n",
        "        ----------\n",
        "        X : ndarray, shape (n_samples, n_features) of the following form\n",
        "            Features of training data\n",
        "        y : ndarray, shape (n_samples, ) of the following form\n",
        "            Correct answer value of training data\n",
        "        \"\"\"\n",
        "        \n",
        "        feature_num = X.shape[1]\n",
        "        \n",
        "        self.gain = 0\n",
        "        for i in range(feature_num):\n",
        "            self.threshold = np.unique(X[:,i])\n",
        "            \n",
        "            for j in self.threshold[1:]:\n",
        "                l = y[X[:,i] < j]\n",
        "                r = y[X[:,i] >=j]\n",
        "                \n",
        "                gini_l = len(l)/(len(l)+len(r))*self._gini(l)\n",
        "                gini_r = len(r)/(len(l)+len(r))*self._gini(r)\n",
        "                \n",
        "                tmp = self._gini(y) -gini_l -gini_r\n",
        "                \n",
        "                if tmp > self.gain:\n",
        "                    self.l_label = statistics.mode(l)\n",
        "                    self.r_label = statistics.mode(r)\n",
        "                    self.feature = i\n",
        "                    self.threshold = j\n",
        "                    self.gain = tmp\n",
        "                    \n",
        "                    #When verbose is set to true, output the learning process.\n",
        "                    if self.verbose:\n",
        "                        print('feature',self.feature,\n",
        "                              'threshold',self.threshold,\n",
        "                              'gain',self.gain)\n",
        "            \n",
        "    def predict(self, X):\n",
        "        \"\"\"\n",
        "        Estimate labels using a decision tree classifier.\n",
        "        \"\"\"\n",
        "        \n",
        "        return np.where(X[:,self.feature] < self.threshold,self.l_label,self.r_label)\n",
        "\n",
        "\n",
        "\n",
        "\n",
        "\n",
        "\n",
        "\n",
        "\n",
        "\n",
        "\n"
      ]
    },
    {
      "cell_type": "code",
      "execution_count": 3,
      "metadata": {
        "id": "rqrnUdxkioxW"
      },
      "outputs": [],
      "source": [
        "from matplotlib.colors import ListedColormap\n",
        "import matplotlib.patches as mpatches\n",
        "def decision_region(X,y,model,step=0.01,\n",
        "                    title='decision region',\n",
        "                    xlabel='xlabel',\n",
        "                    ylabel='ylabel',\n",
        "                    target_names=['versicolor', 'virginica']):\n",
        "    \n",
        "    # setting\n",
        "    scatter_color = ['red', 'blue']\n",
        "    contourf_color = ['pink', 'skyblue']\n",
        "    n_class = 2\n",
        "    mesh_f0, mesh_f1  = np.meshgrid(np.arange(np.min(X[:,0])-0.5, np.max(X[:,0])+0.5, step), np.arange(np.min(X[:,1])-0.5, np.max(X[:,1])+0.5, step))\n",
        "    mesh = np.c_[np.ravel(mesh_f0),np.ravel(mesh_f1)]\n",
        "    y_pred = model.predict(mesh).reshape(mesh_f0.shape)\n",
        "    \n",
        "    # plot\n",
        "    plt.title(title)\n",
        "    plt.xlabel(xlabel)\n",
        "    plt.ylabel(ylabel)\n",
        "    plt.contourf(mesh_f0, mesh_f1, y_pred, n_class-1, cmap=ListedColormap(contourf_color))\n",
        "    plt.contour(mesh_f0, mesh_f1, y_pred, n_class-1, colors='y', linewidths=3, alpha=0.5)\n",
        "    for i, target in enumerate(set(y)):\n",
        "        plt.scatter(X[y==target][:, 0], X[y==target][:, 1], s=80, color=scatter_color[i], label=target_names[i], marker='o')\n",
        "    patches = [mpatches.Patch(color=scatter_color[i], label=target_names[i]) for i in range(n_class)]\n",
        "    plt.legend(handles=patches)\n",
        "    plt.legend()\n",
        "    plt.show()"
      ]
    },
    {
      "cell_type": "code",
      "execution_count": 4,
      "metadata": {
        "colab": {
          "base_uri": "https://localhost:8080/"
        },
        "id": "XWMxsWw3yCVF",
        "outputId": "2b0839ad-2f33-4357-8715-e5408f923c09"
      },
      "outputs": [
        {
          "output_type": "stream",
          "name": "stdout",
          "text": [
            "threshold_value [-1  0  1  2  4]\n"
          ]
        }
      ],
      "source": [
        "X=np.array([0,2,1,-1,4])\n",
        "y=np.array([0,0,0,1,1])\n",
        "\n",
        "threshold_value=np.unique(X)\n",
        "print('threshold_value',threshold_value)"
      ]
    },
    {
      "cell_type": "code",
      "execution_count": 5,
      "metadata": {
        "colab": {
          "base_uri": "https://localhost:8080/"
        },
        "id": "LVfyXsely-OC",
        "outputId": "155d8c9b-2e6c-4d62-f4b7-2b6f9676e6aa"
      },
      "outputs": [
        {
          "output_type": "stream",
          "name": "stdout",
          "text": [
            "unique [0 1] unique_counts [3 2]\n"
          ]
        }
      ],
      "source": [
        "u,counts=np.unique(y,return_counts=True)\n",
        "print('unique',u,'unique_counts',counts)\n"
      ]
    },
    {
      "cell_type": "code",
      "execution_count": 6,
      "metadata": {
        "id": "llSxYvm8zv4j"
      },
      "outputs": [],
      "source": [
        "def _gini(X):\n",
        "    unique,count= np.unique(X, return_counts=True)\n",
        "    tmp=0\n",
        "    for i in unique:\n",
        "        tmp+=(count[unique==i]/np.sum(count))**2\n",
        "    return 1-tmp"
      ]
    },
    {
      "cell_type": "code",
      "execution_count": 7,
      "metadata": {
        "colab": {
          "base_uri": "https://localhost:8080/"
        },
        "id": "hCSIeKGj0TBT",
        "outputId": "f9a009e2-98cb-4570-fa24-30ba884532e7"
      },
      "outputs": [
        {
          "output_type": "stream",
          "name": "stdout",
          "text": [
            "0 c1 [1] c2 [0 0 0 1]\n",
            "0 gini_left: [0.] gini_right: [0.375]\n",
            "1 c1 [0 1] c2 [0 0 1]\n",
            "1 gini_left: [0.5] gini_right: [0.44444444]\n",
            "2 c1 [0 0 1] c2 [0 1]\n",
            "2 gini_left: [0.44444444] gini_right: [0.5]\n",
            "4 c1 [0 0 0 1] c2 [1]\n",
            "4 gini_left: [0.375] gini_right: [0.]\n"
          ]
        }
      ],
      "source": [
        "for i in threshold_value[1:]:\n",
        "               c1=y[X <i]\n",
        "               c2=y[X >=i]\n",
        "\n",
        "\n",
        "               print(i,'c1',c1,'c2',c2)\n",
        "               print(i,'gini_left:',_gini(c1),'gini_right:',_gini(c2))"
      ]
    },
    {
      "cell_type": "code",
      "execution_count": 8,
      "metadata": {
        "colab": {
          "base_uri": "https://localhost:8080/"
        },
        "id": "F6Xz4WYv3xkk",
        "outputId": "5295a1e8-0bf8-42d6-bd97-cf022c66b5f8"
      },
      "outputs": [
        {
          "output_type": "stream",
          "name": "stdout",
          "text": [
            "0 [0.5]\n",
            "1 [0.33333333]\n",
            "2 [0.33333333]\n",
            "4 [0.5]\n"
          ]
        }
      ],
      "source": [
        "for i in threshold_value[1:]:\n",
        "               c1=y[X <i]\n",
        "               c2=y[X >=i]\n",
        "               left=len(c1)/(len(c1)+len(c2))*_gini(c1)\n",
        "               right=len(c2)/(len(c1)+len(c2))*_gini(c2)\n",
        "               gain=_gini(X)-left-right\n",
        "               print(i,gain)\n"
      ]
    },
    {
      "cell_type": "code",
      "execution_count": 9,
      "metadata": {
        "id": "61rkvlKh4ppX"
      },
      "outputs": [],
      "source": [
        "X=np.array([[-0.44699,-2.807],[-1.4621,-2.4586],\n",
        "            [0.10645,1.9242],[-3.5944,-4.0112],\n",
        "            [0.9888,4.5718],[-3.1625,-3.9606],\n",
        "            [0.56421,0.72888],[-0.60216,8.4636],\n",
        "            [-0.61251,-0.75345],[-0.73535,-2.2718],\n",
        "            [-0.80647,-2.2135],[0.86291,2.5946],\n",
        "            [-3.11108,0.15394],[-2.9362,2.5462],\n",
        "            [-0.57242,-2.9915],[1.4771,3.4896],\n",
        "            [-0.58619,0.37158],[0.6017,4.3439],\n",
        "            [-2.1086,8.3428],[-410113,-4.353],\n",
        "            [-1.9948,-1.3927],[0.35084,-0.031994],\n",
        "            [0.96765,7.8929],[-1.281,15.6824],\n",
        "            [0.96765,10.083],[1.3763,1.3347],\n",
        "            [-2.3234,-2.5323],[-2.9452,-1.8219],\n",
        "            [0.14654,-0.28733],[0.5461,5.8245],\n",
        "            [-0.65259,9.3444],[0.59912,5.3524],\n",
        "            [0.50214,-0.31818],[-3.0603,-3.6461],\n",
        "            [-6.6797,0.67661],[-2.353,-0.72261],\n",
        "            [1.1319,2.4023],[-0.12243,9.0162],\n",
        "            [-2.5677,13.1779],[0.057313,5.4681]\n",
        "            ])\n",
        "y=np.array([0,0,0,0,0,0,0,0,0,0,0,0,0,0,0,0,0,0,0,0,\n",
        "            1,1,1,1,1,1,1,1,1,1,1,1,1,1,1,1,1,1,1,1])"
      ]
    },
    {
      "cell_type": "code",
      "execution_count": 10,
      "metadata": {
        "colab": {
          "base_uri": "https://localhost:8080/",
          "height": 483
        },
        "id": "cUh84ZjqP1Oo",
        "outputId": "b7ffe576-234c-46af-ff20-9f9d627004f3"
      },
      "outputs": [
        {
          "output_type": "display_data",
          "data": {
            "text/plain": [
              "<Figure size 864x576 with 1 Axes>"
            ],
            "image/png": "[encoded data removed]"
          },
          "metadata": {
            "needs_background": "light"
          }
        }
      ],
      "source": [
        "fig=plt.subplots(figsize=(12,8))\n",
        "plt.rcParams[\"font.size\"]=20\n",
        "plt.scatter(X[y==1,0] ,X[y==1,1],s=80,label='y=1')\n",
        "plt.scatter(X[y==0,0] ,X[y==0,1],s=80,label='y=0')\n",
        "plt.legend();"
      ]
    },
    {
      "cell_type": "code",
      "execution_count": 11,
      "metadata": {
        "colab": {
          "base_uri": "https://localhost:8080/"
        },
        "id": "GjVabTouRY5v",
        "outputId": "14b0ca58-c6c2-4d7c-d0c4-9d424ceb8b21"
      },
      "outputs": [
        {
          "output_type": "stream",
          "name": "stdout",
          "text": [
            "(32, 2)\n",
            "(32,)\n",
            "(8, 2)\n",
            "(8,)\n"
          ]
        }
      ],
      "source": [
        "from sklearn.model_selection  import train_test_split\n",
        "X_train,X_valid,y_train,y_valid=\\\n",
        "train_test_split(X,y,train_size=0.8,random_state=None)\n",
        "\n",
        "print(X_train.shape)\n",
        "print(y_train.shape)\n",
        "print(X_valid.shape)\n",
        "print(y_valid.shape)"
      ]
    },
    {
      "cell_type": "code",
      "execution_count": 12,
      "metadata": {
        "colab": {
          "base_uri": "https://localhost:8080/"
        },
        "id": "ReHz5NR6Tfcq",
        "outputId": "4103323d-d3b3-469e-c02f-2fffcd2c50cb"
      },
      "outputs": [
        {
          "output_type": "stream",
          "name": "stdout",
          "text": [
            "feature 0 threshold -6.6797 gain [0.01820817]\n",
            "feature 0 threshold -3.0603 gain [0.02260045]\n",
            "feature 0 threshold 0.96765 gain [0.02675058]\n",
            "feature 1 threshold -3.6461 gain [0.03763021]\n",
            "feature 1 threshold 4.3439 gain [0.04025467]\n",
            "feature 1 threshold 5.4681 gain [0.06566051]\n",
            "feature 1 threshold 9.0162 gain [0.08138021]\n"
          ]
        }
      ],
      "source": [
        "clf1 = ScratchDecesionTreeClassifierDepth1(verbose=True)\n",
        "\n",
        "clf1.fit(X_train,y_train)\n",
        "y_pred=clf1.predict(X_valid)\n",
        "  "
      ]
    },
    {
      "cell_type": "code",
      "execution_count": 13,
      "metadata": {
        "id": "x4WmRZ4z4bpj"
      },
      "outputs": [],
      "source": [
        "from sklearn.tree import DecisionTreeClassifier \n",
        "\n",
        "\n",
        "clf2 =DecisionTreeClassifier(max_depth=1)\n",
        "\n",
        "clf2.fit(X_train,y_train)\n",
        "\n",
        "y_pred2=clf2.predict(X_valid)\n"
      ]
    },
    {
      "cell_type": "code",
      "execution_count": 14,
      "metadata": {
        "id": "eCUi3_frT1Lj"
      },
      "outputs": [],
      "source": [
        "y_pred=clf2.predict(X_valid)"
      ]
    },
    {
      "cell_type": "code",
      "execution_count": 15,
      "metadata": {
        "colab": {
          "base_uri": "https://localhost:8080/"
        },
        "id": "jXUxrVd0Xbji",
        "outputId": "6be4284d-6548-4c61-86fb-4c09be375edd"
      },
      "outputs": [
        {
          "output_type": "stream",
          "name": "stdout",
          "text": [
            "[0 0 0 0 0 0 0 0]\n",
            "[[ 0.50214 -0.31818]\n",
            " [ 0.59912  5.3524 ]\n",
            " [-1.9948  -1.3927 ]\n",
            " [-0.73535 -2.2718 ]\n",
            " [-3.5944  -4.0112 ]\n",
            " [-0.44699 -2.807  ]\n",
            " [-0.58619  0.37158]\n",
            " [ 0.9888   4.5718 ]]\n"
          ]
        }
      ],
      "source": [
        "print(y_pred)\n",
        "print(X_valid)"
      ]
    },
    {
      "cell_type": "code",
      "execution_count": 16,
      "metadata": {
        "colab": {
          "base_uri": "https://localhost:8080/"
        },
        "id": "FiB5WoKTWdac",
        "outputId": "30d0458d-4048-435e-c9bb-9801fa993d74"
      },
      "outputs": [
        {
          "output_type": "stream",
          "name": "stdout",
          "text": [
            "accuracy 0.625\n",
            "precision 0.0\n",
            "recall 0.0\n",
            "f1 0.0\n"
          ]
        },
        {
          "output_type": "stream",
          "name": "stderr",
          "text": [
            "/usr/local/lib/python3.8/dist-packages/sklearn/metrics/_classification.py:1318: UndefinedMetricWarning: Precision is ill-defined and being set to 0.0 due to no predicted samples. Use `zero_division` parameter to control this behavior.\n",
            "  _warn_prf(average, modifier, msg_start, len(result))\n"
          ]
        }
      ],
      "source": [
        "from sklearn.metrics import accuracy_score\n",
        "from sklearn.metrics import precision_score\n",
        "from sklearn.metrics import  recall_score\n",
        "from sklearn.metrics import f1_score\n",
        "accuracy=accuracy_score(y_valid,y_pred)\n",
        "precision=precision_score(y_valid,y_pred)\n",
        "recall=recall_score(y_valid,y_pred)\n",
        "f1=f1_score(y_valid,y_pred)\n",
        "print('accuracy',accuracy)\n",
        "print('precision',precision)\n",
        "print('recall',recall)\n",
        "print('f1',f1)"
      ]
    },
    {
      "cell_type": "code",
      "execution_count": 5,
      "metadata": {
        "id": "2ZxAN5NiYNPu",
        "colab": {
          "base_uri": "https://localhost:8080/",
          "height": 900
        },
        "outputId": "6063e3bc-45c7-4606-95a4-eeeea46a8db5"
      },
      "outputs": [
        {
          "output_type": "error",
          "ename": "NameError",
          "evalue": "ignored",
          "traceback": [
            "\u001b[0;31m---------------------------------------------------------------------------\u001b[0m",
            "\u001b[0;31mNameError\u001b[0m                                 Traceback (most recent call last)",
            "\u001b[0;32m<ipython-input-5-c032628ef95c>\u001b[0m in \u001b[0;36m<module>\u001b[0;34m\u001b[0m\n\u001b[1;32m      1\u001b[0m \u001b[0mfit\u001b[0m\u001b[0;34m,\u001b[0m\u001b[0max\u001b[0m\u001b[0;34m=\u001b[0m\u001b[0mplt\u001b[0m\u001b[0;34m.\u001b[0m\u001b[0msubplots\u001b[0m\u001b[0;34m(\u001b[0m\u001b[0mfigsize\u001b[0m\u001b[0;34m=\u001b[0m\u001b[0;34m(\u001b[0m\u001b[0;36m12\u001b[0m\u001b[0;34m,\u001b[0m\u001b[0;36m12\u001b[0m\u001b[0;34m)\u001b[0m\u001b[0;34m)\u001b[0m\u001b[0;34m\u001b[0m\u001b[0;34m\u001b[0m\u001b[0m\n\u001b[1;32m      2\u001b[0m \u001b[0mplt\u001b[0m\u001b[0;34m.\u001b[0m\u001b[0mrcParams\u001b[0m\u001b[0;34m[\u001b[0m\u001b[0;34m\"font.size\"\u001b[0m\u001b[0;34m]\u001b[0m\u001b[0;34m=\u001b[0m\u001b[0;36m20\u001b[0m\u001b[0;34m\u001b[0m\u001b[0;34m\u001b[0m\u001b[0m\n\u001b[0;32m----> 3\u001b[0;31m \u001b[0mdecision_region\u001b[0m\u001b[0;34m(\u001b[0m\u001b[0mX_train\u001b[0m\u001b[0;34m,\u001b[0m\u001b[0my_train\u001b[0m\u001b[0;34m,\u001b[0m\u001b[0mclf1\u001b[0m\u001b[0;34m,\u001b[0m\u001b[0mtarget_names\u001b[0m\u001b[0;34m=\u001b[0m\u001b[0;34m[\u001b[0m\u001b[0;34m'0'\u001b[0m\u001b[0;34m,\u001b[0m\u001b[0;34m'1'\u001b[0m\u001b[0;34m]\u001b[0m\u001b[0;34m,\u001b[0m\u001b[0mtitle\u001b[0m\u001b[0;34m=\u001b[0m\u001b[0;34m'TRAIN'\u001b[0m\u001b[0;34m)\u001b[0m\u001b[0;34m\u001b[0m\u001b[0;34m\u001b[0m\u001b[0m\n\u001b[0m",
            "\u001b[0;31mNameError\u001b[0m: name 'X_train' is not defined"
          ]
        },
        {
          "output_type": "display_data",
          "data": {
            "text/plain": [
              "<Figure size 864x864 with 1 Axes>"
            ],
            "image/png": "[encoded data removed]"
          },
          "metadata": {
            "needs_background": "light"
          }
        }
      ],
      "source": [
        "\n",
        "fit,ax=plt.subplots(figsize=(12,12))\n",
        "plt.rcParams[\"font.size\"]=20\n",
        "decision_region(X_train,y_train,clf1,target_names=['0','1'],title='TRAIN')"
      ]
    },
    {
      "cell_type": "code",
      "execution_count": 6,
      "metadata": {
        "id": "eKW1XpQ17x7s",
        "colab": {
          "base_uri": "https://localhost:8080/",
          "height": 183
        },
        "outputId": "17351ab3-842c-4bf6-e5d1-8dac4f506307"
      },
      "outputs": [
        {
          "output_type": "error",
          "ename": "NameError",
          "evalue": "ignored",
          "traceback": [
            "\u001b[0;31m---------------------------------------------------------------------------\u001b[0m",
            "\u001b[0;31mNameError\u001b[0m                                 Traceback (most recent call last)",
            "\u001b[0;32m<ipython-input-6-e3ceda4410cd>\u001b[0m in \u001b[0;36m<module>\u001b[0;34m\u001b[0m\n\u001b[0;32m----> 1\u001b[0;31m \u001b[0mprint\u001b[0m\u001b[0;34m(\u001b[0m\u001b[0my_pred\u001b[0m\u001b[0;34m)\u001b[0m\u001b[0;34m\u001b[0m\u001b[0;34m\u001b[0m\u001b[0m\n\u001b[0m\u001b[1;32m      2\u001b[0m \u001b[0mprint\u001b[0m\u001b[0;34m(\u001b[0m\u001b[0my_valid\u001b[0m\u001b[0;34m)\u001b[0m\u001b[0;34m\u001b[0m\u001b[0;34m\u001b[0m\u001b[0m\n",
            "\u001b[0;31mNameError\u001b[0m: name 'y_pred' is not defined"
          ]
        }
      ],
      "source": [
        "print(y_pred)\n",
        "print(y_valid)"
      ]
    },
    {
      "cell_type": "code",
      "execution_count": 7,
      "metadata": {
        "id": "vNPsiaAY8w3y",
        "colab": {
          "base_uri": "https://localhost:8080/",
          "height": 235
        },
        "outputId": "6a22238a-d291-4423-d66b-81febbb52902"
      },
      "outputs": [
        {
          "output_type": "error",
          "ename": "NameError",
          "evalue": "ignored",
          "traceback": [
            "\u001b[0;31m---------------------------------------------------------------------------\u001b[0m",
            "\u001b[0;31mNameError\u001b[0m                                 Traceback (most recent call last)",
            "\u001b[0;32m<ipython-input-7-8a820c419afa>\u001b[0m in \u001b[0;36m<module>\u001b[0;34m\u001b[0m\n\u001b[1;32m      3\u001b[0m \u001b[0;32mfrom\u001b[0m \u001b[0msklearn\u001b[0m\u001b[0;34m.\u001b[0m\u001b[0mmetrics\u001b[0m \u001b[0;32mimport\u001b[0m  \u001b[0mrecall_score\u001b[0m\u001b[0;34m\u001b[0m\u001b[0;34m\u001b[0m\u001b[0m\n\u001b[1;32m      4\u001b[0m \u001b[0;32mfrom\u001b[0m \u001b[0msklearn\u001b[0m\u001b[0;34m.\u001b[0m\u001b[0mmetrics\u001b[0m \u001b[0;32mimport\u001b[0m \u001b[0mf1_score\u001b[0m\u001b[0;34m\u001b[0m\u001b[0;34m\u001b[0m\u001b[0m\n\u001b[0;32m----> 5\u001b[0;31m \u001b[0maccuracy\u001b[0m\u001b[0;34m=\u001b[0m\u001b[0maccuracy_score\u001b[0m\u001b[0;34m(\u001b[0m\u001b[0my_valid\u001b[0m\u001b[0;34m,\u001b[0m\u001b[0my_pred\u001b[0m\u001b[0;34m)\u001b[0m\u001b[0;34m\u001b[0m\u001b[0;34m\u001b[0m\u001b[0m\n\u001b[0m\u001b[1;32m      6\u001b[0m \u001b[0mprecision\u001b[0m\u001b[0;34m=\u001b[0m\u001b[0mprecision_score\u001b[0m\u001b[0;34m(\u001b[0m\u001b[0my_valid\u001b[0m\u001b[0;34m,\u001b[0m\u001b[0my_pred\u001b[0m\u001b[0;34m)\u001b[0m\u001b[0;34m\u001b[0m\u001b[0;34m\u001b[0m\u001b[0m\n\u001b[1;32m      7\u001b[0m \u001b[0mrecall\u001b[0m\u001b[0;34m=\u001b[0m\u001b[0mrecall_score\u001b[0m\u001b[0;34m(\u001b[0m\u001b[0my_valid\u001b[0m\u001b[0;34m,\u001b[0m\u001b[0my_pred\u001b[0m\u001b[0;34m)\u001b[0m\u001b[0;34m\u001b[0m\u001b[0;34m\u001b[0m\u001b[0m\n",
            "\u001b[0;31mNameError\u001b[0m: name 'y_valid' is not defined"
          ]
        }
      ],
      "source": [
        "from sklearn.metrics import accuracy_score\n",
        "from sklearn.metrics import precision_score\n",
        "from sklearn.metrics import  recall_score\n",
        "from sklearn.metrics import f1_score\n",
        "accuracy=accuracy_score(y_valid,y_pred)\n",
        "precision=precision_score(y_valid,y_pred)\n",
        "recall=recall_score(y_valid,y_pred)\n",
        "f1=f1_score(y_valid,y_pred)\n",
        "print('accuracy',accuracy)\n",
        "print('precision',precision)\n",
        "print('recall',recall)\n",
        "print('f1',f1)"
      ]
    },
    {
      "cell_type": "code",
      "execution_count": 8,
      "metadata": {
        "id": "ZCgpRjpWRZLw",
        "colab": {
          "base_uri": "https://localhost:8080/",
          "height": 900
        },
        "outputId": "3c8a1998-42f6-423d-f752-20d7bdf6041b"
      },
      "outputs": [
        {
          "output_type": "error",
          "ename": "NameError",
          "evalue": "ignored",
          "traceback": [
            "\u001b[0;31m---------------------------------------------------------------------------\u001b[0m",
            "\u001b[0;31mNameError\u001b[0m                                 Traceback (most recent call last)",
            "\u001b[0;32m<ipython-input-8-ece05bd751de>\u001b[0m in \u001b[0;36m<module>\u001b[0;34m\u001b[0m\n\u001b[1;32m      1\u001b[0m \u001b[0mfit\u001b[0m\u001b[0;34m,\u001b[0m\u001b[0max\u001b[0m\u001b[0;34m=\u001b[0m\u001b[0mplt\u001b[0m\u001b[0;34m.\u001b[0m\u001b[0msubplots\u001b[0m\u001b[0;34m(\u001b[0m\u001b[0mfigsize\u001b[0m\u001b[0;34m=\u001b[0m\u001b[0;34m(\u001b[0m\u001b[0;36m12\u001b[0m\u001b[0;34m,\u001b[0m\u001b[0;36m12\u001b[0m\u001b[0;34m)\u001b[0m\u001b[0;34m)\u001b[0m\u001b[0;34m\u001b[0m\u001b[0;34m\u001b[0m\u001b[0m\n\u001b[1;32m      2\u001b[0m \u001b[0mplt\u001b[0m\u001b[0;34m.\u001b[0m\u001b[0mrcParams\u001b[0m\u001b[0;34m[\u001b[0m\u001b[0;34m\"font.size\"\u001b[0m\u001b[0;34m]\u001b[0m\u001b[0;34m=\u001b[0m\u001b[0;36m20\u001b[0m\u001b[0;34m\u001b[0m\u001b[0;34m\u001b[0m\u001b[0m\n\u001b[0;32m----> 3\u001b[0;31m \u001b[0mdecision_region\u001b[0m\u001b[0;34m(\u001b[0m\u001b[0mX_train\u001b[0m\u001b[0;34m,\u001b[0m\u001b[0my_train\u001b[0m\u001b[0;34m,\u001b[0m\u001b[0mclf2\u001b[0m\u001b[0;34m,\u001b[0m\u001b[0mtarget_names\u001b[0m\u001b[0;34m=\u001b[0m\u001b[0;34m[\u001b[0m\u001b[0;34m'0'\u001b[0m\u001b[0;34m,\u001b[0m\u001b[0;34m'1'\u001b[0m\u001b[0;34m]\u001b[0m\u001b[0;34m,\u001b[0m\u001b[0mtitle\u001b[0m\u001b[0;34m=\u001b[0m\u001b[0;34m'TRAIN'\u001b[0m\u001b[0;34m)\u001b[0m\u001b[0;34m\u001b[0m\u001b[0;34m\u001b[0m\u001b[0m\n\u001b[0m",
            "\u001b[0;31mNameError\u001b[0m: name 'X_train' is not defined"
          ]
        },
        {
          "output_type": "display_data",
          "data": {
            "text/plain": [
              "<Figure size 864x864 with 1 Axes>"
            ],
            "image/png": "[encoded data removed]"
          },
          "metadata": {
            "needs_background": "light"
          }
        }
      ],
      "source": [
        "fit,ax=plt.subplots(figsize=(12,12))\n",
        "plt.rcParams[\"font.size\"]=20\n",
        "decision_region(X_train,y_train,clf2,target_names=['0','1'],title='TRAIN')"
      ]
    },
    {
      "cell_type": "code",
      "execution_count": 9,
      "metadata": {
        "id": "dvoTaU454Jtq",
        "colab": {
          "base_uri": "https://localhost:8080/",
          "height": 235
        },
        "outputId": "5966a40f-1e1c-408c-ab97-c560487534d2"
      },
      "outputs": [
        {
          "output_type": "error",
          "ename": "NameError",
          "evalue": "ignored",
          "traceback": [
            "\u001b[0;31m---------------------------------------------------------------------------\u001b[0m",
            "\u001b[0;31mNameError\u001b[0m                                 Traceback (most recent call last)",
            "\u001b[0;32m<ipython-input-9-248884504f1a>\u001b[0m in \u001b[0;36m<module>\u001b[0;34m\u001b[0m\n\u001b[1;32m      1\u001b[0m \u001b[0mX_train\u001b[0m\u001b[0;34m,\u001b[0m\u001b[0mX_valid\u001b[0m\u001b[0;34m,\u001b[0m \u001b[0my_train\u001b[0m\u001b[0;34m,\u001b[0m\u001b[0my_valid\u001b[0m\u001b[0;34m=\u001b[0m\u001b[0;31m\\\u001b[0m\u001b[0;34m\u001b[0m\u001b[0;34m\u001b[0m\u001b[0m\n\u001b[0;32m----> 2\u001b[0;31m \u001b[0mtrain_test_split\u001b[0m\u001b[0;34m(\u001b[0m\u001b[0mX\u001b[0m\u001b[0;34m,\u001b[0m\u001b[0my\u001b[0m\u001b[0;34m,\u001b[0m\u001b[0mtrain_size\u001b[0m\u001b[0;34m=\u001b[0m\u001b[0;36m0.8\u001b[0m\u001b[0;34m,\u001b[0m\u001b[0mrandom_state\u001b[0m\u001b[0;34m=\u001b[0m\u001b[0;32mNone\u001b[0m\u001b[0;34m)\u001b[0m\u001b[0;34m\u001b[0m\u001b[0;34m\u001b[0m\u001b[0m\n\u001b[0m\u001b[1;32m      3\u001b[0m \u001b[0;34m\u001b[0m\u001b[0m\n\u001b[1;32m      4\u001b[0m \u001b[0mprint\u001b[0m\u001b[0;34m(\u001b[0m\u001b[0mX_train\u001b[0m\u001b[0;34m.\u001b[0m\u001b[0mshape\u001b[0m\u001b[0;34m)\u001b[0m\u001b[0;34m\u001b[0m\u001b[0;34m\u001b[0m\u001b[0m\n\u001b[1;32m      5\u001b[0m \u001b[0mprint\u001b[0m\u001b[0;34m(\u001b[0m\u001b[0my_train\u001b[0m\u001b[0;34m.\u001b[0m\u001b[0mshape\u001b[0m\u001b[0;34m)\u001b[0m\u001b[0;34m\u001b[0m\u001b[0;34m\u001b[0m\u001b[0m\n",
            "\u001b[0;31mNameError\u001b[0m: name 'train_test_split' is not defined"
          ]
        }
      ],
      "source": [
        "X_train,X_valid, y_train,y_valid=\\\n",
        "train_test_split(X,y,train_size=0.8,random_state=None)\n",
        "\n",
        "print(X_train.shape)\n",
        "print(y_train.shape)\n",
        "print(X_valid.shape)\n",
        "print(y_valid.shape)"
      ]
    },
    {
      "cell_type": "code",
      "execution_count": 10,
      "metadata": {
        "id": "ZVu37O6z-cJQ"
      },
      "outputs": [],
      "source": [
        "from numpy.lib import unique\n",
        "class node():\n",
        "      def __init__(self,max_depth=None,verbose=False):\n",
        "        self.verbose=verbose\n",
        "        self.max_depth=max_depth\n",
        "        self.feature=None\n",
        "      def _separate(self,X,y,depth):\n",
        "        self.depth=depth\n",
        "        features=X.shape[1]\n",
        "        if len(np.unique(y))==1:\n",
        "           self.label=np.unique(y)[0]\n",
        "           return\n",
        "        if self.depth==self.max_depth:\n",
        "           self.label=statistics.mode(y)\n",
        "           return\n",
        "        self.gain=0 \n",
        "        for feature_number in range(features):\n",
        "            threshold=np.unique(X[:,feature_number])\n",
        "            for threshold_value in threshold[1:]:\n",
        "                l=y[X[:,feature_number]<threshold_value]\n",
        "                r=y[X[:,feature_number]>=threshold_value]\n",
        "\n",
        "\n",
        "                gini_l = len(l)/(len(l)+len(r))*self._gini(l)\n",
        "                gini_r = len(r)/(len(l)+len(r))*self._gini(r)\n",
        "\n",
        "                gain_tmp = self._gini(y) -gini_l -gini_r\n",
        "\n",
        "                \n",
        "                if gain_tmp > self.gain:\n",
        "                    self.feature = feature_number\n",
        "                    self.threshold = threshold_value\n",
        "                    self.gain=gain_tmp\n",
        "        if self.verbose:\n",
        "           print('depth',self.depth,\n",
        "                    'feature',self.feature,\n",
        "                   'threshold',self.threshold,\n",
        "                      'gain',self.gain)\n",
        "        l_X=X[X[:,self.feature]<self.threshold]\n",
        "        l_y=y[X[:,self.feature]<self.threshold]\n",
        "        self.left=Node(self.max_depth,self.verbose)\n",
        "        self.left._separate(l_X,l_y,depth+1)\n",
        "\n",
        "        r_X=X[X[:,self.feature]>=self.threshold]\n",
        "        r_y=y[X[:,self.feature]>=self.threshold]\n",
        "        self.left=Node(self.max_depth,self.verbose)\n",
        "        self.left._separate(r_X,r_y,depth+1)\n",
        "      def _gini(self,X):\n",
        "        unique,count=np.unique(X,return_counts=True)\n",
        "\n",
        "        impure=0\n",
        "        for i in unique:\n",
        "            impure+=(count[unique==i]/np.sum(count))**2\n",
        "        return 1-impure\n",
        "      def _predict(self,X):\n",
        "        if self.feature==None or self.depth==self.max_depth:\n",
        "           return self.label\n",
        "        else:\n",
        "          if X[self.feature]<self.threshold:\n",
        "            return self.left._predict(X)\n",
        "          else:\n",
        "             return self.right._predict(X)\n",
        "\n",
        "                    \n",
        "\n",
        "\n",
        "\n"
      ]
    },
    {
      "cell_type": "code",
      "execution_count": 11,
      "metadata": {
        "id": "cLljejH0Oaeo"
      },
      "outputs": [],
      "source": [
        "class ScratchDecisionTreeClassifier():\n",
        "      def __init__(self,max_depth=1,verbose=False):\n",
        "        self.verbose=verbose\n",
        "        self.max_depth=max_depth\n",
        "      def fit(self, X, y):\n",
        "          self.depth=0\n",
        "          self.root=node(self.max_depth,self.verbose)\n",
        "          self.root._separate(X,y,self.depth)\n",
        "      def predict(self,X):\n",
        "          y_pred=np.zeros(len(X))\n",
        "          for i,x in enumerate(X):\n",
        "              y_pred[i]= self.root._predict(x)\n",
        "          return y_pred    "
      ]
    },
    {
      "cell_type": "code",
      "execution_count": 12,
      "metadata": {
        "id": "JA8QLAg9SEP8",
        "colab": {
          "base_uri": "https://localhost:8080/",
          "height": 235
        },
        "outputId": "102e3b2b-b702-463c-b342-3008d95db173"
      },
      "outputs": [
        {
          "output_type": "error",
          "ename": "NameError",
          "evalue": "ignored",
          "traceback": [
            "\u001b[0;31m---------------------------------------------------------------------------\u001b[0m",
            "\u001b[0;31mNameError\u001b[0m                                 Traceback (most recent call last)",
            "\u001b[0;32m<ipython-input-12-c5f6965a758c>\u001b[0m in \u001b[0;36m<module>\u001b[0;34m\u001b[0m\n\u001b[1;32m      1\u001b[0m \u001b[0mclf3\u001b[0m\u001b[0;34m=\u001b[0m\u001b[0mScratchDecisionTreeClassifier\u001b[0m\u001b[0;34m(\u001b[0m\u001b[0mmax_depth\u001b[0m\u001b[0;34m=\u001b[0m\u001b[0;36m2\u001b[0m\u001b[0;34m,\u001b[0m\u001b[0mverbose\u001b[0m\u001b[0;34m=\u001b[0m\u001b[0;32mFalse\u001b[0m\u001b[0;34m)\u001b[0m\u001b[0;34m\u001b[0m\u001b[0;34m\u001b[0m\u001b[0m\n\u001b[0;32m----> 2\u001b[0;31m \u001b[0mclf3\u001b[0m\u001b[0;34m.\u001b[0m\u001b[0mfit\u001b[0m\u001b[0;34m(\u001b[0m\u001b[0mX_train\u001b[0m\u001b[0;34m,\u001b[0m\u001b[0my_train\u001b[0m\u001b[0;34m)\u001b[0m\u001b[0;34m\u001b[0m\u001b[0;34m\u001b[0m\u001b[0m\n\u001b[0m\u001b[1;32m      3\u001b[0m \u001b[0;34m\u001b[0m\u001b[0m\n\u001b[1;32m      4\u001b[0m \u001b[0my_pred3\u001b[0m\u001b[0;34m=\u001b[0m\u001b[0mclf3\u001b[0m\u001b[0;34m.\u001b[0m\u001b[0mpredict\u001b[0m\u001b[0;34m(\u001b[0m\u001b[0mX_valid\u001b[0m\u001b[0;34m)\u001b[0m\u001b[0;34m\u001b[0m\u001b[0;34m\u001b[0m\u001b[0m\n\u001b[1;32m      5\u001b[0m \u001b[0;34m\u001b[0m\u001b[0m\n",
            "\u001b[0;31mNameError\u001b[0m: name 'X_train' is not defined"
          ]
        }
      ],
      "source": [
        "clf3=ScratchDecisionTreeClassifier(max_depth=2,verbose=False)\n",
        "clf3.fit(X_train,y_train)\n",
        "\n",
        "y_pred3=clf3.predict(X_valid)\n",
        " \n",
        "\n",
        "print(y_pred3)"
      ]
    },
    {
      "cell_type": "code",
      "execution_count": 13,
      "metadata": {
        "id": "ZAb2MUmDUmyx",
        "colab": {
          "base_uri": "https://localhost:8080/",
          "height": 900
        },
        "outputId": "3eec9417-9fcb-4fd8-a257-2a07e0708ca3"
      },
      "outputs": [
        {
          "output_type": "error",
          "ename": "NameError",
          "evalue": "ignored",
          "traceback": [
            "\u001b[0;31m---------------------------------------------------------------------------\u001b[0m",
            "\u001b[0;31mNameError\u001b[0m                                 Traceback (most recent call last)",
            "\u001b[0;32m<ipython-input-13-74563cfea664>\u001b[0m in \u001b[0;36m<module>\u001b[0;34m\u001b[0m\n\u001b[1;32m      1\u001b[0m \u001b[0mfit\u001b[0m\u001b[0;34m,\u001b[0m\u001b[0max\u001b[0m\u001b[0;34m=\u001b[0m\u001b[0mplt\u001b[0m\u001b[0;34m.\u001b[0m\u001b[0msubplots\u001b[0m\u001b[0;34m(\u001b[0m\u001b[0mfigsize\u001b[0m\u001b[0;34m=\u001b[0m\u001b[0;34m(\u001b[0m\u001b[0;36m12\u001b[0m\u001b[0;34m,\u001b[0m\u001b[0;36m12\u001b[0m\u001b[0;34m)\u001b[0m\u001b[0;34m)\u001b[0m\u001b[0;34m\u001b[0m\u001b[0;34m\u001b[0m\u001b[0m\n\u001b[1;32m      2\u001b[0m \u001b[0mplt\u001b[0m\u001b[0;34m.\u001b[0m\u001b[0mrcParams\u001b[0m\u001b[0;34m[\u001b[0m\u001b[0;34m\"font.size\"\u001b[0m\u001b[0;34m]\u001b[0m\u001b[0;34m=\u001b[0m\u001b[0;36m20\u001b[0m\u001b[0;34m\u001b[0m\u001b[0;34m\u001b[0m\u001b[0m\n\u001b[0;32m----> 3\u001b[0;31m \u001b[0mdecision_region\u001b[0m\u001b[0;34m(\u001b[0m\u001b[0mX_train\u001b[0m\u001b[0;34m,\u001b[0m\u001b[0my_train\u001b[0m\u001b[0;34m,\u001b[0m\u001b[0mclf3\u001b[0m\u001b[0;34m,\u001b[0m\u001b[0mtarget_names\u001b[0m\u001b[0;34m=\u001b[0m\u001b[0;34m[\u001b[0m\u001b[0;34m'0'\u001b[0m\u001b[0;34m,\u001b[0m\u001b[0;34m'1'\u001b[0m\u001b[0;34m]\u001b[0m\u001b[0;34m,\u001b[0m\u001b[0mtitle\u001b[0m\u001b[0;34m=\u001b[0m\u001b[0;34m'TRAIN'\u001b[0m\u001b[0;34m)\u001b[0m\u001b[0;34m\u001b[0m\u001b[0;34m\u001b[0m\u001b[0m\n\u001b[0m",
            "\u001b[0;31mNameError\u001b[0m: name 'X_train' is not defined"
          ]
        },
        {
          "output_type": "display_data",
          "data": {
            "text/plain": [
              "<Figure size 864x864 with 1 Axes>"
            ],
            "image/png": "[encoded data removed]"
          },
          "metadata": {
            "needs_background": "light"
          }
        }
      ],
      "source": [
        "fit,ax=plt.subplots(figsize=(12,12))\n",
        "plt.rcParams[\"font.size\"]=20\n",
        "decision_region(X_train,y_train,clf3,target_names=['0','1'],title='TRAIN')"
      ]
    },
    {
      "cell_type": "code",
      "execution_count": 14,
      "metadata": {
        "id": "vXge0c8EVNv9",
        "colab": {
          "base_uri": "https://localhost:8080/",
          "height": 235
        },
        "outputId": "b6e4934f-2bf5-43de-82f5-841a3deea4fd"
      },
      "outputs": [
        {
          "output_type": "error",
          "ename": "NameError",
          "evalue": "ignored",
          "traceback": [
            "\u001b[0;31m---------------------------------------------------------------------------\u001b[0m",
            "\u001b[0;31mNameError\u001b[0m                                 Traceback (most recent call last)",
            "\u001b[0;32m<ipython-input-14-230725368eb8>\u001b[0m in \u001b[0;36m<module>\u001b[0;34m\u001b[0m\n\u001b[1;32m      1\u001b[0m \u001b[0mclf5\u001b[0m\u001b[0;34m=\u001b[0m\u001b[0mScratchDecisionTreeClassifier\u001b[0m\u001b[0;34m(\u001b[0m\u001b[0mmax_depth\u001b[0m\u001b[0;34m=\u001b[0m\u001b[0;32mNone\u001b[0m\u001b[0;34m,\u001b[0m\u001b[0mverbose\u001b[0m\u001b[0;34m=\u001b[0m\u001b[0;32mFalse\u001b[0m\u001b[0;34m)\u001b[0m\u001b[0;34m\u001b[0m\u001b[0;34m\u001b[0m\u001b[0m\n\u001b[0;32m----> 2\u001b[0;31m \u001b[0mclf5\u001b[0m\u001b[0;34m.\u001b[0m\u001b[0mfit\u001b[0m\u001b[0;34m(\u001b[0m\u001b[0mX_train\u001b[0m\u001b[0;34m,\u001b[0m\u001b[0my_train\u001b[0m\u001b[0;34m)\u001b[0m\u001b[0;34m\u001b[0m\u001b[0;34m\u001b[0m\u001b[0m\n\u001b[0m\u001b[1;32m      3\u001b[0m \u001b[0;34m\u001b[0m\u001b[0m\n\u001b[1;32m      4\u001b[0m \u001b[0my_pred5\u001b[0m\u001b[0;34m=\u001b[0m\u001b[0mclf5\u001b[0m\u001b[0;34m.\u001b[0m\u001b[0mpredict\u001b[0m\u001b[0;34m(\u001b[0m\u001b[0mX_valid\u001b[0m\u001b[0;34m)\u001b[0m\u001b[0;34m\u001b[0m\u001b[0;34m\u001b[0m\u001b[0m\n\u001b[1;32m      5\u001b[0m \u001b[0;34m\u001b[0m\u001b[0m\n",
            "\u001b[0;31mNameError\u001b[0m: name 'X_train' is not defined"
          ]
        }
      ],
      "source": [
        "clf5=ScratchDecisionTreeClassifier(max_depth=None,verbose=False)\n",
        "clf5.fit(X_train,y_train)\n",
        "\n",
        "y_pred5=clf5.predict(X_valid)\n",
        " \n",
        "\n",
        "print(y_pred5)"
      ]
    }
  ],
  "metadata": {
    "colab": {
      "provenance": [],
      "authorship_tag": "ABX9TyMTTv1WOX69CxreXv67tRar",
      "include_colab_link": true
    },
    "kernelspec": {
      "display_name": "Python 3",
      "name": "python3"
    },
    "language_info": {
      "name": "python"
    }
  },
  "nbformat": 4,
  "nbformat_minor": 0
}