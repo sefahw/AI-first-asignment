{
  "nbformat": 4,
  "nbformat_minor": 0,
  "metadata": {
    "colab": {
      "provenance": [],
      "authorship_tag": "ABX9TyOHNEIivT4Mvfoa4Gt0D26I",
      "include_colab_link": true
    },
    "kernelspec": {
      "name": "python3",
      "display_name": "Python 3"
    },
    "language_info": {
      "name": "python"
    }
  },
  "cells": [
    {
      "cell_type": "markdown",
      "metadata": {
        "id": "view-in-github",
        "colab_type": "text"
      },
      "source": [
        "<a href=\"https://colab.research.google.com/github/sefahw/AI-first-asignment/blob/master/decision_tree.ipynb\" target=\"_parent\"><img src=\"https://colab.research.google.com/assets/colab-badge.svg\" alt=\"Open In Colab\"/></a>"
      ]
    },
    {
      "cell_type": "code",
      "execution_count": 1,
      "metadata": {
        "id": "RqfkfamV24Q0"
      },
      "outputs": [],
      "source": [
        "import numpy as np\n",
        "import matplotlib.pyplot as plt\n",
        "import statistics"
      ]
    },
    {
      "cell_type": "code",
      "source": [
        "from re import VERBOSE\n",
        "from numpy.lib.arraysetops import unique\n",
        "class ScratchDecesionTreeClassifierDepth1():\n",
        "  def __init__(self, verbose=False):\n",
        "     self.verbose = verbose\n",
        "\n",
        "  def _gini(self, X):\n",
        "    unique,count= np.unique(X, return_counts=True)\n",
        "    tmp=0\n",
        "    for i in unique:\n",
        "        tmp+=(count[unique==i]/np.sum(count))**2\n",
        "    return 1-tmp\n",
        "  def fit(X, y):\n",
        "      feature_num=X.shape[1]\n",
        "      gain= 0\n",
        "      for i in range(feature_num):\n",
        "           threshold=np.unique(X[:,i])\n",
        "           for j in threshold[1,:]:\n",
        "               l=y[X[:,i]<j]\n",
        "               r=y[X[:,i]>=j]\n",
        "               gini_l=len(l)/len(l)+len(r)*_gini(l)\n",
        "               gini_r=len(r)/len(l)+len(r)*_gini(r)\n",
        "               tmp=_gini(y)-gini_l-gini_r\n",
        "               if tmp> gain:\n",
        "                  l_label=statistics.mode(l)\n",
        "                  r_label=statistics.mode(r)\n",
        "                  feature=l\n",
        "                  threshold=j\n",
        "                  gain=tmp\n",
        "                  if VERBOSE:\n",
        "                     print('feature',feature,\n",
        "                           'treshold',threshold,\n",
        "                           'gain',gain)\n",
        "  def predict(self, X): \n",
        "      return np.where(X[:,self.feature]<self.threshold,self.l_label,self.r_label) \n"
      ],
      "metadata": {
        "id": "SH9_lQgXiosV"
      },
      "execution_count": 2,
      "outputs": []
    },
    {
      "cell_type": "code",
      "source": [
        "from matplotlib.colors import ListedColormap\n",
        "import matplotlib.patches as mpatches\n",
        "def decision_region(X,y,model,step=0.01,\n",
        "                    title='decision region',\n",
        "                    xlabel='xlabel',\n",
        "                    ylabel='ylabel',\n",
        "                    target_names=['versicolor', 'virginica']):\n",
        "    \n",
        "    # setting\n",
        "    scatter_color = ['red', 'blue']\n",
        "    contourf_color = ['pink', 'skyblue']\n",
        "    n_class = 2\n",
        "    mesh_f0, mesh_f1  = np.meshgrid(np.arange(np.min(X[:,0])-0.5, np.max(X[:,0])+0.5, step), np.arange(np.min(X[:,1])-0.5, np.max(X[:,1])+0.5, step))\n",
        "    mesh = np.c_[np.ravel(mesh_f0),np.ravel(mesh_f1)]\n",
        "    y_pred = model.predict(mesh).reshape(mesh_f0.shape)\n",
        "    \n",
        "    # plot\n",
        "    plt.title(title)\n",
        "    plt.xlabel(xlabel)\n",
        "    plt.ylabel(ylabel)\n",
        "    plt.contourf(mesh_f0, mesh_f1, y_pred, n_class-1, cmap=ListedColormap(contourf_color))\n",
        "    plt.contour(mesh_f0, mesh_f1, y_pred, n_class-1, colors='y', linewidths=3, alpha=0.5)\n",
        "    for i, target in enumerate(set(y)):\n",
        "        plt.scatter(X[y==target][:, 0], X[y==target][:, 1], s=80, color=scatter_color[i], label=target_names[i], marker='o')\n",
        "    patches = [mpatches.Patch(color=scatter_color[i], label=target_names[i]) for i in range(n_class)]\n",
        "    plt.legend(handles=patches)\n",
        "    plt.legend()\n",
        "    plt.show()"
      ],
      "metadata": {
        "id": "rqrnUdxkioxW"
      },
      "execution_count": 3,
      "outputs": []
    },
    {
      "cell_type": "code",
      "source": [
        "X=np.array([0,2,1,-1,4])\n",
        "y=np.array([0,0,0,1,1])\n",
        "\n",
        "threshold_value=np.unique(X)\n",
        "print('threshold_value',threshold_value)"
      ],
      "metadata": {
        "colab": {
          "base_uri": "https://localhost:8080/"
        },
        "id": "XWMxsWw3yCVF",
        "outputId": "a911300f-e32b-4f36-ea15-e63b85fcda9e"
      },
      "execution_count": 4,
      "outputs": [
        {
          "output_type": "stream",
          "name": "stdout",
          "text": [
            "threshold_value [-1  0  1  2  4]\n"
          ]
        }
      ]
    },
    {
      "cell_type": "code",
      "source": [
        "u,counts=np.unique(y,return_counts=True)\n",
        "print('unique',u,'unique_counts',counts)\n"
      ],
      "metadata": {
        "colab": {
          "base_uri": "https://localhost:8080/"
        },
        "id": "LVfyXsely-OC",
        "outputId": "0f650485-24ce-4736-c516-e944b5ac761b"
      },
      "execution_count": 5,
      "outputs": [
        {
          "output_type": "stream",
          "name": "stdout",
          "text": [
            "unique [0 1] unique_counts [3 2]\n"
          ]
        }
      ]
    },
    {
      "cell_type": "code",
      "source": [
        "def _gini(X):\n",
        "    unique,count= np.unique(X, return_counts=True)\n",
        "    tmp=0\n",
        "    for i in unique:\n",
        "        tmp+=(count[unique==i]/np.sum(count))**2\n",
        "    return 1-tmp"
      ],
      "metadata": {
        "id": "llSxYvm8zv4j"
      },
      "execution_count": 6,
      "outputs": []
    },
    {
      "cell_type": "code",
      "source": [
        "for i in threshold_value[1:]:\n",
        "               c1=y[X <i]\n",
        "               c2=y[X >=i]\n",
        "\n",
        "\n",
        "               print(i,'c1',c1,'c2',c2)\n",
        "               print(i,'gini_left:',_gini(c1),'gini_right:',_gini(c2))"
      ],
      "metadata": {
        "colab": {
          "base_uri": "https://localhost:8080/"
        },
        "id": "hCSIeKGj0TBT",
        "outputId": "fd174824-2e37-4b03-91c1-faf91f8dcd1f"
      },
      "execution_count": 7,
      "outputs": [
        {
          "output_type": "stream",
          "name": "stdout",
          "text": [
            "0 c1 [1] c2 [0 0 0 1]\n",
            "0 gini_left: [0.] gini_right: [0.375]\n",
            "1 c1 [0 1] c2 [0 0 1]\n",
            "1 gini_left: [0.5] gini_right: [0.44444444]\n",
            "2 c1 [0 0 1] c2 [0 1]\n",
            "2 gini_left: [0.44444444] gini_right: [0.5]\n",
            "4 c1 [0 0 0 1] c2 [1]\n",
            "4 gini_left: [0.375] gini_right: [0.]\n"
          ]
        }
      ]
    },
    {
      "cell_type": "code",
      "source": [
        "for i in threshold_value[1:]:\n",
        "               c1=y[X <i]\n",
        "               c2=y[X >=i]\n",
        "               left=len(c1)/(len(c1)+len(c2))*_gini(c1)\n",
        "               right=len(c2)/(len(c1)+len(c2))*_gini(c2)\n",
        "               gain=_gini(X)-left-right\n",
        "               print(i,gain)\n"
      ],
      "metadata": {
        "colab": {
          "base_uri": "https://localhost:8080/"
        },
        "id": "F6Xz4WYv3xkk",
        "outputId": "1aff537e-b1c8-432b-a952-d6de35de3ba2"
      },
      "execution_count": 8,
      "outputs": [
        {
          "output_type": "stream",
          "name": "stdout",
          "text": [
            "0 [0.5]\n",
            "1 [0.33333333]\n",
            "2 [0.33333333]\n",
            "4 [0.5]\n"
          ]
        }
      ]
    },
    {
      "cell_type": "code",
      "source": [
        "X=np.array([[-0.44699,-2.807],[-1.4621,-2.4586],\n",
        "            [0.10645,1.9242],[-3.5944,-4.0112],\n",
        "            [0.9888,4.5718],[-3.1625,-3.9606],\n",
        "            [0.56421,0.72888],[-0.60216,8.4636],\n",
        "            [-0.61251,-0.75345],[-0.73535,-2.2718],\n",
        "            [-0.80647,-2.2135],[0.86291,2.5946],\n",
        "            [-3.11108,0.15394],[-2.9362,2.5462],\n",
        "            [-0.57242,-2.9915],[1.4771,3.4896],\n",
        "            [-0.58619,0.37158],[0.6017,4.3439],\n",
        "            [-2.1086,8.3428],[-410113,-4.353],\n",
        "            [-1.9948,-1.3927],[0.35084,-0.031994],\n",
        "            [0.96765,7.8929],[-1.281,15.6824],\n",
        "            [0.96765,10.083],[1.3763,1.3347],\n",
        "            [-2.3234,-2.5323],[-2.9452,-1.8219],\n",
        "            [0.14654,-0.28733],[0.5461,5.8245],\n",
        "            [-0.65259,9.3444],[0.59912,5.3524],\n",
        "            [0.50214,-0.31818],[-3.0603,-3.6461],\n",
        "            [-6.6797,0.67661],[-2.353,-0.72261],\n",
        "            [1.1319,2.4023],[-0.12243,9.0162],\n",
        "            [-2.5677,13.1779],[0.057313,5.4681]\n",
        "            ])\n",
        "y=np.array([0,0,0,0,0,0,0,0,0,0,0,0,0,0,0,0,0,0,0,0,\n",
        "            1,1,1,1,1,1,1,1,1,1,1,1,1,1,1,1,1,1,1,1])"
      ],
      "metadata": {
        "id": "61rkvlKh4ppX"
      },
      "execution_count": 9,
      "outputs": []
    },
    {
      "cell_type": "code",
      "source": [
        "fig=plt.subplots(figsize=(12,8))\n",
        "plt.rcParams[\"font.size\"]=20\n",
        "plt.scatter(X[y==1,0] ,X[y==1,1],s=80,label='y=1')\n",
        "plt.scatter(X[y==0,0] ,X[y==0,1],s=80,label='y=0')\n",
        "plt.legend();"
      ],
      "metadata": {
        "colab": {
          "base_uri": "https://localhost:8080/",
          "height": 483
        },
        "id": "cUh84ZjqP1Oo",
        "outputId": "15e164ef-0c5d-4579-9f40-2d244eca6a25"
      },
      "execution_count": 10,
      "outputs": [
        {
          "output_type": "display_data",
          "data": {
            "text/plain": [
              "<Figure size 864x576 with 1 Axes>"
            ],
            "image/png": "[encoded data removed]"
          },
          "metadata": {
            "needs_background": "light"
          }
        }
      ]
    },
    {
      "cell_type": "code",
      "source": [
        "from sklearn.model_selection  import train_test_split\n",
        "X_train,X_valid,y_train,y_valid=\\\n",
        "train_test_split(X,y,train_size=0.8,random_state=None)\n",
        "\n",
        "print(X_train.shape)\n",
        "print(y_train.shape)\n",
        "print(X_valid.shape)\n",
        "print(y_valid.shape)"
      ],
      "metadata": {
        "colab": {
          "base_uri": "https://localhost:8080/"
        },
        "id": "GjVabTouRY5v",
        "outputId": "81c8b206-b905-4c0a-f2ac-ff0df596b5e3"
      },
      "execution_count": 11,
      "outputs": [
        {
          "output_type": "stream",
          "name": "stdout",
          "text": [
            "(32, 2)\n",
            "(32,)\n",
            "(8, 2)\n",
            "(8,)\n"
          ]
        }
      ]
    },
    {
      "cell_type": "code",
      "source": [
        "clf1 = ScratchDecesionTreeClassifierDepth1(verbose=False)\n",
        "clf1.fit(X_train,y_train)\n",
        "  "
      ],
      "metadata": {
        "colab": {
          "base_uri": "https://localhost:8080/",
          "height": 200
        },
        "id": "ReHz5NR6Tfcq",
        "outputId": "22bdfef1-fb91-4724-b184-cf2fe3f62276"
      },
      "execution_count": 18,
      "outputs": [
        {
          "output_type": "error",
          "ename": "TypeError",
          "evalue": "ignored",
          "traceback": [
            "\u001b[0;31m---------------------------------------------------------------------------\u001b[0m",
            "\u001b[0;31mTypeError\u001b[0m                                 Traceback (most recent call last)",
            "\u001b[0;32m<ipython-input-18-cb50e92cc9e5>\u001b[0m in \u001b[0;36m<module>\u001b[0;34m\u001b[0m\n\u001b[1;32m      1\u001b[0m \u001b[0mclf1\u001b[0m \u001b[0;34m=\u001b[0m \u001b[0mScratchDecesionTreeClassifierDepth1\u001b[0m\u001b[0;34m(\u001b[0m\u001b[0mverbose\u001b[0m\u001b[0;34m=\u001b[0m\u001b[0;32mFalse\u001b[0m\u001b[0;34m)\u001b[0m\u001b[0;34m\u001b[0m\u001b[0;34m\u001b[0m\u001b[0m\n\u001b[0;32m----> 2\u001b[0;31m \u001b[0mclf1\u001b[0m\u001b[0;34m.\u001b[0m\u001b[0mfit\u001b[0m\u001b[0;34m(\u001b[0m\u001b[0mX_train\u001b[0m\u001b[0;34m,\u001b[0m\u001b[0my_train\u001b[0m\u001b[0;34m)\u001b[0m\u001b[0;34m\u001b[0m\u001b[0;34m\u001b[0m\u001b[0m\n\u001b[0m\u001b[1;32m      3\u001b[0m \u001b[0;34m\u001b[0m\u001b[0m\n",
            "\u001b[0;31mTypeError\u001b[0m: fit() takes 2 positional arguments but 3 were given"
          ]
        }
      ]
    },
    {
      "cell_type": "code",
      "source": [
        "y_pred=clf1.predict(X_valid)"
      ],
      "metadata": {
        "colab": {
          "base_uri": "https://localhost:8080/",
          "height": 252
        },
        "id": "eCUi3_frT1Lj",
        "outputId": "6e4984f5-4e15-460a-9f01-ae0911e14c88"
      },
      "execution_count": 15,
      "outputs": [
        {
          "output_type": "error",
          "ename": "AttributeError",
          "evalue": "ignored",
          "traceback": [
            "\u001b[0;31m---------------------------------------------------------------------------\u001b[0m",
            "\u001b[0;31mAttributeError\u001b[0m                            Traceback (most recent call last)",
            "\u001b[0;32m<ipython-input-15-cd81de656a3d>\u001b[0m in \u001b[0;36m<module>\u001b[0;34m\u001b[0m\n\u001b[0;32m----> 1\u001b[0;31m \u001b[0my_pred\u001b[0m\u001b[0;34m=\u001b[0m\u001b[0mclf1\u001b[0m\u001b[0;34m.\u001b[0m\u001b[0mpredict\u001b[0m\u001b[0;34m(\u001b[0m\u001b[0mX_valid\u001b[0m\u001b[0;34m)\u001b[0m\u001b[0;34m\u001b[0m\u001b[0;34m\u001b[0m\u001b[0m\n\u001b[0m",
            "\u001b[0;32m<ipython-input-2-35f790998c10>\u001b[0m in \u001b[0;36mpredict\u001b[0;34m(self, X)\u001b[0m\n\u001b[1;32m     33\u001b[0m                            'gain',gain)\n\u001b[1;32m     34\u001b[0m   \u001b[0;32mdef\u001b[0m \u001b[0mpredict\u001b[0m\u001b[0;34m(\u001b[0m\u001b[0mself\u001b[0m\u001b[0;34m,\u001b[0m \u001b[0mX\u001b[0m\u001b[0;34m)\u001b[0m\u001b[0;34m:\u001b[0m\u001b[0;34m\u001b[0m\u001b[0;34m\u001b[0m\u001b[0m\n\u001b[0;32m---> 35\u001b[0;31m       \u001b[0;32mreturn\u001b[0m \u001b[0mnp\u001b[0m\u001b[0;34m.\u001b[0m\u001b[0mwhere\u001b[0m\u001b[0;34m(\u001b[0m\u001b[0mX\u001b[0m\u001b[0;34m[\u001b[0m\u001b[0;34m:\u001b[0m\u001b[0;34m,\u001b[0m\u001b[0mself\u001b[0m\u001b[0;34m.\u001b[0m\u001b[0mfeature\u001b[0m\u001b[0;34m]\u001b[0m\u001b[0;34m<\u001b[0m\u001b[0mself\u001b[0m\u001b[0;34m.\u001b[0m\u001b[0mthreshold\u001b[0m\u001b[0;34m,\u001b[0m\u001b[0mself\u001b[0m\u001b[0;34m.\u001b[0m\u001b[0ml_label\u001b[0m\u001b[0;34m,\u001b[0m\u001b[0mself\u001b[0m\u001b[0;34m.\u001b[0m\u001b[0mr_label\u001b[0m\u001b[0;34m)\u001b[0m\u001b[0;34m\u001b[0m\u001b[0;34m\u001b[0m\u001b[0m\n\u001b[0m",
            "\u001b[0;31mAttributeError\u001b[0m: 'ScratchDecesionTreeClassifierDepth1' object has no attribute 'feature'"
          ]
        }
      ]
    },
    {
      "cell_type": "code",
      "source": [
        "print(y_pred)\n",
        "print(X_valid)"
      ],
      "metadata": {
        "id": "jXUxrVd0Xbji"
      },
      "execution_count": null,
      "outputs": []
    },
    {
      "cell_type": "code",
      "source": [
        "from sklearn.metrics import accuracy_score\n",
        "from sklearn.metrics import precision_score\n",
        "from sklearn.metrics import  recall_score\n",
        "from sklearn.metrics import f1_score\n",
        "accuracy=accuracy_score(y_valid,y_pred)\n",
        "precision=precision_score(y_valid,y_pred)\n",
        "recall=recall_score(y_valid,y_pred)\n",
        "f1=f1_score(y_valid,y_pred)\n",
        "print('accuracy',accuracy)\n",
        "print('precision',precision)\n",
        "print('recall',recall)\n",
        "print('f1',f1)"
      ],
      "metadata": {
        "id": "FiB5WoKTWdac"
      },
      "execution_count": null,
      "outputs": []
    },
    {
      "cell_type": "code",
      "source": [
        "fit,ax=plt.subplots(figsize=(12,12))\n",
        "plt.rcParams[\"font.size\"]=20\n",
        "decision_region(X_train,y_train,clf1,target_names=['0'   '1'],title='TRAIN')"
      ],
      "metadata": {
        "id": "2ZxAN5NiYNPu"
      },
      "execution_count": null,
      "outputs": []
    }
  ]
}